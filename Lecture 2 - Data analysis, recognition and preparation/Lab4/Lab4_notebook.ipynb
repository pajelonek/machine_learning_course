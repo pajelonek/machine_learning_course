{
 "cells": [
  {
   "cell_type": "markdown",
   "metadata": {
    "collapsed": true,
    "pycharm": {
     "name": "#%% md\n"
    }
   },
   "source": [
    "## Author: Paweł Jelonek <br> Date: 11.04.2021\n",
    "### Machine learning course:<br> Lecture 2 - Data analysis, recognition and preparation."
   ]
  },
  {
   "cell_type": "code",
   "execution_count": 18,
   "outputs": [],
   "source": [
    "import pandas as pd\n",
    "import numpy as np\n",
    "import string\n",
    "import datetime\n",
    "import statistics\n",
    "from matplotlib import pyplot as plt\n",
    "\n",
    "plt.rcParams[\"figure.figsize\"]=(20, 10)"
   ],
   "metadata": {
    "collapsed": false,
    "pycharm": {
     "name": "#%%\n"
    }
   }
  },
  {
   "cell_type": "markdown",
   "metadata": {
    "pycharm": {
     "name": "#%% md\n"
    }
   },
   "source": [
    "### 1.  Please download any dataset <br>\n",
    "Trump tweets: https://www.kaggle.com/austinreese/trump-tweets"
   ]
  },
  {
   "cell_type": "code",
   "execution_count": 9,
   "outputs": [],
   "source": [
    "trump_tweets_df = pd.read_csv('C:/Users/pawst/OneDrive/Github/machine_learning_course/Lecture 2 - Data analysis, recognition and preparation/Lab4/trumptweets.csv')"
   ],
   "metadata": {
    "collapsed": false,
    "pycharm": {
     "name": "#%%\n"
    }
   }
  },
  {
   "cell_type": "markdown",
   "metadata": {
    "pycharm": {
     "name": "#%% md\n"
    }
   },
   "source": [
    "### 2.\tIdentify the research motivation of the dataset:\n",
    "    - field: Classification\n",
    "    - problem: Get specific information based on Donald Trump tweets over a period of time.\n",
    "    - type of ML: Classification"
   ]
  },
  {
   "cell_type": "markdown",
   "source": [
    "### 3.  Visualize the feature distributions by using histograms, spread distributions, or other plots."
   ],
   "metadata": {
    "collapsed": false
   }
  },
  {
   "cell_type": "code",
   "execution_count": 10,
   "outputs": [
    {
     "data": {
      "text/plain": "           id                                               link  \\\n0  1698308935  https://twitter.com/realDonaldTrump/status/169...   \n1  1701461182  https://twitter.com/realDonaldTrump/status/170...   \n2  1737479987  https://twitter.com/realDonaldTrump/status/173...   \n3  1741160716  https://twitter.com/realDonaldTrump/status/174...   \n4  1773561338  https://twitter.com/realDonaldTrump/status/177...   \n\n                                             content                 date  \\\n0  Be sure to tune in and watch Donald Trump on L...  2009-05-04 20:54:25   \n1  Donald Trump will be appearing on The View tom...  2009-05-05 03:00:10   \n2  Donald Trump reads Top Ten Financial Tips on L...  2009-05-08 15:38:08   \n3  New Blog Post: Celebrity Apprentice Finale and...  2009-05-08 22:40:15   \n4  \"My persona will never be that of a wallflower...  2009-05-12 16:07:28   \n\n   retweets  favorites mentions hashtags  geo  \n0       500        868      NaN      NaN  NaN  \n1        33        273      NaN      NaN  NaN  \n2        12         18      NaN      NaN  NaN  \n3        11         24      NaN      NaN  NaN  \n4      1399       1965      NaN      NaN  NaN  ",
      "text/html": "<div>\n<style scoped>\n    .dataframe tbody tr th:only-of-type {\n        vertical-align: middle;\n    }\n\n    .dataframe tbody tr th {\n        vertical-align: top;\n    }\n\n    .dataframe thead th {\n        text-align: right;\n    }\n</style>\n<table border=\"1\" class=\"dataframe\">\n  <thead>\n    <tr style=\"text-align: right;\">\n      <th></th>\n      <th>id</th>\n      <th>link</th>\n      <th>content</th>\n      <th>date</th>\n      <th>retweets</th>\n      <th>favorites</th>\n      <th>mentions</th>\n      <th>hashtags</th>\n      <th>geo</th>\n    </tr>\n  </thead>\n  <tbody>\n    <tr>\n      <th>0</th>\n      <td>1698308935</td>\n      <td>https://twitter.com/realDonaldTrump/status/169...</td>\n      <td>Be sure to tune in and watch Donald Trump on L...</td>\n      <td>2009-05-04 20:54:25</td>\n      <td>500</td>\n      <td>868</td>\n      <td>NaN</td>\n      <td>NaN</td>\n      <td>NaN</td>\n    </tr>\n    <tr>\n      <th>1</th>\n      <td>1701461182</td>\n      <td>https://twitter.com/realDonaldTrump/status/170...</td>\n      <td>Donald Trump will be appearing on The View tom...</td>\n      <td>2009-05-05 03:00:10</td>\n      <td>33</td>\n      <td>273</td>\n      <td>NaN</td>\n      <td>NaN</td>\n      <td>NaN</td>\n    </tr>\n    <tr>\n      <th>2</th>\n      <td>1737479987</td>\n      <td>https://twitter.com/realDonaldTrump/status/173...</td>\n      <td>Donald Trump reads Top Ten Financial Tips on L...</td>\n      <td>2009-05-08 15:38:08</td>\n      <td>12</td>\n      <td>18</td>\n      <td>NaN</td>\n      <td>NaN</td>\n      <td>NaN</td>\n    </tr>\n    <tr>\n      <th>3</th>\n      <td>1741160716</td>\n      <td>https://twitter.com/realDonaldTrump/status/174...</td>\n      <td>New Blog Post: Celebrity Apprentice Finale and...</td>\n      <td>2009-05-08 22:40:15</td>\n      <td>11</td>\n      <td>24</td>\n      <td>NaN</td>\n      <td>NaN</td>\n      <td>NaN</td>\n    </tr>\n    <tr>\n      <th>4</th>\n      <td>1773561338</td>\n      <td>https://twitter.com/realDonaldTrump/status/177...</td>\n      <td>\"My persona will never be that of a wallflower...</td>\n      <td>2009-05-12 16:07:28</td>\n      <td>1399</td>\n      <td>1965</td>\n      <td>NaN</td>\n      <td>NaN</td>\n      <td>NaN</td>\n    </tr>\n  </tbody>\n</table>\n</div>"
     },
     "execution_count": 10,
     "metadata": {},
     "output_type": "execute_result"
    }
   ],
   "source": [
    "trump_tweets_df.head()"
   ],
   "metadata": {
    "collapsed": false,
    "pycharm": {
     "name": "#%%\n"
    }
   }
  },
  {
   "cell_type": "markdown",
   "source": [
    "### </br><center>Lets first see histograms about retweets and favourites sections over a period of time.</center></br>"
   ],
   "metadata": {
    "collapsed": false,
    "pycharm": {
     "name": "#%% md\n"
    }
   }
  },
  {
   "cell_type": "code",
   "execution_count": 42,
   "outputs": [
    {
     "data": {
      "text/plain": "<Figure size 720x360 with 2 Axes>",
      "image/png": "[encoded data removed]"
     },
     "metadata": {
      "needs_background": "light"
     },
     "output_type": "display_data"
    }
   ],
   "source": [
    "size = 10\n",
    "binsRetweets = np.linspace(0, statistics.mean(trump_tweets_df['retweets']), size)\n",
    "binsFavorites = np.linspace(0, statistics.mean(trump_tweets_df['retweets']), size)\n",
    "fig, axs = plt.subplots(1, 2, figsize=(10, 5), tight_layout=True)\n",
    "\n",
    "axs[0].hist(trump_tweets_df['retweets'], density=True, bins=binsRetweets)\n",
    "axs[0].title.set_text('Retweets')\n",
    "\n",
    "axs[1].hist(trump_tweets_df['favorites'], density=True, bins=binsFavorites)\n",
    "axs[1].title.set_text('Favorites')\n",
    "\n",
    "plt.show()"
   ],
   "metadata": {
    "collapsed": false,
    "pycharm": {
     "name": "#%%\n"
    }
   }
  },
  {
   "cell_type": "markdown",
   "source": [
    "### </br><center>Lets see plots about retweets and favourites sections over a period of time.</center></br>"
   ],
   "metadata": {
    "collapsed": false
   }
  },
  {
   "cell_type": "code",
   "execution_count": 44,
   "outputs": [
    {
     "data": {
      "text/plain": "<Figure size 720x360 with 2 Axes>",
      "image/png": "[encoded data removed]"
     },
     "metadata": {
      "needs_background": "light"
     },
     "output_type": "display_data"
    }
   ],
   "source": [
    "size = 10\n",
    "binsRetweets = np.linspace(0, statistics.mean(trump_tweets_df['retweets']), size)\n",
    "binsFavorites = np.linspace(0, statistics.mean(trump_tweets_df['retweets']), size)\n",
    "fig, axs = plt.subplots(1, 2, figsize=(10, 5), tight_layout=True)\n",
    "\n",
    "axs[0].plot(trump_tweets_df['retweets'], \"r+\")\n",
    "axs[0].title.set_text('Retweets')\n",
    "\n",
    "axs[1].plot(trump_tweets_df['favorites'], \"r+\")\n",
    "axs[1].title.set_text('Favorites')\n",
    "\n",
    "plt.show()"
   ],
   "metadata": {
    "collapsed": false,
    "pycharm": {
     "name": "#%%\n"
    }
   }
  },
  {
   "cell_type": "markdown",
   "source": [
    "### 4.\tOkreślić wartości odstające (outliers)."
   ],
   "metadata": {
    "collapsed": false
   }
  },
  {
   "cell_type": "code",
   "execution_count": 48,
   "outputs": [],
   "source": [
    "# type(trump_tweets_df['retweets'])\n",
    "def calculate_outliers_by_mean_value(data: pd.Series):\n",
    "    return statistics.mean(data)"
   ],
   "metadata": {
    "collapsed": false,
    "pycharm": {
     "name": "#%%\n"
    }
   }
  },
  {
   "cell_type": "code",
   "execution_count": 55,
   "outputs": [
    {
     "ename": "AttributeError",
     "evalue": "'Line2D' object has no property 'size'",
     "output_type": "error",
     "traceback": [
      "\u001B[1;31m---------------------------------------------------------------------------\u001B[0m",
      "\u001B[1;31mAttributeError\u001B[0m                            Traceback (most recent call last)",
      "\u001B[1;32m<ipython-input-55-14b0f0433501>\u001B[0m in \u001B[0;36m<module>\u001B[1;34m\u001B[0m\n\u001B[0;32m      5\u001B[0m \u001B[1;33m\u001B[0m\u001B[0m\n\u001B[0;32m      6\u001B[0m \u001B[0maxs\u001B[0m\u001B[1;33m[\u001B[0m\u001B[1;36m0\u001B[0m\u001B[1;33m]\u001B[0m\u001B[1;33m.\u001B[0m\u001B[0mplot\u001B[0m\u001B[1;33m(\u001B[0m\u001B[0mtrump_tweets_df\u001B[0m\u001B[1;33m[\u001B[0m\u001B[1;34m'retweets'\u001B[0m\u001B[1;33m]\u001B[0m\u001B[1;33m,\u001B[0m \u001B[1;34m\"r+\"\u001B[0m\u001B[1;33m)\u001B[0m\u001B[1;33m\u001B[0m\u001B[1;33m\u001B[0m\u001B[0m\n\u001B[1;32m----> 7\u001B[1;33m \u001B[0maxs\u001B[0m\u001B[1;33m[\u001B[0m\u001B[1;36m0\u001B[0m\u001B[1;33m]\u001B[0m\u001B[1;33m.\u001B[0m\u001B[0mplot\u001B[0m\u001B[1;33m(\u001B[0m\u001B[0mcalculate_outliers_by_mean_value\u001B[0m\u001B[1;33m(\u001B[0m\u001B[0mtrump_tweets_df\u001B[0m\u001B[1;33m[\u001B[0m\u001B[1;34m'retweets'\u001B[0m\u001B[1;33m]\u001B[0m\u001B[1;33m)\u001B[0m\u001B[1;33m,\u001B[0m \u001B[1;34m\"b+\"\u001B[0m\u001B[1;33m,\u001B[0m \u001B[0msize\u001B[0m\u001B[1;33m=\u001B[0m\u001B[1;36m15\u001B[0m\u001B[1;33m)\u001B[0m\u001B[1;33m\u001B[0m\u001B[1;33m\u001B[0m\u001B[0m\n\u001B[0m\u001B[0;32m      8\u001B[0m \u001B[0maxs\u001B[0m\u001B[1;33m[\u001B[0m\u001B[1;36m0\u001B[0m\u001B[1;33m]\u001B[0m\u001B[1;33m.\u001B[0m\u001B[0mtitle\u001B[0m\u001B[1;33m.\u001B[0m\u001B[0mset_text\u001B[0m\u001B[1;33m(\u001B[0m\u001B[1;34m'Retweets'\u001B[0m\u001B[1;33m)\u001B[0m\u001B[1;33m\u001B[0m\u001B[1;33m\u001B[0m\u001B[0m\n\u001B[0;32m      9\u001B[0m \u001B[1;33m\u001B[0m\u001B[0m\n",
      "\u001B[1;32m~\\AppData\\Local\\Programs\\Python\\Python38\\lib\\site-packages\\matplotlib\\axes\\_axes.py\u001B[0m in \u001B[0;36mplot\u001B[1;34m(self, scalex, scaley, data, *args, **kwargs)\u001B[0m\n\u001B[0;32m   1603\u001B[0m         \"\"\"\n\u001B[0;32m   1604\u001B[0m         \u001B[0mkwargs\u001B[0m \u001B[1;33m=\u001B[0m \u001B[0mcbook\u001B[0m\u001B[1;33m.\u001B[0m\u001B[0mnormalize_kwargs\u001B[0m\u001B[1;33m(\u001B[0m\u001B[0mkwargs\u001B[0m\u001B[1;33m,\u001B[0m \u001B[0mmlines\u001B[0m\u001B[1;33m.\u001B[0m\u001B[0mLine2D\u001B[0m\u001B[1;33m)\u001B[0m\u001B[1;33m\u001B[0m\u001B[1;33m\u001B[0m\u001B[0m\n\u001B[1;32m-> 1605\u001B[1;33m         \u001B[0mlines\u001B[0m \u001B[1;33m=\u001B[0m \u001B[1;33m[\u001B[0m\u001B[1;33m*\u001B[0m\u001B[0mself\u001B[0m\u001B[1;33m.\u001B[0m\u001B[0m_get_lines\u001B[0m\u001B[1;33m(\u001B[0m\u001B[1;33m*\u001B[0m\u001B[0margs\u001B[0m\u001B[1;33m,\u001B[0m \u001B[0mdata\u001B[0m\u001B[1;33m=\u001B[0m\u001B[0mdata\u001B[0m\u001B[1;33m,\u001B[0m \u001B[1;33m**\u001B[0m\u001B[0mkwargs\u001B[0m\u001B[1;33m)\u001B[0m\u001B[1;33m]\u001B[0m\u001B[1;33m\u001B[0m\u001B[1;33m\u001B[0m\u001B[0m\n\u001B[0m\u001B[0;32m   1606\u001B[0m         \u001B[1;32mfor\u001B[0m \u001B[0mline\u001B[0m \u001B[1;32min\u001B[0m \u001B[0mlines\u001B[0m\u001B[1;33m:\u001B[0m\u001B[1;33m\u001B[0m\u001B[1;33m\u001B[0m\u001B[0m\n\u001B[0;32m   1607\u001B[0m             \u001B[0mself\u001B[0m\u001B[1;33m.\u001B[0m\u001B[0madd_line\u001B[0m\u001B[1;33m(\u001B[0m\u001B[0mline\u001B[0m\u001B[1;33m)\u001B[0m\u001B[1;33m\u001B[0m\u001B[1;33m\u001B[0m\u001B[0m\n",
      "\u001B[1;32m~\\AppData\\Local\\Programs\\Python\\Python38\\lib\\site-packages\\matplotlib\\axes\\_base.py\u001B[0m in \u001B[0;36m__call__\u001B[1;34m(self, data, *args, **kwargs)\u001B[0m\n\u001B[0;32m    313\u001B[0m                 \u001B[0mthis\u001B[0m \u001B[1;33m+=\u001B[0m \u001B[0margs\u001B[0m\u001B[1;33m[\u001B[0m\u001B[1;36m0\u001B[0m\u001B[1;33m]\u001B[0m\u001B[1;33m,\u001B[0m\u001B[1;33m\u001B[0m\u001B[1;33m\u001B[0m\u001B[0m\n\u001B[0;32m    314\u001B[0m                 \u001B[0margs\u001B[0m \u001B[1;33m=\u001B[0m \u001B[0margs\u001B[0m\u001B[1;33m[\u001B[0m\u001B[1;36m1\u001B[0m\u001B[1;33m:\u001B[0m\u001B[1;33m]\u001B[0m\u001B[1;33m\u001B[0m\u001B[1;33m\u001B[0m\u001B[0m\n\u001B[1;32m--> 315\u001B[1;33m             \u001B[1;32myield\u001B[0m \u001B[1;32mfrom\u001B[0m \u001B[0mself\u001B[0m\u001B[1;33m.\u001B[0m\u001B[0m_plot_args\u001B[0m\u001B[1;33m(\u001B[0m\u001B[0mthis\u001B[0m\u001B[1;33m,\u001B[0m \u001B[0mkwargs\u001B[0m\u001B[1;33m)\u001B[0m\u001B[1;33m\u001B[0m\u001B[1;33m\u001B[0m\u001B[0m\n\u001B[0m\u001B[0;32m    316\u001B[0m \u001B[1;33m\u001B[0m\u001B[0m\n\u001B[0;32m    317\u001B[0m     \u001B[1;32mdef\u001B[0m \u001B[0mget_next_color\u001B[0m\u001B[1;33m(\u001B[0m\u001B[0mself\u001B[0m\u001B[1;33m)\u001B[0m\u001B[1;33m:\u001B[0m\u001B[1;33m\u001B[0m\u001B[1;33m\u001B[0m\u001B[0m\n",
      "\u001B[1;32m~\\AppData\\Local\\Programs\\Python\\Python38\\lib\\site-packages\\matplotlib\\axes\\_base.py\u001B[0m in \u001B[0;36m_plot_args\u001B[1;34m(self, tup, kwargs, return_kwargs)\u001B[0m\n\u001B[0;32m    537\u001B[0m             \u001B[1;32mreturn\u001B[0m \u001B[0mlist\u001B[0m\u001B[1;33m(\u001B[0m\u001B[0mresult\u001B[0m\u001B[1;33m)\u001B[0m\u001B[1;33m\u001B[0m\u001B[1;33m\u001B[0m\u001B[0m\n\u001B[0;32m    538\u001B[0m         \u001B[1;32melse\u001B[0m\u001B[1;33m:\u001B[0m\u001B[1;33m\u001B[0m\u001B[1;33m\u001B[0m\u001B[0m\n\u001B[1;32m--> 539\u001B[1;33m             \u001B[1;32mreturn\u001B[0m \u001B[1;33m[\u001B[0m\u001B[0ml\u001B[0m\u001B[1;33m[\u001B[0m\u001B[1;36m0\u001B[0m\u001B[1;33m]\u001B[0m \u001B[1;32mfor\u001B[0m \u001B[0ml\u001B[0m \u001B[1;32min\u001B[0m \u001B[0mresult\u001B[0m\u001B[1;33m]\u001B[0m\u001B[1;33m\u001B[0m\u001B[1;33m\u001B[0m\u001B[0m\n\u001B[0m\u001B[0;32m    540\u001B[0m \u001B[1;33m\u001B[0m\u001B[0m\n\u001B[0;32m    541\u001B[0m \u001B[1;33m\u001B[0m\u001B[0m\n",
      "\u001B[1;32m~\\AppData\\Local\\Programs\\Python\\Python38\\lib\\site-packages\\matplotlib\\axes\\_base.py\u001B[0m in \u001B[0;36m<listcomp>\u001B[1;34m(.0)\u001B[0m\n\u001B[0;32m    537\u001B[0m             \u001B[1;32mreturn\u001B[0m \u001B[0mlist\u001B[0m\u001B[1;33m(\u001B[0m\u001B[0mresult\u001B[0m\u001B[1;33m)\u001B[0m\u001B[1;33m\u001B[0m\u001B[1;33m\u001B[0m\u001B[0m\n\u001B[0;32m    538\u001B[0m         \u001B[1;32melse\u001B[0m\u001B[1;33m:\u001B[0m\u001B[1;33m\u001B[0m\u001B[1;33m\u001B[0m\u001B[0m\n\u001B[1;32m--> 539\u001B[1;33m             \u001B[1;32mreturn\u001B[0m \u001B[1;33m[\u001B[0m\u001B[0ml\u001B[0m\u001B[1;33m[\u001B[0m\u001B[1;36m0\u001B[0m\u001B[1;33m]\u001B[0m \u001B[1;32mfor\u001B[0m \u001B[0ml\u001B[0m \u001B[1;32min\u001B[0m \u001B[0mresult\u001B[0m\u001B[1;33m]\u001B[0m\u001B[1;33m\u001B[0m\u001B[1;33m\u001B[0m\u001B[0m\n\u001B[0m\u001B[0;32m    540\u001B[0m \u001B[1;33m\u001B[0m\u001B[0m\n\u001B[0;32m    541\u001B[0m \u001B[1;33m\u001B[0m\u001B[0m\n",
      "\u001B[1;32m~\\AppData\\Local\\Programs\\Python\\Python38\\lib\\site-packages\\matplotlib\\axes\\_base.py\u001B[0m in \u001B[0;36m<genexpr>\u001B[1;34m(.0)\u001B[0m\n\u001B[0;32m    530\u001B[0m             \u001B[0mlabels\u001B[0m \u001B[1;33m=\u001B[0m \u001B[1;33m[\u001B[0m\u001B[0mlabel\u001B[0m\u001B[1;33m]\u001B[0m \u001B[1;33m*\u001B[0m \u001B[0mn_datasets\u001B[0m\u001B[1;33m\u001B[0m\u001B[1;33m\u001B[0m\u001B[0m\n\u001B[0;32m    531\u001B[0m \u001B[1;33m\u001B[0m\u001B[0m\n\u001B[1;32m--> 532\u001B[1;33m         result = (make_artist(x[:, j % ncx], y[:, j % ncy], kw,\n\u001B[0m\u001B[0;32m    533\u001B[0m                               {**kwargs, 'label': label})\n\u001B[0;32m    534\u001B[0m                   for j, label in enumerate(labels))\n",
      "\u001B[1;32m~\\AppData\\Local\\Programs\\Python\\Python38\\lib\\site-packages\\matplotlib\\axes\\_base.py\u001B[0m in \u001B[0;36m_makeline\u001B[1;34m(self, x, y, kw, kwargs)\u001B[0m\n\u001B[0;32m    352\u001B[0m         \u001B[0mdefault_dict\u001B[0m \u001B[1;33m=\u001B[0m \u001B[0mself\u001B[0m\u001B[1;33m.\u001B[0m\u001B[0m_getdefaults\u001B[0m\u001B[1;33m(\u001B[0m\u001B[0mset\u001B[0m\u001B[1;33m(\u001B[0m\u001B[1;33m)\u001B[0m\u001B[1;33m,\u001B[0m \u001B[0mkw\u001B[0m\u001B[1;33m)\u001B[0m\u001B[1;33m\u001B[0m\u001B[1;33m\u001B[0m\u001B[0m\n\u001B[0;32m    353\u001B[0m         \u001B[0mself\u001B[0m\u001B[1;33m.\u001B[0m\u001B[0m_setdefaults\u001B[0m\u001B[1;33m(\u001B[0m\u001B[0mdefault_dict\u001B[0m\u001B[1;33m,\u001B[0m \u001B[0mkw\u001B[0m\u001B[1;33m)\u001B[0m\u001B[1;33m\u001B[0m\u001B[1;33m\u001B[0m\u001B[0m\n\u001B[1;32m--> 354\u001B[1;33m         \u001B[0mseg\u001B[0m \u001B[1;33m=\u001B[0m \u001B[0mmlines\u001B[0m\u001B[1;33m.\u001B[0m\u001B[0mLine2D\u001B[0m\u001B[1;33m(\u001B[0m\u001B[0mx\u001B[0m\u001B[1;33m,\u001B[0m \u001B[0my\u001B[0m\u001B[1;33m,\u001B[0m \u001B[1;33m**\u001B[0m\u001B[0mkw\u001B[0m\u001B[1;33m)\u001B[0m\u001B[1;33m\u001B[0m\u001B[1;33m\u001B[0m\u001B[0m\n\u001B[0m\u001B[0;32m    355\u001B[0m         \u001B[1;32mreturn\u001B[0m \u001B[0mseg\u001B[0m\u001B[1;33m,\u001B[0m \u001B[0mkw\u001B[0m\u001B[1;33m\u001B[0m\u001B[1;33m\u001B[0m\u001B[0m\n\u001B[0;32m    356\u001B[0m \u001B[1;33m\u001B[0m\u001B[0m\n",
      "\u001B[1;32m~\\AppData\\Local\\Programs\\Python\\Python38\\lib\\site-packages\\matplotlib\\lines.py\u001B[0m in \u001B[0;36m__init__\u001B[1;34m(self, xdata, ydata, linewidth, linestyle, color, marker, markersize, markeredgewidth, markeredgecolor, markerfacecolor, markerfacecoloralt, fillstyle, antialiased, dash_capstyle, solid_capstyle, dash_joinstyle, solid_joinstyle, pickradius, drawstyle, markevery, **kwargs)\u001B[0m\n\u001B[0;32m    395\u001B[0m         \u001B[1;31m# update kwargs before updating data to give the caller a\u001B[0m\u001B[1;33m\u001B[0m\u001B[1;33m\u001B[0m\u001B[1;33m\u001B[0m\u001B[0m\n\u001B[0;32m    396\u001B[0m         \u001B[1;31m# chance to init axes (and hence unit support)\u001B[0m\u001B[1;33m\u001B[0m\u001B[1;33m\u001B[0m\u001B[1;33m\u001B[0m\u001B[0m\n\u001B[1;32m--> 397\u001B[1;33m         \u001B[0mself\u001B[0m\u001B[1;33m.\u001B[0m\u001B[0mupdate\u001B[0m\u001B[1;33m(\u001B[0m\u001B[0mkwargs\u001B[0m\u001B[1;33m)\u001B[0m\u001B[1;33m\u001B[0m\u001B[1;33m\u001B[0m\u001B[0m\n\u001B[0m\u001B[0;32m    398\u001B[0m         \u001B[0mself\u001B[0m\u001B[1;33m.\u001B[0m\u001B[0mpickradius\u001B[0m \u001B[1;33m=\u001B[0m \u001B[0mpickradius\u001B[0m\u001B[1;33m\u001B[0m\u001B[1;33m\u001B[0m\u001B[0m\n\u001B[0;32m    399\u001B[0m         \u001B[0mself\u001B[0m\u001B[1;33m.\u001B[0m\u001B[0mind_offset\u001B[0m \u001B[1;33m=\u001B[0m \u001B[1;36m0\u001B[0m\u001B[1;33m\u001B[0m\u001B[1;33m\u001B[0m\u001B[0m\n",
      "\u001B[1;32m~\\AppData\\Local\\Programs\\Python\\Python38\\lib\\site-packages\\matplotlib\\artist.py\u001B[0m in \u001B[0;36mupdate\u001B[1;34m(self, props)\u001B[0m\n\u001B[0;32m   1060\u001B[0m                     \u001B[0mfunc\u001B[0m \u001B[1;33m=\u001B[0m \u001B[0mgetattr\u001B[0m\u001B[1;33m(\u001B[0m\u001B[0mself\u001B[0m\u001B[1;33m,\u001B[0m \u001B[1;34mf\"set_{k}\"\u001B[0m\u001B[1;33m,\u001B[0m \u001B[1;32mNone\u001B[0m\u001B[1;33m)\u001B[0m\u001B[1;33m\u001B[0m\u001B[1;33m\u001B[0m\u001B[0m\n\u001B[0;32m   1061\u001B[0m                     \u001B[1;32mif\u001B[0m \u001B[1;32mnot\u001B[0m \u001B[0mcallable\u001B[0m\u001B[1;33m(\u001B[0m\u001B[0mfunc\u001B[0m\u001B[1;33m)\u001B[0m\u001B[1;33m:\u001B[0m\u001B[1;33m\u001B[0m\u001B[1;33m\u001B[0m\u001B[0m\n\u001B[1;32m-> 1062\u001B[1;33m                         raise AttributeError(f\"{type(self).__name__!r} object \"\n\u001B[0m\u001B[0;32m   1063\u001B[0m                                              f\"has no property {k!r}\")\n\u001B[0;32m   1064\u001B[0m                     \u001B[0mret\u001B[0m\u001B[1;33m.\u001B[0m\u001B[0mappend\u001B[0m\u001B[1;33m(\u001B[0m\u001B[0mfunc\u001B[0m\u001B[1;33m(\u001B[0m\u001B[0mv\u001B[0m\u001B[1;33m)\u001B[0m\u001B[1;33m)\u001B[0m\u001B[1;33m\u001B[0m\u001B[1;33m\u001B[0m\u001B[0m\n",
      "\u001B[1;31mAttributeError\u001B[0m: 'Line2D' object has no property 'size'"
     ]
    },
    {
     "data": {
      "text/plain": "<Figure size 720x360 with 2 Axes>",
      "image/png": "[encoded data removed]"
     },
     "metadata": {
      "needs_background": "light"
     },
     "output_type": "display_data"
    }
   ],
   "source": [
    "size = 10\n",
    "binsRetweets = np.linspace(0, statistics.mean(trump_tweets_df['retweets']), size)\n",
    "binsFavorites = np.linspace(0, statistics.mean(trump_tweets_df['retweets']), size)\n",
    "fig, axs = plt.subplots(1, 2, figsize=(10, 5), tight_layout=True)\n",
    "\n",
    "axs[0].plot(trump_tweets_df['retweets'], \"r+\")\n",
    "axs[0].plot(calculate_outliers_by_mean_value(trump_tweets_df['retweets']), \"b+\")\n",
    "axs[0].title.set_text('Retweets')\n",
    "\n",
    "axs[1].plot(trump_tweets_df['favorites'], \"r+\")\n",
    "axs[1].title.set_text('Favorites')\n",
    "\n",
    "plt.show()"
   ],
   "metadata": {
    "collapsed": false,
    "pycharm": {
     "name": "#%%\n"
    }
   }
  },
  {
   "cell_type": "markdown",
   "source": [
    "For the purpose of our motivation we do not need columns:\n",
    "    - mentions\n",
    "    - hashtags\n",
    "    - geo\n",
    "as they not only contain NaN values, but they are not related to the topic.\n",
    "\n",
    "'link' column is also not needed as it has no usage here."
   ],
   "metadata": {
    "collapsed": false,
    "pycharm": {
     "name": "#%% md\n"
    }
   }
  },
  {
   "cell_type": "code",
   "execution_count": 4,
   "outputs": [],
   "source": [
    "def get_all_nan_with_column_name(column_name: string, dataframe: pd.DataFrame):\n",
    "    return len(dataframe.loc[pd.isna(dataframe[column_name]) == True])"
   ],
   "metadata": {
    "collapsed": false,
    "pycharm": {
     "name": "#%%\n"
    }
   }
  },
  {
   "cell_type": "code",
   "execution_count": 5,
   "outputs": [
    {
     "name": "stdout",
     "output_type": "stream",
     "text": [
      "Percentage of all NaN cells in column mentions is 45.365 %\n",
      "Percentage of all NaN cells in column geo is 100.0 %\n",
      "Percentage of all NaN cells in column hashtags is 85.871 %\n",
      "\n",
      "\n",
      "New dataset:\n"
     ]
    },
    {
     "data": {
      "text/plain": "           id                                            content  \\\n0  1698308935  Be sure to tune in and watch Donald Trump on L...   \n1  1701461182  Donald Trump will be appearing on The View tom...   \n2  1737479987  Donald Trump reads Top Ten Financial Tips on L...   \n3  1741160716  New Blog Post: Celebrity Apprentice Finale and...   \n4  1773561338  \"My persona will never be that of a wallflower...   \n\n                  date  retweets  favorites  \n0  2009-05-04 20:54:25       500        868  \n1  2009-05-05 03:00:10        33        273  \n2  2009-05-08 15:38:08        12         18  \n3  2009-05-08 22:40:15        11         24  \n4  2009-05-12 16:07:28      1399       1965  ",
      "text/html": "<div>\n<style scoped>\n    .dataframe tbody tr th:only-of-type {\n        vertical-align: middle;\n    }\n\n    .dataframe tbody tr th {\n        vertical-align: top;\n    }\n\n    .dataframe thead th {\n        text-align: right;\n    }\n</style>\n<table border=\"1\" class=\"dataframe\">\n  <thead>\n    <tr style=\"text-align: right;\">\n      <th></th>\n      <th>id</th>\n      <th>content</th>\n      <th>date</th>\n      <th>retweets</th>\n      <th>favorites</th>\n    </tr>\n  </thead>\n  <tbody>\n    <tr>\n      <th>0</th>\n      <td>1698308935</td>\n      <td>Be sure to tune in and watch Donald Trump on L...</td>\n      <td>2009-05-04 20:54:25</td>\n      <td>500</td>\n      <td>868</td>\n    </tr>\n    <tr>\n      <th>1</th>\n      <td>1701461182</td>\n      <td>Donald Trump will be appearing on The View tom...</td>\n      <td>2009-05-05 03:00:10</td>\n      <td>33</td>\n      <td>273</td>\n    </tr>\n    <tr>\n      <th>2</th>\n      <td>1737479987</td>\n      <td>Donald Trump reads Top Ten Financial Tips on L...</td>\n      <td>2009-05-08 15:38:08</td>\n      <td>12</td>\n      <td>18</td>\n    </tr>\n    <tr>\n      <th>3</th>\n      <td>1741160716</td>\n      <td>New Blog Post: Celebrity Apprentice Finale and...</td>\n      <td>2009-05-08 22:40:15</td>\n      <td>11</td>\n      <td>24</td>\n    </tr>\n    <tr>\n      <th>4</th>\n      <td>1773561338</td>\n      <td>\"My persona will never be that of a wallflower...</td>\n      <td>2009-05-12 16:07:28</td>\n      <td>1399</td>\n      <td>1965</td>\n    </tr>\n  </tbody>\n</table>\n</div>"
     },
     "execution_count": 5,
     "metadata": {},
     "output_type": "execute_result"
    }
   ],
   "source": [
    "all_rows_from_df = len(trump_tweets_df)\n",
    "all_nan_mentions = get_all_nan_with_column_name('mentions', trump_tweets_df)\n",
    "all_nan_geo = get_all_nan_with_column_name('geo', trump_tweets_df)\n",
    "all_nan_hashtags = get_all_nan_with_column_name('hashtags', trump_tweets_df)\n",
    "\n",
    "print(f'Percentage of all NaN cells in column mentions is {(all_nan_mentions/all_rows_from_df)*100:.5} %')\n",
    "print(f'Percentage of all NaN cells in column geo is {(all_nan_geo/all_rows_from_df)*100:.5} %')\n",
    "print(f'Percentage of all NaN cells in column hashtags is {(all_nan_hashtags/all_rows_from_df)*100:.5} %')\n",
    "\n",
    "del trump_tweets_df['mentions']\n",
    "del trump_tweets_df['geo']\n",
    "del trump_tweets_df['hashtags']\n",
    "\n",
    "del trump_tweets_df['link']\n",
    "\n",
    "print(\"\\n\\nNew dataset:\")\n",
    "trump_tweets_df.head()"
   ],
   "metadata": {
    "collapsed": false,
    "pycharm": {
     "name": "#%%\n"
    }
   }
  },
  {
   "cell_type": "markdown",
   "source": [
    "I would like also to clear date column from time."
   ],
   "metadata": {
    "collapsed": false
   }
  },
  {
   "cell_type": "code",
   "execution_count": 6,
   "outputs": [],
   "source": [
    "trump_tweets_df['date'] = trump_tweets_df['date'].map(lambda x: x[:-9])"
   ],
   "metadata": {
    "collapsed": false,
    "pycharm": {
     "name": "#%%\n"
    }
   }
  },
  {
   "cell_type": "markdown",
   "source": [
    "8.\tW oparciu o powyższe wybrać do uczenia: określone klasy przypadków, wybrane cechy, oraz liczbę rekordów\n",
    " danych (wszystkie?). Przygotowany zbiór zapisać."
   ],
   "metadata": {
    "collapsed": false
   }
  },
  {
   "cell_type": "markdown",
   "source": [
    "9.\tProszę pobrać zbiór danych, w którym są wartości brakujące (NaN/0/-/(puste miejsce)) lub usunąć ze zbioru danych\n",
    "losowo pewną liczbę komórek.\n",
    "    -\tWyznaczyć statystykę braków i ocenić jak ten problem rozwiązać.\n",
    "    -\tObsłużyć wartości brakujące za pomocą usunięcia rekordów.\n",
    "    -\tObsłużyć wartości brakujące wypełniając je zerem/inną wartością stałą.\n",
    "    -\tObsłużyć wartości brakujące wypełniając wartością średnią cechy (wartości ciągłe) lub medianą (wartości dyskretne).\n"
   ],
   "metadata": {
    "collapsed": false
   }
  },
  {
   "cell_type": "markdown",
   "source": [
    "10.\tPrzeprowadzić\n",
    "    -\tskalowanie każdej cechy w zadanym przedziale (domyślnie [-1,1]),\n",
    "    -\tnormalizację każdej cechy (do rozkładu Gaussa N(0,1))."
   ],
   "metadata": {
    "collapsed": false
   }
  },
  {
   "cell_type": "markdown",
   "source": [
    "11.\tZakodować etykiety klas\n",
    "    -\tproblemy binarne: 0/1, -1/1,\n",
    "    -\tproblemy wieloklasowe: kolejne cyfry, one-hot encoding.\n",
    "\n"
   ],
   "metadata": {
    "collapsed": false
   }
  }
 ],
 "metadata": {
  "kernelspec": {
   "display_name": "Python 3",
   "language": "python",
   "name": "python3"
  },
  "language_info": {
   "codemirror_mode": {
    "name": "ipython",
    "version": 3
   },
   "file_extension": ".py",
   "mimetype": "text/x-python",
   "name": "python",
   "nbconvert_exporter": "python",
   "pygments_lexer": "ipython3",
   "version": "3.8.8"
  }
 },
 "nbformat": 4,
 "nbformat_minor": 1
}