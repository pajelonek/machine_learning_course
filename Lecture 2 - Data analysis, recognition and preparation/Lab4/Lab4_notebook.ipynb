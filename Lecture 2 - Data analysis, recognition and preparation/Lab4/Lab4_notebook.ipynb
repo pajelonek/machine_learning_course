{
 "cells": [
  {
   "cell_type": "markdown",
   "metadata": {
    "collapsed": true,
    "pycharm": {
     "name": "#%% md\n"
    }
   },
   "source": [
    "## Author: Paweł Jelonek <br> Date: 11.04.2021\n",
    "### Machine learning course:<br> Lecture 2 - Data analysis, recognition and preparation."
   ]
  },
  {
   "cell_type": "code",
   "execution_count": 1,
   "outputs": [],
   "source": [
    "import pandas as pd\n",
    "import numpy as np\n",
    "import string\n",
    "import datetime\n",
    "from matplotlib import pyplot as plt\n",
    "\n",
    "plt.rcParams[\"figure.figsize\"]=(20, 10)"
   ],
   "metadata": {
    "collapsed": false,
    "pycharm": {
     "name": "#%%\n"
    }
   }
  },
  {
   "cell_type": "markdown",
   "metadata": {
    "pycharm": {
     "name": "#%% md\n"
    }
   },
   "source": [
    "1.  Please download any dataset <br>\n",
    "Trump tweets: https://www.kaggle.com/austinreese/trump-tweets"
   ]
  },
  {
   "cell_type": "code",
   "execution_count": 2,
   "outputs": [],
   "source": [
    "trump_tweets_df = pd.read_csv('C:/Users/pawst/OneDrive/Github/machine_learning_course/Lecture 2 - Data analysis, recognition and preparation/Lab4/trumptweets.csv')"
   ],
   "metadata": {
    "collapsed": false,
    "pycharm": {
     "name": "#%%\n"
    }
   }
  },
  {
   "cell_type": "markdown",
   "metadata": {
    "pycharm": {
     "name": "#%% md\n"
    }
   },
   "source": [
    "2.\tIdentify the research motivation of the dataset:\n",
    "    - field: Classification\n",
    "    - problem: Find the most \"likeable\" i \"retweetable\" words from dataset containing Donald Trump's tweets\n",
    "    - type of ML: Classification"
   ]
  },
  {
   "cell_type": "markdown",
   "source": [
    "3.  Visualize the feature distributions by using histograms, spread distributions, or other plots."
   ],
   "metadata": {
    "collapsed": false
   }
  },
  {
   "cell_type": "code",
   "source": [
    "trump_tweets_df.head()"
   ],
   "metadata": {
    "collapsed": false,
    "pycharm": {
     "name": "#%%\n"
    }
   },
   "execution_count": 3,
   "outputs": [
    {
     "data": {
      "text/plain": "           id                                               link  \\\n0  1698308935  https://twitter.com/realDonaldTrump/status/169...   \n1  1701461182  https://twitter.com/realDonaldTrump/status/170...   \n2  1737479987  https://twitter.com/realDonaldTrump/status/173...   \n3  1741160716  https://twitter.com/realDonaldTrump/status/174...   \n4  1773561338  https://twitter.com/realDonaldTrump/status/177...   \n\n                                             content                 date  \\\n0  Be sure to tune in and watch Donald Trump on L...  2009-05-04 20:54:25   \n1  Donald Trump will be appearing on The View tom...  2009-05-05 03:00:10   \n2  Donald Trump reads Top Ten Financial Tips on L...  2009-05-08 15:38:08   \n3  New Blog Post: Celebrity Apprentice Finale and...  2009-05-08 22:40:15   \n4  \"My persona will never be that of a wallflower...  2009-05-12 16:07:28   \n\n   retweets  favorites mentions hashtags  geo  \n0       500        868      NaN      NaN  NaN  \n1        33        273      NaN      NaN  NaN  \n2        12         18      NaN      NaN  NaN  \n3        11         24      NaN      NaN  NaN  \n4      1399       1965      NaN      NaN  NaN  ",
      "text/html": "<div>\n<style scoped>\n    .dataframe tbody tr th:only-of-type {\n        vertical-align: middle;\n    }\n\n    .dataframe tbody tr th {\n        vertical-align: top;\n    }\n\n    .dataframe thead th {\n        text-align: right;\n    }\n</style>\n<table border=\"1\" class=\"dataframe\">\n  <thead>\n    <tr style=\"text-align: right;\">\n      <th></th>\n      <th>id</th>\n      <th>link</th>\n      <th>content</th>\n      <th>date</th>\n      <th>retweets</th>\n      <th>favorites</th>\n      <th>mentions</th>\n      <th>hashtags</th>\n      <th>geo</th>\n    </tr>\n  </thead>\n  <tbody>\n    <tr>\n      <th>0</th>\n      <td>1698308935</td>\n      <td>https://twitter.com/realDonaldTrump/status/169...</td>\n      <td>Be sure to tune in and watch Donald Trump on L...</td>\n      <td>2009-05-04 20:54:25</td>\n      <td>500</td>\n      <td>868</td>\n      <td>NaN</td>\n      <td>NaN</td>\n      <td>NaN</td>\n    </tr>\n    <tr>\n      <th>1</th>\n      <td>1701461182</td>\n      <td>https://twitter.com/realDonaldTrump/status/170...</td>\n      <td>Donald Trump will be appearing on The View tom...</td>\n      <td>2009-05-05 03:00:10</td>\n      <td>33</td>\n      <td>273</td>\n      <td>NaN</td>\n      <td>NaN</td>\n      <td>NaN</td>\n    </tr>\n    <tr>\n      <th>2</th>\n      <td>1737479987</td>\n      <td>https://twitter.com/realDonaldTrump/status/173...</td>\n      <td>Donald Trump reads Top Ten Financial Tips on L...</td>\n      <td>2009-05-08 15:38:08</td>\n      <td>12</td>\n      <td>18</td>\n      <td>NaN</td>\n      <td>NaN</td>\n      <td>NaN</td>\n    </tr>\n    <tr>\n      <th>3</th>\n      <td>1741160716</td>\n      <td>https://twitter.com/realDonaldTrump/status/174...</td>\n      <td>New Blog Post: Celebrity Apprentice Finale and...</td>\n      <td>2009-05-08 22:40:15</td>\n      <td>11</td>\n      <td>24</td>\n      <td>NaN</td>\n      <td>NaN</td>\n      <td>NaN</td>\n    </tr>\n    <tr>\n      <th>4</th>\n      <td>1773561338</td>\n      <td>https://twitter.com/realDonaldTrump/status/177...</td>\n      <td>\"My persona will never be that of a wallflower...</td>\n      <td>2009-05-12 16:07:28</td>\n      <td>1399</td>\n      <td>1965</td>\n      <td>NaN</td>\n      <td>NaN</td>\n      <td>NaN</td>\n    </tr>\n  </tbody>\n</table>\n</div>"
     },
     "execution_count": 3,
     "metadata": {},
     "output_type": "execute_result"
    }
   ]
  },
  {
   "cell_type": "markdown",
   "source": [
    "For the purpose of our motivation we do not need columns:\n",
    "    - mentions\n",
    "    - hashtags\n",
    "    - geo\n",
    "as they not only contain NaN values, but they are not related to the topic.\n",
    "\n",
    "'link' column is also not needed as it has no usage here."
   ],
   "metadata": {
    "collapsed": false,
    "pycharm": {
     "name": "#%% md\n"
    }
   }
  },
  {
   "cell_type": "code",
   "execution_count": 4,
   "outputs": [],
   "source": [
    "def get_all_nan_with_column_name(column_name: string, dataframe: pd.DataFrame):\n",
    "    return len(dataframe.loc[pd.isna(dataframe[column_name]) == True])"
   ],
   "metadata": {
    "collapsed": false,
    "pycharm": {
     "name": "#%%\n"
    }
   }
  },
  {
   "cell_type": "code",
   "execution_count": 5,
   "outputs": [
    {
     "name": "stdout",
     "output_type": "stream",
     "text": [
      "Percentage of all NaN cells in column mentions is 45.365 %\n",
      "Percentage of all NaN cells in column geo is 100.0 %\n",
      "Percentage of all NaN cells in column hashtags is 85.871 %\n",
      "\n",
      "\n",
      "New dataset:\n"
     ]
    },
    {
     "data": {
      "text/plain": "           id                                            content  \\\n0  1698308935  Be sure to tune in and watch Donald Trump on L...   \n1  1701461182  Donald Trump will be appearing on The View tom...   \n2  1737479987  Donald Trump reads Top Ten Financial Tips on L...   \n3  1741160716  New Blog Post: Celebrity Apprentice Finale and...   \n4  1773561338  \"My persona will never be that of a wallflower...   \n\n                  date  retweets  favorites  \n0  2009-05-04 20:54:25       500        868  \n1  2009-05-05 03:00:10        33        273  \n2  2009-05-08 15:38:08        12         18  \n3  2009-05-08 22:40:15        11         24  \n4  2009-05-12 16:07:28      1399       1965  ",
      "text/html": "<div>\n<style scoped>\n    .dataframe tbody tr th:only-of-type {\n        vertical-align: middle;\n    }\n\n    .dataframe tbody tr th {\n        vertical-align: top;\n    }\n\n    .dataframe thead th {\n        text-align: right;\n    }\n</style>\n<table border=\"1\" class=\"dataframe\">\n  <thead>\n    <tr style=\"text-align: right;\">\n      <th></th>\n      <th>id</th>\n      <th>content</th>\n      <th>date</th>\n      <th>retweets</th>\n      <th>favorites</th>\n    </tr>\n  </thead>\n  <tbody>\n    <tr>\n      <th>0</th>\n      <td>1698308935</td>\n      <td>Be sure to tune in and watch Donald Trump on L...</td>\n      <td>2009-05-04 20:54:25</td>\n      <td>500</td>\n      <td>868</td>\n    </tr>\n    <tr>\n      <th>1</th>\n      <td>1701461182</td>\n      <td>Donald Trump will be appearing on The View tom...</td>\n      <td>2009-05-05 03:00:10</td>\n      <td>33</td>\n      <td>273</td>\n    </tr>\n    <tr>\n      <th>2</th>\n      <td>1737479987</td>\n      <td>Donald Trump reads Top Ten Financial Tips on L...</td>\n      <td>2009-05-08 15:38:08</td>\n      <td>12</td>\n      <td>18</td>\n    </tr>\n    <tr>\n      <th>3</th>\n      <td>1741160716</td>\n      <td>New Blog Post: Celebrity Apprentice Finale and...</td>\n      <td>2009-05-08 22:40:15</td>\n      <td>11</td>\n      <td>24</td>\n    </tr>\n    <tr>\n      <th>4</th>\n      <td>1773561338</td>\n      <td>\"My persona will never be that of a wallflower...</td>\n      <td>2009-05-12 16:07:28</td>\n      <td>1399</td>\n      <td>1965</td>\n    </tr>\n  </tbody>\n</table>\n</div>"
     },
     "execution_count": 5,
     "metadata": {},
     "output_type": "execute_result"
    }
   ],
   "source": [
    "all_rows_from_df = len(trump_tweets_df)\n",
    "all_nan_mentions = get_all_nan_with_column_name('mentions', trump_tweets_df)\n",
    "all_nan_geo = get_all_nan_with_column_name('geo', trump_tweets_df)\n",
    "all_nan_hashtags = get_all_nan_with_column_name('hashtags', trump_tweets_df)\n",
    "\n",
    "print(f'Percentage of all NaN cells in column mentions is {(all_nan_mentions/all_rows_from_df)*100:.5} %')\n",
    "print(f'Percentage of all NaN cells in column geo is {(all_nan_geo/all_rows_from_df)*100:.5} %')\n",
    "print(f'Percentage of all NaN cells in column hashtags is {(all_nan_hashtags/all_rows_from_df)*100:.5} %')\n",
    "\n",
    "del trump_tweets_df['mentions']\n",
    "del trump_tweets_df['geo']\n",
    "del trump_tweets_df['hashtags']\n",
    "\n",
    "del trump_tweets_df['link']\n",
    "\n",
    "print(\"\\n\\nNew dataset:\")\n",
    "trump_tweets_df.head()"
   ],
   "metadata": {
    "collapsed": false,
    "pycharm": {
     "name": "#%%\n"
    }
   }
  },
  {
   "cell_type": "markdown",
   "source": [
    "I would like also to clear date column from time."
   ],
   "metadata": {
    "collapsed": false
   }
  },
  {
   "cell_type": "code",
   "execution_count": 6,
   "outputs": [],
   "source": [
    "trump_tweets_df['date'] = trump_tweets_df['date'].map(lambda x: x[:-9])"
   ],
   "metadata": {
    "collapsed": false,
    "pycharm": {
     "name": "#%%\n"
    }
   }
  },
  {
   "cell_type": "markdown",
   "metadata": {
    "pycharm": {
     "name": "#%% md\n"
    }
   },
   "source": [
    "4.\tOkreślić wartości odstające (outliers)."
   ]
  },
  {
   "cell_type": "markdown",
   "source": [
    "8.\tW oparciu o powyższe wybrać do uczenia: określone klasy przypadków, wybrane cechy, oraz liczbę rekordów\n",
    " danych (wszystkie?). Przygotowany zbiór zapisać."
   ],
   "metadata": {
    "collapsed": false
   }
  },
  {
   "cell_type": "markdown",
   "source": [
    "9.\tProszę pobrać zbiór danych, w którym są wartości brakujące (NaN/0/-/(puste miejsce)) lub usunąć ze zbioru danych\n",
    "losowo pewną liczbę komórek.\n",
    "    -\tWyznaczyć statystykę braków i ocenić jak ten problem rozwiązać.\n",
    "    -\tObsłużyć wartości brakujące za pomocą usunięcia rekordów.\n",
    "    -\tObsłużyć wartości brakujące wypełniając je zerem/inną wartością stałą.\n",
    "    -\tObsłużyć wartości brakujące wypełniając wartością średnią cechy (wartości ciągłe) lub medianą (wartości dyskretne).\n"
   ],
   "metadata": {
    "collapsed": false
   }
  },
  {
   "cell_type": "markdown",
   "source": [
    "10.\tPrzeprowadzić\n",
    "    -\tskalowanie każdej cechy w zadanym przedziale (domyślnie [-1,1]),\n",
    "    -\tnormalizację każdej cechy (do rozkładu Gaussa N(0,1))."
   ],
   "metadata": {
    "collapsed": false
   }
  },
  {
   "cell_type": "markdown",
   "source": [
    "11.\tZakodować etykiety klas\n",
    "    -\tproblemy binarne: 0/1, -1/1,\n",
    "    -\tproblemy wieloklasowe: kolejne cyfry, one-hot encoding.\n",
    "\n"
   ],
   "metadata": {
    "collapsed": false
   }
  }
 ],
 "metadata": {
  "kernelspec": {
   "display_name": "Python 3",
   "language": "python",
   "name": "python3"
  },
  "language_info": {
   "codemirror_mode": {
    "name": "ipython",
    "version": 3
   },
   "file_extension": ".py",
   "mimetype": "text/x-python",
   "name": "python",
   "nbconvert_exporter": "python",
   "pygments_lexer": "ipython3",
   "version": "3.8.8"
  }
 },
 "nbformat": 4,
 "nbformat_minor": 1
}