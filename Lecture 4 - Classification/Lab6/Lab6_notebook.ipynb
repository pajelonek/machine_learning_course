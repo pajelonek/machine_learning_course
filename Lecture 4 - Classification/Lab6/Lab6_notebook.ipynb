{
 "cells": [
  {
   "cell_type": "markdown",
   "metadata": {
    "collapsed": true,
    "pycharm": {
     "name": "#%% md\n"
    }
   },
   "source": [
    "## Author: Paweł Jelonek <br> Date: 30.05.2021\n",
    "### Machine learning course:<br> Lecture 4 - Classification"
   ]
  },
  {
   "cell_type": "code",
   "execution_count": 113,
   "outputs": [],
   "source": [
    "import pandas as pd\n",
    "import numpy as np\n",
    "import matplotlib.pyplot as plt\n",
    "from IPython.display import SVG, Image\n",
    "from sklearn.model_selection import train_test_split\n",
    "from sklearn.neighbors import KNeighborsClassifier\n",
    "from sklearn.metrics import classification_report, confusion_matrix\n",
    "from sklearn.tree import DecisionTreeClassifier\n",
    "from sklearn.linear_model import LogisticRegression\n",
    "from sklearn import datasets,svm\n",
    "from mlxtend.plotting import plot_decision_regions\n",
    "from sklearn.naive_bayes import GaussianNB\n",
    "from sklearn.discriminant_analysis import LinearDiscriminantAnalysis\n",
    "from sklearn.neural_network import MLPClassifier\n",
    "\n",
    "plt.rcParams[\"figure.figsize\"]=(20, 10)"
   ],
   "metadata": {
    "collapsed": false,
    "pycharm": {
     "name": "#%%\n"
    }
   }
  },
  {
   "cell_type": "markdown",
   "source": [
    "Proszę opracować paradygmat uczenia:\n",
    "1.\tKlasyfikator k-NN (k-Nearest Neighbors).\n",
    "2.\tKlasyfikator Drzewo Decyzyjne.\n",
    "3.\tRegresja Logistyczna\n",
    "4.\tNaiwny Bayes\n",
    "5.\tLDA (Linear Discriminant Analysis)\n",
    "6.\tSVM (Support Vector Machine)\n",
    "7.\tMLP (Multi Layer Perceptron)\n",
    "\n",
    "W ramach danego paradygmatu uczenia przedstawić:\n",
    "-   podstawy teoretyczne (krótko)\n",
    "-   metody/typy\n",
    "-   parametry, regularyzację, optymalizację\n",
    "-   implementację (własną lub biblioteczną): uczenie, predykcja (testowanie)\n",
    "-   typowe metryki wraz z metodami ich wyliczania\n",
    "-   wizualizację: zbioru/modelu\n",
    "-   uczenie na wybranym zbiorze danych (przy wielu metodach w ramach paradygmatu, na różnych zbiorach danych)"
   ],
   "metadata": {
    "collapsed": false,
    "pycharm": {
     "name": "#%% md\n"
    }
   }
  },
  {
   "cell_type": "markdown",
   "source": [
    "## <center>1. k-NN (k-Nearest Neighbors)</center>"
   ],
   "metadata": {
    "collapsed": false,
    "pycharm": {
     "name": "#%% md\n"
    }
   }
  },
  {
   "cell_type": "markdown",
   "source": [
    "### <center>podstawy teoretyczne</center>\n",
    "Algorytm polega na:\n",
    "1.  porównaniu wartości zmiennych objaśniających dla obserwacji $C$ z wartościami tych zmiennych dla każdej obserwacji\n",
    "w zbiorze uczącym.\n",
    "2.  wyborze $k$ (ustalona z góry liczba) najbliższych do $C$ obserwacji ze zbioru uczącego.\n",
    "3.  Uśrednieniu wartości zmiennej objaśnianej dla wybranych obserwacji, w wyniku czego uzyskujemy prognozę."
   ],
   "metadata": {
    "collapsed": false,
    "pycharm": {
     "name": "#%% md\n"
    }
   }
  },
  {
   "cell_type": "code",
   "execution_count": 114,
   "outputs": [
    {
     "data": {
      "text/plain": "<IPython.core.display.SVG object>",
      "image/svg+xml": "<svg xmlns=\"http://www.w3.org/2000/svg\" width=\"3.1in\" height=\"2.8in\" viewBox=\"2197 2433 3731 3345\">\n<g style=\"stroke-width:.025in; stroke:black; fill:none\">\n<!-- Circle -->\n<circle cx=\"4157\" cy=\"4299\" r=\"106\" style=\"fill:#00b000;stroke:#00b000;stroke-width:16;\"/>\n<!-- Circle -->\n<circle cx=\"4157\" cy=\"4299\" r=\"1464\" style=\"stroke-dasharray:62 62;stroke:#000000;stroke-width:16;\"/>\n<!-- Circle -->\n<circle cx=\"4157\" cy=\"4299\" r=\"835\" style=\"stroke:#000000;stroke-width:16;\"/>\n<!-- Line: box -->\n<rect x=\"2220\" y=\"4251\" width=\"188\" height=\"188\" rx=\"0\" style=\"stroke:#0000d1;stroke-width:16; stroke-linejoin:miter; stroke-linecap:butt; fill:#0000d1; \"/>\n<!-- Line: box -->\n<rect x=\"2220\" y=\"3779\" width=\"188\" height=\"188\" rx=\"0\" style=\"stroke:#0000d1;stroke-width:16; stroke-linejoin:miter; stroke-linecap:butt; fill:#0000d1; \"/>\n<!-- Line: box -->\n<rect x=\"2267\" y=\"2787\" width=\"188\" height=\"188\" rx=\"0\" style=\"stroke:#0000d1;stroke-width:16; stroke-linejoin:miter; stroke-linecap:butt; fill:#0000d1; \"/>\n<!-- Line: box -->\n<rect x=\"2834\" y=\"3779\" width=\"188\" height=\"188\" rx=\"0\" style=\"stroke:#0000d1;stroke-width:16; stroke-linejoin:miter; stroke-linecap:butt; fill:#0000d1; \"/>\n<!-- Line: box -->\n<rect x=\"4204\" y=\"3070\" width=\"188\" height=\"188\" rx=\"0\" style=\"stroke:#0000d1;stroke-width:16; stroke-linejoin:miter; stroke-linecap:butt; fill:#0000d1; \"/>\n<!-- Line -->\n<polygon points=\"4677,4157 4488,4157 4582,3968 4677,4157 \" style=\"stroke:#ff0000;stroke-width:16; stroke-linejoin:miter; stroke-linecap:butt; fill:#ff0000; \"/>\n<!-- Line -->\n<polygon points=\"4866,2645 4677,2645 4771,2456 4866,2645 \" style=\"stroke:#ff0000;stroke-width:16; stroke-linejoin:miter; stroke-linecap:butt; fill:#ff0000; \"/>\n<!-- Line -->\n<polygon points=\"5905,2976 5716,2976 5811,2787 5905,2976 \" style=\"stroke:#ff0000;stroke-width:16; stroke-linejoin:miter; stroke-linecap:butt; fill:#ff0000; \"/>\n<!-- Line -->\n<polygon points=\"3779,2740 3590,2740 3685,2551 3779,2740 \" style=\"stroke:#ff0000;stroke-width:16; stroke-linejoin:miter; stroke-linecap:butt; fill:#ff0000; \"/>\n<!-- Line: box -->\n<rect x=\"3401\" y=\"4251\" width=\"188\" height=\"188\" rx=\"0\" style=\"stroke:#0000d1;stroke-width:16; stroke-linejoin:miter; stroke-linecap:butt; fill:#0000d1; \"/>\n<!-- Line -->\n<polygon points=\"4440,4535 4251,4535 4346,4346 4440,4535 \" style=\"stroke:#ff0000;stroke-width:16; stroke-linejoin:miter; stroke-linecap:butt; fill:#ff0000; \"/>\n<!-- Text -->\n<text xml:space=\"preserve\" x=\"4067\" y=\"4110\" stroke=\"#008f00\" fill=\"#008f00\" font-family=\"Times\" font-style=\"normal\" font-weight=\"normal\" font-size=\"252\" text-anchor=\"start\">?</text>\n</g>\n</svg>"
     },
     "execution_count": 114,
     "metadata": {},
     "output_type": "execute_result"
    }
   ],
   "source": [
    "SVG(url=\"https://upload.wikimedia.org/wikipedia/commons/e/e7/KnnClassification.svg\")"
   ],
   "metadata": {
    "collapsed": false,
    "pycharm": {
     "name": "#%%\n"
    }
   }
  },
  {
   "cell_type": "code",
   "execution_count": 115,
   "outputs": [],
   "source": [
    "url = \"https://archive.ics.uci.edu/ml/machine-learning-databases/iris/iris.data\"\n",
    "names = ['sepal-length', 'sepal-width', 'petal-length', 'petal-width', 'Class']\n",
    "dataset = pd.read_csv(url, names=names)"
   ],
   "metadata": {
    "collapsed": false,
    "pycharm": {
     "name": "#%%\n"
    }
   }
  },
  {
   "cell_type": "code",
   "execution_count": 116,
   "outputs": [
    {
     "data": {
      "text/plain": "   sepal-length  sepal-width  petal-length  petal-width        Class\n0           5.1          3.5           1.4          0.2  Iris-setosa\n1           4.9          3.0           1.4          0.2  Iris-setosa\n2           4.7          3.2           1.3          0.2  Iris-setosa\n3           4.6          3.1           1.5          0.2  Iris-setosa\n4           5.0          3.6           1.4          0.2  Iris-setosa",
      "text/html": "<div>\n<style scoped>\n    .dataframe tbody tr th:only-of-type {\n        vertical-align: middle;\n    }\n\n    .dataframe tbody tr th {\n        vertical-align: top;\n    }\n\n    .dataframe thead th {\n        text-align: right;\n    }\n</style>\n<table border=\"1\" class=\"dataframe\">\n  <thead>\n    <tr style=\"text-align: right;\">\n      <th></th>\n      <th>sepal-length</th>\n      <th>sepal-width</th>\n      <th>petal-length</th>\n      <th>petal-width</th>\n      <th>Class</th>\n    </tr>\n  </thead>\n  <tbody>\n    <tr>\n      <th>0</th>\n      <td>5.1</td>\n      <td>3.5</td>\n      <td>1.4</td>\n      <td>0.2</td>\n      <td>Iris-setosa</td>\n    </tr>\n    <tr>\n      <th>1</th>\n      <td>4.9</td>\n      <td>3.0</td>\n      <td>1.4</td>\n      <td>0.2</td>\n      <td>Iris-setosa</td>\n    </tr>\n    <tr>\n      <th>2</th>\n      <td>4.7</td>\n      <td>3.2</td>\n      <td>1.3</td>\n      <td>0.2</td>\n      <td>Iris-setosa</td>\n    </tr>\n    <tr>\n      <th>3</th>\n      <td>4.6</td>\n      <td>3.1</td>\n      <td>1.5</td>\n      <td>0.2</td>\n      <td>Iris-setosa</td>\n    </tr>\n    <tr>\n      <th>4</th>\n      <td>5.0</td>\n      <td>3.6</td>\n      <td>1.4</td>\n      <td>0.2</td>\n      <td>Iris-setosa</td>\n    </tr>\n  </tbody>\n</table>\n</div>"
     },
     "execution_count": 116,
     "metadata": {},
     "output_type": "execute_result"
    }
   ],
   "source": [
    "dataset.head()"
   ],
   "metadata": {
    "collapsed": false,
    "pycharm": {
     "name": "#%%\n"
    }
   }
  },
  {
   "cell_type": "markdown",
   "source": [
    "<center>Dzielimy naszą bazę na atrybuty i klasy</center>"
   ],
   "metadata": {
    "collapsed": false,
    "pycharm": {
     "name": "#%% md\n"
    }
   }
  },
  {
   "cell_type": "code",
   "execution_count": 117,
   "outputs": [],
   "source": [
    "X = dataset.iloc[:, :-1].values\n",
    "y = dataset.iloc[:, 4].values"
   ],
   "metadata": {
    "collapsed": false,
    "pycharm": {
     "name": "#%%\n"
    }
   }
  },
  {
   "cell_type": "markdown",
   "source": [
    "### <center>Aby uniknac przeuczenia dzielimy zbior w proporcjach 70/30</center>"
   ],
   "metadata": {
    "collapsed": false,
    "pycharm": {
     "name": "#%% md\n"
    }
   }
  },
  {
   "cell_type": "code",
   "execution_count": 118,
   "outputs": [],
   "source": [
    "X_train, X_test, y_train, y_test = train_test_split(X, y, test_size=0.30)"
   ],
   "metadata": {
    "collapsed": false,
    "pycharm": {
     "name": "#%%\n"
    }
   }
  },
  {
   "cell_type": "code",
   "execution_count": 119,
   "outputs": [],
   "source": [
    "def k_nearest_classifier(x_train: np.ndarray, x_test: np.ndarray, y_train: np.ndarray, y_test: np.ndarray, n_neighbors: int = 5):\n",
    "    classifier = KNeighborsClassifier(n_neighbors=5)\n",
    "    classifier.fit(x_train, y_train)\n",
    "    y_pred = classifier.predict(x_test)\n",
    "    print(\"METRICS:\")\n",
    "    print(confusion_matrix(y_test, y_pred))\n",
    "    print(classification_report(y_test, y_pred))\n",
    "\n",
    "    calc_error_for_k_values(range(1,40), x_train, x_test, y_train, y_test)"
   ],
   "metadata": {
    "collapsed": false,
    "pycharm": {
     "name": "#%%\n"
    }
   }
  },
  {
   "cell_type": "code",
   "execution_count": 120,
   "outputs": [],
   "source": [
    "def calc_error_for_k_values(range_values: range, x_train: np.ndarray, x_test: np.ndarray, y_train: np.ndarray, y_test: np.ndarray):\n",
    "    error = []\n",
    "    for i in range_values:\n",
    "        knn = KNeighborsClassifier(n_neighbors=i)\n",
    "        knn.fit(x_train, y_train)\n",
    "        pred_i = knn.predict(x_test)\n",
    "        error.append(np.mean(pred_i != y_test))\n",
    "\n",
    "    plt.plot(range_values, error, color='red', linestyle='dashed', marker='o',\n",
    "         markerfacecolor='blue', markersize=10)\n",
    "    plt.title('Error Rate K Value')\n",
    "    plt.xlabel('K Value')\n",
    "    plt.ylabel('Mean Error')\n",
    "    plt.show()"
   ],
   "metadata": {
    "collapsed": false,
    "pycharm": {
     "name": "#%%\n"
    }
   }
  },
  {
   "cell_type": "code",
   "execution_count": 121,
   "outputs": [
    {
     "name": "stdout",
     "output_type": "stream",
     "text": [
      "METRICS:\n",
      "[[19  0  0]\n",
      " [ 0 11  2]\n",
      " [ 0  0 13]]\n",
      "                 precision    recall  f1-score   support\n",
      "\n",
      "    Iris-setosa       1.00      1.00      1.00        19\n",
      "Iris-versicolor       1.00      0.85      0.92        13\n",
      " Iris-virginica       0.87      1.00      0.93        13\n",
      "\n",
      "       accuracy                           0.96        45\n",
      "      macro avg       0.96      0.95      0.95        45\n",
      "   weighted avg       0.96      0.96      0.96        45\n",
      "\n"
     ]
    },
    {
     "data": {
      "text/plain": "<Figure size 1440x720 with 1 Axes>",
      "image/png": "[encoded data removed]"
     },
     "metadata": {
      "needs_background": "light"
     },
     "output_type": "display_data"
    }
   ],
   "source": [
    "k_nearest_classifier(X_train, X_test, y_train, y_test)"
   ],
   "metadata": {
    "collapsed": false,
    "pycharm": {
     "name": "#%%\n"
    }
   }
  },
  {
   "cell_type": "markdown",
   "source": [
    "### <center>2. Decision Tree</center>\n"
   ],
   "metadata": {
    "collapsed": false
   }
  },
  {
   "cell_type": "markdown",
   "source": [
    "### <center>podstawy teoretyczne</center>\n",
    "Drzewa decyzyjne w uczeniu maszynowym służą do wyodrębniania wiedzy z zestawu przykładów .\n",
    "Zakładamy, że posiadamy zestaw przykładów: obiektów opisanych przy pomocy atrybutów, którym\n",
    "przyporządkowujemy jakąś decyzję."
   ],
   "metadata": {
    "collapsed": false,
    "pycharm": {
     "name": "#%% md\n"
    }
   }
  },
  {
   "cell_type": "code",
   "execution_count": 122,
   "outputs": [
    {
     "data": {
      "text/html": "<img src=\"https://media.geeksforgeeks.org/wp-content/uploads/decisionTree.png\"/>",
      "text/plain": "<IPython.core.display.Image object>"
     },
     "execution_count": 122,
     "metadata": {},
     "output_type": "execute_result"
    }
   ],
   "source": [
    "Image(url=\"https://media.geeksforgeeks.org/wp-content/uploads/decisionTree.png\")"
   ],
   "metadata": {
    "collapsed": false,
    "pycharm": {
     "name": "#%%\n"
    }
   }
  },
  {
   "cell_type": "code",
   "execution_count": 123,
   "outputs": [],
   "source": [
    "def decision_tree_classifier(x: pd.DataFrame, y: np.ndarray, title: str, test_size: float = 0.3):\n",
    "    X_train, X_test, y_train, y_test = train_test_split(x, y, test_size=test_size, random_state=1, stratify=y)\n",
    "    clf_tree = DecisionTreeClassifier(criterion='gini', max_depth=4, random_state=1)\n",
    "    clf_tree.fit(X_train, y_train)\n",
    "\n",
    "    X_combined = np.vstack((X_train, X_test))\n",
    "    y_combined = np.hstack((y_train, y_test))\n",
    "    plt.rcParams[\"figure.figsize\"]=(7, 7)\n",
    "    plot_decision_regions(X_combined, y_combined, clf=clf_tree)\n",
    "    plt.xlabel('{} length [cm]'.format(title))\n",
    "    plt.ylabel('{} width [cm]'.format(title))\n",
    "    plt.legend(loc='upper left')\n",
    "    plt.tight_layout()\n",
    "    plt.show()"
   ],
   "metadata": {
    "collapsed": false,
    "pycharm": {
     "name": "#%%\n"
    }
   }
  },
  {
   "cell_type": "markdown",
   "source": [
    "<center>NOTE: Wczytujemy iris z datasets ponieważ klasy są już znormalizowane</center>"
   ],
   "metadata": {
    "collapsed": false,
    "pycharm": {
     "name": "#%% md\n"
    }
   }
  },
  {
   "cell_type": "code",
   "execution_count": 124,
   "outputs": [],
   "source": [
    "iris = datasets.load_iris()\n",
    "X = dataset.iloc[:, 0:2].values\n",
    "y = iris.target"
   ],
   "metadata": {
    "collapsed": false,
    "pycharm": {
     "name": "#%%\n"
    }
   }
  },
  {
   "cell_type": "code",
   "execution_count": 125,
   "outputs": [
    {
     "data": {
      "text/plain": "<Figure size 504x504 with 1 Axes>",
      "image/png": "[encoded data removed]"
     },
     "metadata": {
      "needs_background": "light"
     },
     "output_type": "display_data"
    }
   ],
   "source": [
    "decision_tree_classifier(X, y, \"setal\")"
   ],
   "metadata": {
    "collapsed": false,
    "pycharm": {
     "name": "#%%\n"
    }
   }
  },
  {
   "cell_type": "code",
   "execution_count": 126,
   "outputs": [],
   "source": [
    "iris = datasets.load_iris()\n",
    "X = dataset.iloc[:, 2:-1].values\n",
    "y = iris.target"
   ],
   "metadata": {
    "collapsed": false,
    "pycharm": {
     "name": "#%%\n"
    }
   }
  },
  {
   "cell_type": "code",
   "execution_count": 127,
   "outputs": [
    {
     "data": {
      "text/plain": "<Figure size 504x504 with 1 Axes>",
      "image/png": "[encoded data removed]"
     },
     "metadata": {
      "needs_background": "light"
     },
     "output_type": "display_data"
    }
   ],
   "source": [
    "decision_tree_classifier(X, y, \"petal\")"
   ],
   "metadata": {
    "collapsed": false,
    "pycharm": {
     "name": "#%%\n"
    }
   }
  },
  {
   "cell_type": "markdown",
   "source": [
    "## <center>3. Logistic Regression</center>"
   ],
   "metadata": {
    "collapsed": false
   }
  },
  {
   "cell_type": "markdown",
   "source": [
    "### <center>podstawy teoretyczne</center>\n",
    "Jedną z najpopularniejszych odmian analizy regresji jest regresja logistyczna.\n",
    "Najważniejszą cechą regresji logistycznej jest to, że zmienna zależna jest zmienną\n",
    "dychotomiczną, czyli przyjmuje dwie wartości, najczęściej $0$ i $1.$ </br>\n",
    "Sytuacja taka występuje w przypadku, gdy określamy wystąpienie bądź brak wystąpienia pewnego\n",
    "zdarzenia, zjawiska, np: śmierć, choroba."
   ],
   "metadata": {
    "collapsed": false
   }
  },
  {
   "cell_type": "code",
   "execution_count": 128,
   "outputs": [
    {
     "name": "stdout",
     "output_type": "stream",
     "text": [
      "                 precision    recall  f1-score   support\n",
      "\n",
      "    Iris-setosa       1.00      1.00      1.00        19\n",
      "Iris-versicolor       1.00      1.00      1.00        13\n",
      " Iris-virginica       1.00      1.00      1.00        13\n",
      "\n",
      "       accuracy                           1.00        45\n",
      "      macro avg       1.00      1.00      1.00        45\n",
      "   weighted avg       1.00      1.00      1.00        45\n",
      "\n"
     ]
    }
   ],
   "source": [
    "X = dataset.iloc[:, :-1].values\n",
    "y = dataset.iloc[:, 4].values\n",
    "x_train, x_test, y_train, y_test = train_test_split(X, y, test_size=0.3, random_state=42)\n",
    "model = LogisticRegression()\n",
    "model.fit(x_train, y_train) #Training the model\n",
    "predictions = model.predict(x_test)\n",
    "print( classification_report(y_test, predictions) )"
   ],
   "metadata": {
    "collapsed": false,
    "pycharm": {
     "name": "#%%\n"
    }
   }
  },
  {
   "cell_type": "code",
   "execution_count": 129,
   "outputs": [],
   "source": [
    "def logistic_regression(x: pd.DataFrame, y: pd.DataFrame, test_size: float = 0.3):\n",
    "    x_train, x_test, y_train, y_test = train_test_split(x, y, test_size=test_size, random_state=42)\n",
    "    model = LogisticRegression()\n",
    "    model.fit(x_train, y_train) #Training the model\n",
    "    predictions = model.predict(x_test)\n",
    "    print(classification_report(y_test, predictions))"
   ],
   "metadata": {
    "collapsed": false,
    "pycharm": {
     "name": "#%%\n"
    }
   }
  },
  {
   "cell_type": "markdown",
   "source": [
    "## <center>4. Naiwny Bayes</center>"
   ],
   "metadata": {
    "collapsed": false
   }
  },
  {
   "cell_type": "markdown",
   "source": [
    "### <center>podstawy teoretyczne</center>\n",
    "Naiwny klasyfikator Bayesowski, bazujący na twierdzeniu Bayesa, nadaje się szczególnie do problemów o\n",
    "bardzo wielu wymiarach na wejściu. Mimo prostoty metody, często działa ona lepiej od innych, bardzo\n",
    "skomplikowanych metod klasyfikujących.\n",
    "<br><center>Twierdzenie Bayesa $P(A|B) =\t\\frac{P(B | A)P(A)}{P(B)}$</center>"
   ],
   "metadata": {
    "collapsed": false
   }
  },
  {
   "cell_type": "code",
   "execution_count": 130,
   "outputs": [
    {
     "data": {
      "text/html": "<img src=\"https://miro.medium.com/max/1200/0*qFuHAV7Vd09064q-.jpeg\"/>",
      "text/plain": "<IPython.core.display.Image object>"
     },
     "execution_count": 130,
     "metadata": {},
     "output_type": "execute_result"
    }
   ],
   "source": [
    "Image(url=\"https://miro.medium.com/max/1200/0*qFuHAV7Vd09064q-.jpeg\")"
   ],
   "metadata": {
    "collapsed": false,
    "pycharm": {
     "name": "#%%\n"
    }
   }
  },
  {
   "cell_type": "code",
   "execution_count": 131,
   "outputs": [],
   "source": [
    "def gaussian(x: pd.DataFrame, y: pd.DataFrame, test_size: float = 0.3):\n",
    "    gaussian = GaussianNB()\n",
    "    x_train, x_test, y_train, y_test = train_test_split(X, y, test_size=0.3, random_state=42)\n",
    "    gaussian.fit(x_train, y_train)\n",
    "    Y_pred = gaussian.predict(x_test)\n",
    "    print(classification_report(y_test, Y_pred))"
   ],
   "metadata": {
    "collapsed": false,
    "pycharm": {
     "name": "#%%\n"
    }
   }
  },
  {
   "cell_type": "code",
   "execution_count": 132,
   "outputs": [
    {
     "name": "stdout",
     "output_type": "stream",
     "text": [
      "                 precision    recall  f1-score   support\n",
      "\n",
      "    Iris-setosa       1.00      1.00      1.00        19\n",
      "Iris-versicolor       1.00      0.92      0.96        13\n",
      " Iris-virginica       0.93      1.00      0.96        13\n",
      "\n",
      "       accuracy                           0.98        45\n",
      "      macro avg       0.98      0.97      0.97        45\n",
      "   weighted avg       0.98      0.98      0.98        45\n",
      "\n"
     ]
    }
   ],
   "source": [
    "gaussian(X,y)"
   ],
   "metadata": {
    "collapsed": false,
    "pycharm": {
     "name": "#%%\n"
    }
   }
  },
  {
   "cell_type": "markdown",
   "source": [
    "## <center>5.\tLDA (Linear Discriminant Analysis)</center>"
   ],
   "metadata": {
    "collapsed": false
   }
  },
  {
   "cell_type": "markdown",
   "source": [
    "### <center>podstawy teoretyczne</center>\n",
    "Liniowa analiza dyskryminacyjna i związany z nią liniowy dyskryminator Fishera są używanie w uczeniu maszynowym\n",
    "do znalezienia liniowej kombinacji cech, które najlepiej rozróżniają dwie lub więcej klas obiektów lub zdarzeń.\n",
    "Wynikowe kombinacje są używane jako klasyfikator liniowy lub, częściej, służą redukcji wymiarów do późniejszej\n",
    "klasyfikacji statystycznej."
   ],
   "metadata": {
    "collapsed": false,
    "pycharm": {
     "name": "#%% md\n"
    }
   }
  },
  {
   "cell_type": "code",
   "execution_count": 133,
   "outputs": [],
   "source": [
    "def lda(x: pd.DataFrame, y: pd.DataFrame, test_size: float = 0.3):\n",
    "    lda = LinearDiscriminantAnalysis(n_components=2)\n",
    "    x_train, x_test, y_train, y_test = train_test_split(X, y, test_size=0.3, random_state=42)\n",
    "    lda.fit(x_train, y_train)\n",
    "    Y_pred = lda.predict(x_test)\n",
    "    print(classification_report(y_test, Y_pred))"
   ],
   "metadata": {
    "collapsed": false,
    "pycharm": {
     "name": "#%%\n"
    }
   }
  },
  {
   "cell_type": "code",
   "execution_count": 134,
   "outputs": [
    {
     "name": "stdout",
     "output_type": "stream",
     "text": [
      "                 precision    recall  f1-score   support\n",
      "\n",
      "    Iris-setosa       1.00      1.00      1.00        19\n",
      "Iris-versicolor       1.00      1.00      1.00        13\n",
      " Iris-virginica       1.00      1.00      1.00        13\n",
      "\n",
      "       accuracy                           1.00        45\n",
      "      macro avg       1.00      1.00      1.00        45\n",
      "   weighted avg       1.00      1.00      1.00        45\n",
      "\n"
     ]
    }
   ],
   "source": [
    "lda(X,y)"
   ],
   "metadata": {
    "collapsed": false,
    "pycharm": {
     "name": "#%%\n"
    }
   }
  },
  {
   "cell_type": "markdown",
   "source": [
    "## <center>6.\tSVM (Support Vector Machine)</center>"
   ],
   "metadata": {
    "collapsed": false
   }
  },
  {
   "cell_type": "markdown",
   "source": [
    "### <center>podstawy teoretyczne</center>"
   ],
   "metadata": {
    "collapsed": false
   }
  },
  {
   "cell_type": "code",
   "execution_count": 135,
   "outputs": [
    {
     "data": {
      "text/html": "<img src=\"https://res.cloudinary.com/dyd911kmh/image/upload/f_auto,q_auto:best/v1526288454/index2_ub1uzd.png\"/>",
      "text/plain": "<IPython.core.display.Image object>"
     },
     "execution_count": 135,
     "metadata": {},
     "output_type": "execute_result"
    }
   ],
   "source": [
    "Image(url=\"https://res.cloudinary.com/dyd911kmh/image/upload/f_auto,q_auto:best/v1526288454/index2_ub1uzd.png\")"
   ],
   "metadata": {
    "collapsed": false,
    "pycharm": {
     "name": "#%%\n"
    }
   }
  },
  {
   "cell_type": "code",
   "execution_count": 136,
   "outputs": [],
   "source": [
    "def support_vertical_machine(x: pd.DataFrame, y: pd.DataFrame, test_size: float = 0.3):\n",
    "    svc = svm.SVC(kernel='linear')\n",
    "    x_train, x_test, y_train, y_test = train_test_split(x, y, test_size=test_size, random_state=42)\n",
    "    svc.fit(x_train, y_train)\n",
    "    Y_pred = svc.predict(x_test)\n",
    "    print(classification_report(y_test, Y_pred))"
   ],
   "metadata": {
    "collapsed": false,
    "pycharm": {
     "name": "#%%\n"
    }
   }
  },
  {
   "cell_type": "code",
   "execution_count": 137,
   "outputs": [
    {
     "name": "stdout",
     "output_type": "stream",
     "text": [
      "                 precision    recall  f1-score   support\n",
      "\n",
      "    Iris-setosa       1.00      1.00      1.00        19\n",
      "Iris-versicolor       1.00      1.00      1.00        13\n",
      " Iris-virginica       1.00      1.00      1.00        13\n",
      "\n",
      "       accuracy                           1.00        45\n",
      "      macro avg       1.00      1.00      1.00        45\n",
      "   weighted avg       1.00      1.00      1.00        45\n",
      "\n"
     ]
    }
   ],
   "source": [
    "support_vertical_machine(X,y)"
   ],
   "metadata": {
    "collapsed": false,
    "pycharm": {
     "name": "#%%\n"
    }
   }
  },
  {
   "cell_type": "markdown",
   "source": [
    "## <center>7.\tMLP (Multi Layer Perceptron)</center>"
   ],
   "metadata": {
    "collapsed": false
   }
  },
  {
   "cell_type": "markdown",
   "source": [
    "### <center>podstawy teoretyczne</center>"
   ],
   "metadata": {
    "collapsed": false
   }
  },
  {
   "cell_type": "code",
   "source": [
    "def mlp(x: pd.DataFrame, y: pd.DataFrame, test_size: float = 0.3):\n",
    "    clf = MLPClassifier(solver='lbfgs',\n",
    "                    alpha=1e-5,\n",
    "                    hidden_layer_sizes=(6,),\n",
    "                    random_state=1)\n",
    "    x_train, x_test, y_train, y_test = train_test_split(x, y, test_size=test_size, random_state=42)\n",
    "    clf.fit(x_train, y_train)\n",
    "    Y_pred = clf.predict(x_test)\n",
    "    print(classification_report(y_test, Y_pred))"
   ],
   "metadata": {
    "collapsed": false,
    "pycharm": {
     "name": "#%%\n"
    }
   },
   "execution_count": 142,
   "outputs": []
  },
  {
   "cell_type": "code",
   "execution_count": 143,
   "outputs": [
    {
     "name": "stdout",
     "output_type": "stream",
     "text": [
      "                 precision    recall  f1-score   support\n",
      "\n",
      "    Iris-setosa       0.00      0.00      0.00        19\n",
      "Iris-versicolor       0.00      0.00      0.00        13\n",
      " Iris-virginica       0.29      1.00      0.45        13\n",
      "\n",
      "       accuracy                           0.29        45\n",
      "      macro avg       0.10      0.33      0.15        45\n",
      "   weighted avg       0.08      0.29      0.13        45\n",
      "\n"
     ]
    },
    {
     "name": "stderr",
     "output_type": "stream",
     "text": [
      "C:\\Users\\pawst\\AppData\\Local\\Programs\\Python\\Python38\\lib\\site-packages\\sklearn\\metrics\\_classification.py:1245: UndefinedMetricWarning: Precision and F-score are ill-defined and being set to 0.0 in labels with no predicted samples. Use `zero_division` parameter to control this behavior.\n",
      "  _warn_prf(average, modifier, msg_start, len(result))\n",
      "C:\\Users\\pawst\\AppData\\Local\\Programs\\Python\\Python38\\lib\\site-packages\\sklearn\\metrics\\_classification.py:1245: UndefinedMetricWarning: Precision and F-score are ill-defined and being set to 0.0 in labels with no predicted samples. Use `zero_division` parameter to control this behavior.\n",
      "  _warn_prf(average, modifier, msg_start, len(result))\n",
      "C:\\Users\\pawst\\AppData\\Local\\Programs\\Python\\Python38\\lib\\site-packages\\sklearn\\metrics\\_classification.py:1245: UndefinedMetricWarning: Precision and F-score are ill-defined and being set to 0.0 in labels with no predicted samples. Use `zero_division` parameter to control this behavior.\n",
      "  _warn_prf(average, modifier, msg_start, len(result))\n"
     ]
    }
   ],
   "source": [
    "mlp(X,y)"
   ],
   "metadata": {
    "collapsed": false,
    "pycharm": {
     "name": "#%%\n"
    }
   }
  }
 ],
 "metadata": {
  "kernelspec": {
   "display_name": "Python 3",
   "language": "python",
   "name": "python3"
  },
  "language_info": {
   "codemirror_mode": {
    "name": "ipython",
    "version": 2
   },
   "file_extension": ".py",
   "mimetype": "text/x-python",
   "name": "python",
   "nbconvert_exporter": "python",
   "pygments_lexer": "ipython2",
   "version": "2.7.6"
  }
 },
 "nbformat": 4,
 "nbformat_minor": 0
}