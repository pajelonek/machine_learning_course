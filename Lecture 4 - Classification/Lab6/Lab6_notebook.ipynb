{
 "cells": [
  {
   "cell_type": "markdown",
   "metadata": {
    "collapsed": true,
    "pycharm": {
     "name": "#%% md\n"
    }
   },
   "source": [
    "## Author: Paweł Jelonek <br> Date: 30.05.2021\n",
    "### Machine learning course:<br> Lecture 4 - Classification"
   ]
  },
  {
   "cell_type": "code",
   "execution_count": 90,
   "outputs": [],
   "source": [
    "import pandas as pd\n",
    "import numpy as np\n",
    "import matplotlib.pyplot as plt\n",
    "from IPython.display import SVG, Image\n",
    "from sklearn.model_selection import train_test_split\n",
    "from sklearn.neighbors import KNeighborsClassifier\n",
    "from sklearn.metrics import classification_report, confusion_matrix\n",
    "\n",
    "plt.rcParams[\"figure.figsize\"]=(20, 10)"
   ],
   "metadata": {
    "collapsed": false,
    "pycharm": {
     "name": "#%%\n"
    }
   }
  },
  {
   "cell_type": "markdown",
   "source": [
    "Proszę opracować paradygmat uczenia:\n",
    "1.\tKlasyfikator k-NN (k-Nearest Neighbors).\n",
    "2.\tKlasyfikator Drzewo Decyzyjne.\n",
    "3.\tRegresja Logistyczna\n",
    "4.\tNaiwny Bayes\n",
    "5.\tLDA (Linear Discriminant Analysis)\n",
    "6.\tSVM (Support Vector Machine)\n",
    "7.\tMLP (Multi Layer Perceptron)\n",
    "\n",
    "W ramach danego paradygmatu uczenia przedstawić:\n",
    "-   podstawy teoretyczne (krótko)\n",
    "-   metody/typy\n",
    "-   parametry, regularyzację, optymalizację\n",
    "-   implementację (własną lub biblioteczną): uczenie, predykcja (testowanie)\n",
    "-   typowe metryki wraz z metodami ich wyliczania\n",
    "-   wizualizację: zbioru/modelu\n",
    "-   uczenie na wybranym zbiorze danych (przy wielu metodach w ramach paradygmatu, na różnych zbiorach danych)"
   ],
   "metadata": {
    "collapsed": false,
    "pycharm": {
     "name": "#%% md\n"
    }
   }
  },
  {
   "cell_type": "markdown",
   "source": [
    "## <center>1. k-NN (k-Nearest Neighbors)</center>"
   ],
   "metadata": {
    "collapsed": false,
    "pycharm": {
     "name": "#%% md\n"
    }
   }
  },
  {
   "cell_type": "markdown",
   "source": [
    "### <center>podstawy teoretyczne</center>\n",
    "Algorytm polega na:\n",
    "1.  porównaniu wartości zmiennych objaśniających dla obserwacji $C$ z wartościami tych zmiennych dla każdej obserwacji\n",
    "w zbiorze uczącym.\n",
    "2.  wyborze $k$ (ustalona z góry liczba) najbliższych do $C$ obserwacji ze zbioru uczącego.\n",
    "3.  Uśrednieniu wartości zmiennej objaśnianej dla wybranych obserwacji, w wyniku czego uzyskujemy prognozę."
   ],
   "metadata": {
    "collapsed": false,
    "pycharm": {
     "name": "#%% md\n"
    }
   }
  },
  {
   "cell_type": "code",
   "execution_count": 91,
   "outputs": [
    {
     "data": {
      "text/plain": "<IPython.core.display.SVG object>",
      "image/svg+xml": "<svg xmlns=\"http://www.w3.org/2000/svg\" width=\"3.1in\" height=\"2.8in\" viewBox=\"2197 2433 3731 3345\">\n<g style=\"stroke-width:.025in; stroke:black; fill:none\">\n<!-- Circle -->\n<circle cx=\"4157\" cy=\"4299\" r=\"106\" style=\"fill:#00b000;stroke:#00b000;stroke-width:16;\"/>\n<!-- Circle -->\n<circle cx=\"4157\" cy=\"4299\" r=\"1464\" style=\"stroke-dasharray:62 62;stroke:#000000;stroke-width:16;\"/>\n<!-- Circle -->\n<circle cx=\"4157\" cy=\"4299\" r=\"835\" style=\"stroke:#000000;stroke-width:16;\"/>\n<!-- Line: box -->\n<rect x=\"2220\" y=\"4251\" width=\"188\" height=\"188\" rx=\"0\" style=\"stroke:#0000d1;stroke-width:16; stroke-linejoin:miter; stroke-linecap:butt; fill:#0000d1; \"/>\n<!-- Line: box -->\n<rect x=\"2220\" y=\"3779\" width=\"188\" height=\"188\" rx=\"0\" style=\"stroke:#0000d1;stroke-width:16; stroke-linejoin:miter; stroke-linecap:butt; fill:#0000d1; \"/>\n<!-- Line: box -->\n<rect x=\"2267\" y=\"2787\" width=\"188\" height=\"188\" rx=\"0\" style=\"stroke:#0000d1;stroke-width:16; stroke-linejoin:miter; stroke-linecap:butt; fill:#0000d1; \"/>\n<!-- Line: box -->\n<rect x=\"2834\" y=\"3779\" width=\"188\" height=\"188\" rx=\"0\" style=\"stroke:#0000d1;stroke-width:16; stroke-linejoin:miter; stroke-linecap:butt; fill:#0000d1; \"/>\n<!-- Line: box -->\n<rect x=\"4204\" y=\"3070\" width=\"188\" height=\"188\" rx=\"0\" style=\"stroke:#0000d1;stroke-width:16; stroke-linejoin:miter; stroke-linecap:butt; fill:#0000d1; \"/>\n<!-- Line -->\n<polygon points=\"4677,4157 4488,4157 4582,3968 4677,4157 \" style=\"stroke:#ff0000;stroke-width:16; stroke-linejoin:miter; stroke-linecap:butt; fill:#ff0000; \"/>\n<!-- Line -->\n<polygon points=\"4866,2645 4677,2645 4771,2456 4866,2645 \" style=\"stroke:#ff0000;stroke-width:16; stroke-linejoin:miter; stroke-linecap:butt; fill:#ff0000; \"/>\n<!-- Line -->\n<polygon points=\"5905,2976 5716,2976 5811,2787 5905,2976 \" style=\"stroke:#ff0000;stroke-width:16; stroke-linejoin:miter; stroke-linecap:butt; fill:#ff0000; \"/>\n<!-- Line -->\n<polygon points=\"3779,2740 3590,2740 3685,2551 3779,2740 \" style=\"stroke:#ff0000;stroke-width:16; stroke-linejoin:miter; stroke-linecap:butt; fill:#ff0000; \"/>\n<!-- Line: box -->\n<rect x=\"3401\" y=\"4251\" width=\"188\" height=\"188\" rx=\"0\" style=\"stroke:#0000d1;stroke-width:16; stroke-linejoin:miter; stroke-linecap:butt; fill:#0000d1; \"/>\n<!-- Line -->\n<polygon points=\"4440,4535 4251,4535 4346,4346 4440,4535 \" style=\"stroke:#ff0000;stroke-width:16; stroke-linejoin:miter; stroke-linecap:butt; fill:#ff0000; \"/>\n<!-- Text -->\n<text xml:space=\"preserve\" x=\"4067\" y=\"4110\" stroke=\"#008f00\" fill=\"#008f00\" font-family=\"Times\" font-style=\"normal\" font-weight=\"normal\" font-size=\"252\" text-anchor=\"start\">?</text>\n</g>\n</svg>"
     },
     "execution_count": 91,
     "metadata": {},
     "output_type": "execute_result"
    }
   ],
   "source": [
    "SVG(url=\"https://upload.wikimedia.org/wikipedia/commons/e/e7/KnnClassification.svg\")"
   ],
   "metadata": {
    "collapsed": false,
    "pycharm": {
     "name": "#%%\n"
    }
   }
  },
  {
   "cell_type": "code",
   "execution_count": 92,
   "outputs": [],
   "source": [
    "url = \"https://archive.ics.uci.edu/ml/machine-learning-databases/iris/iris.data\"\n",
    "names = ['sepal-length', 'sepal-width', 'petal-length', 'petal-width', 'Class']\n",
    "dataset = pd.read_csv(url, names=names)"
   ],
   "metadata": {
    "collapsed": false,
    "pycharm": {
     "name": "#%%\n"
    }
   }
  },
  {
   "cell_type": "code",
   "execution_count": 93,
   "outputs": [
    {
     "data": {
      "text/plain": "   sepal-length  sepal-width  petal-length  petal-width        Class\n0           5.1          3.5           1.4          0.2  Iris-setosa\n1           4.9          3.0           1.4          0.2  Iris-setosa\n2           4.7          3.2           1.3          0.2  Iris-setosa\n3           4.6          3.1           1.5          0.2  Iris-setosa\n4           5.0          3.6           1.4          0.2  Iris-setosa",
      "text/html": "<div>\n<style scoped>\n    .dataframe tbody tr th:only-of-type {\n        vertical-align: middle;\n    }\n\n    .dataframe tbody tr th {\n        vertical-align: top;\n    }\n\n    .dataframe thead th {\n        text-align: right;\n    }\n</style>\n<table border=\"1\" class=\"dataframe\">\n  <thead>\n    <tr style=\"text-align: right;\">\n      <th></th>\n      <th>sepal-length</th>\n      <th>sepal-width</th>\n      <th>petal-length</th>\n      <th>petal-width</th>\n      <th>Class</th>\n    </tr>\n  </thead>\n  <tbody>\n    <tr>\n      <th>0</th>\n      <td>5.1</td>\n      <td>3.5</td>\n      <td>1.4</td>\n      <td>0.2</td>\n      <td>Iris-setosa</td>\n    </tr>\n    <tr>\n      <th>1</th>\n      <td>4.9</td>\n      <td>3.0</td>\n      <td>1.4</td>\n      <td>0.2</td>\n      <td>Iris-setosa</td>\n    </tr>\n    <tr>\n      <th>2</th>\n      <td>4.7</td>\n      <td>3.2</td>\n      <td>1.3</td>\n      <td>0.2</td>\n      <td>Iris-setosa</td>\n    </tr>\n    <tr>\n      <th>3</th>\n      <td>4.6</td>\n      <td>3.1</td>\n      <td>1.5</td>\n      <td>0.2</td>\n      <td>Iris-setosa</td>\n    </tr>\n    <tr>\n      <th>4</th>\n      <td>5.0</td>\n      <td>3.6</td>\n      <td>1.4</td>\n      <td>0.2</td>\n      <td>Iris-setosa</td>\n    </tr>\n  </tbody>\n</table>\n</div>"
     },
     "execution_count": 93,
     "metadata": {},
     "output_type": "execute_result"
    }
   ],
   "source": [
    "dataset.head()"
   ],
   "metadata": {
    "collapsed": false,
    "pycharm": {
     "name": "#%%\n"
    }
   }
  },
  {
   "cell_type": "markdown",
   "source": [
    "<center>Dzielimy naszą bazę na atrybuty i klasy</center>"
   ],
   "metadata": {
    "collapsed": false,
    "pycharm": {
     "name": "#%% md\n"
    }
   }
  },
  {
   "cell_type": "code",
   "execution_count": 94,
   "outputs": [],
   "source": [
    "X = dataset.iloc[:, :-1].values\n",
    "y = dataset.iloc[:, 4].values"
   ],
   "metadata": {
    "collapsed": false,
    "pycharm": {
     "name": "#%%\n"
    }
   }
  },
  {
   "cell_type": "markdown",
   "source": [
    "### <center>Aby uniknac przeuczenia dzielimy zbior w proporcjach 70/30</center>"
   ],
   "metadata": {
    "collapsed": false,
    "pycharm": {
     "name": "#%% md\n"
    }
   }
  },
  {
   "cell_type": "code",
   "execution_count": 95,
   "outputs": [],
   "source": [
    "X_train, X_test, y_train, y_test = train_test_split(X, y, test_size=0.30)"
   ],
   "metadata": {
    "collapsed": false,
    "pycharm": {
     "name": "#%%\n"
    }
   }
  },
  {
   "cell_type": "code",
   "execution_count": 96,
   "outputs": [],
   "source": [
    "def k_nearest_classifier(x_train: np.ndarray, x_test: np.ndarray, y_train: np.ndarray, y_test: np.ndarray, n_neighbors: int = 5):\n",
    "    classifier = KNeighborsClassifier(n_neighbors=5)\n",
    "    classifier.fit(x_train, y_train)\n",
    "    y_pred = classifier.predict(x_test)\n",
    "    print(\"METRICS:\")\n",
    "    print(confusion_matrix(y_test, y_pred))\n",
    "    print(classification_report(y_test, y_pred))\n",
    "\n",
    "    calc_error_for_k_values(range(1,40), x_train, x_test, y_train, y_test)\n",
    "    return None"
   ],
   "metadata": {
    "collapsed": false,
    "pycharm": {
     "name": "#%%\n"
    }
   }
  },
  {
   "cell_type": "code",
   "execution_count": 97,
   "outputs": [],
   "source": [
    "def calc_error_for_k_values(range_values: range, x_train: np.ndarray, x_test: np.ndarray, y_train: np.ndarray, y_test: np.ndarray):\n",
    "    error = []\n",
    "    for i in range_values:\n",
    "        knn = KNeighborsClassifier(n_neighbors=i)\n",
    "        knn.fit(x_train, y_train)\n",
    "        pred_i = knn.predict(x_test)\n",
    "        error.append(np.mean(pred_i != y_test))\n",
    "\n",
    "    plt.plot(range_values, error, color='red', linestyle='dashed', marker='o',\n",
    "         markerfacecolor='blue', markersize=10)\n",
    "    plt.title('Error Rate K Value')\n",
    "    plt.xlabel('K Value')\n",
    "    plt.ylabel('Mean Error')\n",
    "    plt.show()"
   ],
   "metadata": {
    "collapsed": false,
    "pycharm": {
     "name": "#%%\n"
    }
   }
  },
  {
   "cell_type": "code",
   "execution_count": 98,
   "outputs": [
    {
     "name": "stdout",
     "output_type": "stream",
     "text": [
      "METRICS:\n",
      "[[15  0  0]\n",
      " [ 0 12  2]\n",
      " [ 0  1 15]]\n",
      "                 precision    recall  f1-score   support\n",
      "\n",
      "    Iris-setosa       1.00      1.00      1.00        15\n",
      "Iris-versicolor       0.92      0.86      0.89        14\n",
      " Iris-virginica       0.88      0.94      0.91        16\n",
      "\n",
      "       accuracy                           0.93        45\n",
      "      macro avg       0.94      0.93      0.93        45\n",
      "   weighted avg       0.93      0.93      0.93        45\n",
      "\n"
     ]
    },
    {
     "data": {
      "text/plain": "<Figure size 1440x720 with 1 Axes>",
      "image/png": "[encoded data removed]"
     },
     "metadata": {
      "needs_background": "light"
     },
     "output_type": "display_data"
    }
   ],
   "source": [
    "k_nearest_classifier(X_train, X_test, y_train, y_test)"
   ],
   "metadata": {
    "collapsed": false,
    "pycharm": {
     "name": "#%%\n"
    }
   }
  },
  {
   "cell_type": "markdown",
   "source": [
    "## <center>2. Decision Tree</center>"
   ],
   "metadata": {
    "collapsed": false
   }
  },
  {
   "cell_type": "markdown",
   "source": [
    "### <center>podstawy teoretyczne</center>\n",
    "Drzewa decyzyjne w uczeniu maszynowym służą do wyodrębniania wiedzy z zestawu przykładów .\n",
    "Zakładamy, że posiadamy zestaw przykładów: obiektów opisanych przy pomocy atrybutów, którym\n",
    "przyporządkowujemy jakąś decyzję."
   ],
   "metadata": {
    "collapsed": false,
    "pycharm": {
     "name": "#%% md\n"
    }
   }
  },
  {
   "cell_type": "code",
   "execution_count": 101,
   "outputs": [
    {
     "data": {
      "text/html": "<img src=\"https://media.geeksforgeeks.org/wp-content/uploads/decisionTree.png\"/>",
      "text/plain": "<IPython.core.display.Image object>"
     },
     "execution_count": 101,
     "metadata": {},
     "output_type": "execute_result"
    }
   ],
   "source": [
    "Image(url=\"https://media.geeksforgeeks.org/wp-content/uploads/decisionTree.png\")"
   ],
   "metadata": {
    "collapsed": false,
    "pycharm": {
     "name": "#%%\n"
    }
   }
  }
 ],
 "metadata": {
  "kernelspec": {
   "display_name": "Python 3",
   "language": "python",
   "name": "python3"
  },
  "language_info": {
   "codemirror_mode": {
    "name": "ipython",
    "version": 2
   },
   "file_extension": ".py",
   "mimetype": "text/x-python",
   "name": "python",
   "nbconvert_exporter": "python",
   "pygments_lexer": "ipython2",
   "version": "2.7.6"
  }
 },
 "nbformat": 4,
 "nbformat_minor": 0
}