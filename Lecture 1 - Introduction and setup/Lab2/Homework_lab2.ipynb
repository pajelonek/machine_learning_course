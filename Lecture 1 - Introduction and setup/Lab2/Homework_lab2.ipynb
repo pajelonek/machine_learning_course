{
 "cells": [
  {
   "cell_type": "markdown",
   "metadata": {
    "collapsed": true,
    "pycharm": {
     "name": "#%% md\n"
    }
   },
   "source": [
    "Napisać klasę i kod ją testujący.\n",
    "(uwaga: zmiast długich nazw metod najlepiej używać przeciążonych operatorów +,-,*,/ - w tym celu \n",
    "zdefiniować odpowiednie funkcje magiczne; podobnie do wypisywania obiektu za pomocą metody \"print\" \n",
    "zdefiniować odpowiednią metodę klasy; jak przygotować ciało klasy do zwracania informacji o obiekcie \n",
    "za pomocą metody help()?)\n",
    "\n",
    "LiczbaZespolona:\n",
    "- pola: Re, Im\n",
    "- konstruktor: \n",
    " - bez parametrów-tworzy liczbę 0+0j, \n",
    " - z dwoma parametrami (a,b)-tworzy liczbę a+bj\n",
    "- metody: dodaj, odejmij, mnóż, dziel, pokaż1-jako (a,b), pokaż2-jako a+bj"
   ]
  },
  {
   "cell_type": "code",
   "execution_count": 51,
   "outputs": [],
   "source": [
    "import math as math\n",
    "\n",
    "class ComplexNumber:\n",
    "    def __init__(self, re = 0, im = 0):\n",
    "        self.re = re\n",
    "        self.im = im\n",
    "        \n",
    "    def __add__(self, other):\n",
    "        return ComplexNumber(self.re + other.re, self.im + other.im)\n",
    "    \n",
    "    def __sub__(self, other):\n",
    "        return ComplexNumber(self.re - other.re, self.im - other.im)\n",
    "    \n",
    "    def __mul__(self, other):\n",
    "        return ComplexNumber(self.re*other.re-self.im*other.im,self.re*other.im+self.im*other.re)\n",
    "    \n",
    "    def mod(self):\n",
    "        '''The helper class is initialized'''\n",
    "        if self.re != 0 or self.im !=0:\n",
    "            return math.sqrt(self.re*self.re+self.im*self.im)\n",
    "        else: return 0\n",
    "    \n",
    "    def __truediv__(self, other):\n",
    "        den = other.mod() ** 2\n",
    "        return ComplexNumber((self.re * other.re+self.im*other.im)/den,(self.im*other.re-self.re*other.im)/den)\n",
    "    \n",
    "    def __eq__(self, other):\n",
    "        return self.re == self.re and self.im == other.im\n",
    "    \n",
    "    def pokaz1(self):\n",
    "        return \"(\"+str(self.re)+\",\"+str(self.im)+\")\"\n",
    "    \n",
    "    def pokaz2(self):\n",
    "        return str(self.re)+\"+\"+str(self.im)+\"j\"\n",
    "    \n",
    "    def __str__(self):\n",
    "        return \"(\"+str(self.re)+\",\"+str(self.im)+\")\"\n",
    "    "
   ],
   "metadata": {
    "collapsed": false,
    "pycharm": {
     "name": "#%%\n",
     "is_executing": false
    }
   }
  },
  {
   "cell_type": "code",
   "execution_count": 52,
   "outputs": [
    {
     "name": "stdout",
     "text": [
      "Help on class ComplexNumber in module __main__:\n",
      "\n",
      "class ComplexNumber(builtins.object)\n",
      " |  Methods defined here:\n",
      " |  \n",
      " |  __add__(self, other)\n",
      " |  \n",
      " |  __eq__(self, other)\n",
      " |      Return self==value.\n",
      " |  \n",
      " |  __init__(self, re=0, im=0)\n",
      " |      Initialize self.  See help(type(self)) for accurate signature.\n",
      " |  \n",
      " |  __mul__(self, other)\n",
      " |  \n",
      " |  __str__(self)\n",
      " |      Return str(self).\n",
      " |  \n",
      " |  __sub__(self, other)\n",
      " |  \n",
      " |  __truediv__(self, other)\n",
      " |  \n",
      " |  mod(self)\n",
      " |      The helper class is initialized\n",
      " |  \n",
      " |  pokaz1(self)\n",
      " |  \n",
      " |  pokaz2(self)\n",
      " |  \n",
      " |  ----------------------------------------------------------------------\n",
      " |  Data descriptors defined here:\n",
      " |  \n",
      " |  __dict__\n",
      " |      dictionary for instance variables (if defined)\n",
      " |  \n",
      " |  __weakref__\n",
      " |      list of weak references to the object (if defined)\n",
      " |  \n",
      " |  ----------------------------------------------------------------------\n",
      " |  Data and other attributes defined here:\n",
      " |  \n",
      " |  __hash__ = None\n",
      "\n"
     ],
     "output_type": "stream"
    }
   ],
   "source": [
    "sample_complex_1 = ComplexNumber()\n",
    "assert sample_complex_1.re == 0\n",
    "assert sample_complex_1.im == 0\n",
    "\n",
    "sample_complex_1 = ComplexNumber(5,4)\n",
    "assert sample_complex_1.re == 5\n",
    "assert sample_complex_1.im == 4\n",
    "\n",
    "assert ComplexNumber(5, 4) + ComplexNumber(4, 5) == ComplexNumber(9, 9)\n",
    "assert ComplexNumber(0, 4) + ComplexNumber(4, 2) == ComplexNumber(4, 6)\n",
    "\n",
    "assert ComplexNumber(5, 4) - ComplexNumber(4, 5) == ComplexNumber(1, -1)\n",
    "assert ComplexNumber(0, 4) - ComplexNumber(4, 2) == ComplexNumber(-4, 2)\n",
    "\n",
    "assert ComplexNumber(5, 2) - ComplexNumber(3, -7) == ComplexNumber(2, 9)\n",
    "assert ComplexNumber(0, 4) - ComplexNumber(4, 2) == ComplexNumber(-4, 2)\n",
    "\n",
    "assert ComplexNumber(5, 2) * ComplexNumber(3, -7) == ComplexNumber(29,-29)\n",
    "assert ComplexNumber(0, 4) * ComplexNumber(4, 2) == ComplexNumber(-8, 16)\n",
    "\n",
    "assert ComplexNumber(3,3).pokaz1() == \"(3,3)\"\n",
    "assert ComplexNumber(3,3).pokaz2() == \"3+3j\"\n",
    "\n",
    "help(ComplexNumber)"
   ],
   "metadata": {
    "collapsed": false,
    "pycharm": {
     "name": "#%%\n",
     "is_executing": false
    }
   }
  }
 ],
 "metadata": {
  "kernelspec": {
   "display_name": "Python 3",
   "language": "python",
   "name": "python3"
  },
  "language_info": {
   "codemirror_mode": {
    "name": "ipython",
    "version": 2
   },
   "file_extension": ".py",
   "mimetype": "text/x-python",
   "name": "python",
   "nbconvert_exporter": "python",
   "pygments_lexer": "ipython2",
   "version": "2.7.6"
  },
  "pycharm": {
   "stem_cell": {
    "cell_type": "raw",
    "source": [],
    "metadata": {
     "collapsed": false
    }
   }
  }
 },
 "nbformat": 4,
 "nbformat_minor": 0
}