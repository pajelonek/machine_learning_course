{
 "cells": [
  {
   "cell_type": "markdown",
   "metadata": {
    "collapsed": true,
    "pycharm": {
     "name": "#%% md\n"
    }
   },
   "source": [
    "Napisać klasę i kod ją testujący.\n",
    "(uwaga: zmiast długich nazw metod najlepiej używać przeciążonych operatorów +,-,*,/ - w tym celu \n",
    "zdefiniować odpowiednie funkcje magiczne; podobnie do wypisywania obiektu za pomocą metody \"print\" \n",
    "zdefiniować odpowiednią metodę klasy; jak przygotować ciało klasy do zwracania informacji o obiekcie \n",
    "za pomocą metody help()?)\n",
    "\n",
    "LiczbaZespolona:\n",
    "- pola: Re, Im\n",
    "- konstruktor: \n",
    " - bez parametrów-tworzy liczbę 0+0j, \n",
    " - z dwoma parametrami (a,b)-tworzy liczbę a+bj\n",
    "- metody: dodaj, odejmij, mnóż, dziel, pokaż1-jako (a,b), pokaż2-jako a+bj"
   ]
  },
  {
   "cell_type": "code",
   "execution_count": 3,
   "outputs": [],
   "source": [
    "\n",
    "import math\n",
    "\n",
    "class ComplexNumber:\n",
    "    def __init__(self, re = 0, im = 0):\n",
    "        self.re = re\n",
    "        self.im = im\n",
    "        \n",
    "    def __str__(self):\n",
    "        return \"({0}, {1})\".format(self.re, self.im)\n",
    "    \n",
    "    def __repr__(self):\n",
    "        return \"{0}+{1}j\".format(self.re, self.im)\n",
    "    \n",
    "    def __abs__(self):\n",
    "         return math.sqrt(self.re ** 2 + self.im ** 2)\n",
    "\n",
    "    def __eq__(self, other):\n",
    "        if isinstance(other, ComplexNumber): \n",
    "            return self.re == other.re and self.im == other.im\n",
    "        return False\n",
    "\n",
    "    def __add__(self, other):\n",
    "        if isinstance(other, ComplexNumber): \n",
    "            return ComplexNumber(self.re + other.re, self.im + other.im)\n",
    "\n",
    "        return ComplexNumber(self.re + other, self.im)\n",
    "\n",
    "    __radd__ = __add__ \n",
    "    \n",
    "    def __sub__(self, other):\n",
    "        if isinstance(other, ComplexNumber): \n",
    "            return ComplexNumber(self.re - other.re, self.im - other.im)\n",
    "\n",
    "        return ComplexNumber(self.re - other, self.im)\n",
    "    \n",
    "    def __rsub__(self, other):\n",
    "        return ComplexNumber(other - self.re, self.im)\n",
    "    \n",
    "    def __mul__(self, other):\n",
    "        if isinstance(other, ComplexNumber):\n",
    "            return ComplexNumber((self.re * other.re) - (self.im * other.im), (self.re * other.im) + (self.im * other.re))\n",
    "        \n",
    "        return ComplexNumber(self.re * other, self.im * other)\n",
    "\n",
    "    __rmul__ = __mul__ \n",
    "    \n",
    "    def __truediv__(self, other):\n",
    "        if isinstance(other, ComplexNumber):\n",
    "            m = other.re ** 2 + other.im ** 2\n",
    "            return ComplexNumber((self.re * other.re + self.im * other.im) / m, \n",
    "                                   (self.im * other.re - self.re * other.im) / m)\n",
    "\n",
    "        return ComplexNumber(self.re / other, self.im / other)\n",
    "\n",
    "    def __rtruediv__(self, other):\n",
    "        return ComplexNumber(other, 0) / self"
   ],
   "metadata": {
    "collapsed": false,
    "pycharm": {
     "name": "#%%\n",
     "is_executing": false
    }
   }
  },
  {
   "cell_type": "code",
   "execution_count": 4,
   "outputs": [
    {
     "name": "stderr",
     "text": [
      "test_abs (__main__.TestComplex) ... ok\n",
      "test_add (__main__.TestComplex) ... ok\n",
      "test_eq (__main__.TestComplex) ... ok\n",
      "test_mul (__main__.TestComplex) ... ok\n",
      "test_radd (__main__.TestComplex) ... ok\n",
      "test_repr (__main__.TestComplex) ... ok\n",
      "test_rmul (__main__.TestComplex) ... ok\n",
      "test_rsub (__main__.TestComplex) ... ok\n",
      "test_rtruediv (__main__.TestComplex) ... ok\n",
      "test_str (__main__.TestComplex) ... ok\n",
      "test_sub (__main__.TestComplex) ... ok\n",
      "test_truediv (__main__.TestComplex) ... ok\n",
      "\n",
      "----------------------------------------------------------------------\n",
      "Ran 12 tests in 0.013s\n",
      "\n",
      "OK\n"
     ],
     "output_type": "stream"
    }
   ],
   "source": [
    "import unittest\n",
    "\n",
    "class TestComplex(unittest.TestCase):\n",
    "    def test_str(self):\n",
    "        self.assertEqual('(0, 0)', str(ComplexNumber()))\n",
    "        self.assertEqual('(3, 1)', str(ComplexNumber(3, 1)))\n",
    "        \n",
    "    def test_repr(self):\n",
    "        self.assertEqual('0+0j', repr(ComplexNumber()))\n",
    "        self.assertEqual('3+1j', repr(ComplexNumber(3, 1)))\n",
    "        \n",
    "    def test_abs(self):\n",
    "        self.assertEqual(0, abs(ComplexNumber()))\n",
    "        self.assertEqual(1, abs(ComplexNumber(1, 0)))\n",
    "        self.assertEqual(math.sqrt(11), abs(ComplexNumber(math.sqrt(2), -3)))\n",
    "    \n",
    "    def test_eq(self):\n",
    "        self.assertTrue(ComplexNumber() == ComplexNumber())\n",
    "        self.assertFalse(ComplexNumber(1, 1) == ComplexNumber(-1, -1))\n",
    "        self.assertFalse(ComplexNumber(6, -8) == 10)\n",
    "        \n",
    "    def test_add(self):\n",
    "        self.assertEqual(ComplexNumber(), ComplexNumber() + ComplexNumber())\n",
    "        self.assertEqual(ComplexNumber(15, 3), ComplexNumber(5, 13) + ComplexNumber(10, -10))\n",
    "        self.assertEqual(ComplexNumber(0, 3), ComplexNumber(0, 2) + ComplexNumber(0, 1))\n",
    "    \n",
    "    def test_radd(self):\n",
    "        self.assertEqual(ComplexNumber(1, 0), 1 + ComplexNumber())\n",
    "        self.assertEqual(ComplexNumber(15, 3), 10 + ComplexNumber(5, 3))\n",
    "    \n",
    "    def test_sub(self):\n",
    "        self.assertEqual(ComplexNumber(), ComplexNumber() - ComplexNumber())\n",
    "        self.assertEqual(ComplexNumber(-1, -1), ComplexNumber() - ComplexNumber(1, 1))\n",
    "        self.assertEqual(ComplexNumber(15, 3), ComplexNumber(25, 13) - ComplexNumber(10, 10))\n",
    "    \n",
    "    def test_rsub(self):\n",
    "        self.assertEqual(ComplexNumber(1, 0), 1 - ComplexNumber())\n",
    "        self.assertEqual(ComplexNumber(5, 3), 10 - ComplexNumber(5, 3))\n",
    "\n",
    "    def test_mul(self):\n",
    "        self.assertEqual(ComplexNumber(), ComplexNumber() * ComplexNumber())\n",
    "        self.assertEqual(ComplexNumber(-11, 23), ComplexNumber(3, 2) * ComplexNumber(1, 7))\n",
    "        \n",
    "    def test_rmul(self):\n",
    "        self.assertEqual(ComplexNumber(20, 52), 4 * ComplexNumber(5, 13))\n",
    "        \n",
    "    def test_truediv(self):\n",
    "        self.assertEqual(ComplexNumber(0, -1), ComplexNumber(1, 0) / ComplexNumber(0, 1))\n",
    "        self.assertEqual(ComplexNumber(0.5, -0.5), ComplexNumber(1, 0) / ComplexNumber(1, 1))\n",
    "        \n",
    "    def test_rtruediv(self):\n",
    "        self.assertEqual(ComplexNumber(0, -1), 1 / ComplexNumber(0, 1))\n",
    "        self.assertEqual(ComplexNumber(0.5, -0.5), 1 / ComplexNumber(1, 1))\n",
    "        \n",
    "if __name__ == '__main__':\n",
    "    unittest.main(argv=[''], verbosity=2, exit=False)"
   ],
   "metadata": {
    "collapsed": false,
    "pycharm": {
     "name": "#%%\n",
     "is_executing": false
    }
   }
  }
 ],
 "metadata": {
  "kernelspec": {
   "display_name": "Python 3",
   "language": "python",
   "name": "python3"
  },
  "language_info": {
   "codemirror_mode": {
    "name": "ipython",
    "version": 2
   },
   "file_extension": ".py",
   "mimetype": "text/x-python",
   "name": "python",
   "nbconvert_exporter": "python",
   "pygments_lexer": "ipython2",
   "version": "2.7.6"
  },
  "pycharm": {
   "stem_cell": {
    "cell_type": "raw",
    "source": [],
    "metadata": {
     "collapsed": false
    }
   }
  }
 },
 "nbformat": 4,
 "nbformat_minor": 0
}