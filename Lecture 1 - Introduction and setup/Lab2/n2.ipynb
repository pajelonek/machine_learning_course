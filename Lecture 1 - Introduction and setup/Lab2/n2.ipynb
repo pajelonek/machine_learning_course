{
 "cells": [
  {
   "cell_type": "markdown",
   "metadata": {},
   "source": [
    "**<font color=Red> Conditions and branching </font>**"
   ]
  },
  {
   "cell_type": "code",
   "execution_count": null,
   "metadata": {},
   "outputs": [],
   "source": [
    "#operands and comparison operations\n",
    "a=3\n",
    "a==2"
   ]
  },
  {
   "cell_type": "code",
   "execution_count": null,
   "metadata": {},
   "outputs": [],
   "source": [
    "a==3"
   ]
  },
  {
   "cell_type": "code",
   "execution_count": null,
   "metadata": {},
   "outputs": [],
   "source": [
    "a>2"
   ]
  },
  {
   "cell_type": "code",
   "execution_count": null,
   "metadata": {},
   "outputs": [],
   "source": [
    "a<=3"
   ]
  },
  {
   "cell_type": "code",
   "execution_count": null,
   "metadata": {},
   "outputs": [],
   "source": [
    "a!=3"
   ]
  },
  {
   "cell_type": "code",
   "execution_count": null,
   "metadata": {},
   "outputs": [],
   "source": [
    "\"Ala\"==\"Bela\""
   ]
  },
  {
   "cell_type": "code",
   "execution_count": null,
   "metadata": {},
   "outputs": [],
   "source": [
    "#also comparison of strings\n",
    "\"Ala\"==\"Ala\""
   ]
  },
  {
   "cell_type": "code",
   "execution_count": null,
   "metadata": {},
   "outputs": [],
   "source": [
    "#branching = running different statements for different input\n",
    "#if-else\n",
    "age=17\n",
    "if age>=18:   #condition can be in parentheses (age>=18)\n",
    "    print(\"OK\")           #indentation is important\n",
    "else:\n",
    "    print(\"too young\")    #indentation is important\n",
    "print(\"after\")"
   ]
  },
  {
   "cell_type": "code",
   "execution_count": null,
   "metadata": {},
   "outputs": [],
   "source": [
    "#if-elif-else\n",
    "age=17\n",
    "if age>=18:   #condition can be in parentheses (age>=18)\n",
    "    print(\"OK\")           #indentation is important\n",
    "elif(age==17):\n",
    "    print(\"almost OK\")\n",
    "else:\n",
    "    print(\"too young\")    #indentation is important\n",
    "print(\"after\")"
   ]
  },
  {
   "cell_type": "markdown",
   "metadata": {},
   "source": [
    "**<font color=Red> Logic operators </font>**"
   ]
  },
  {
   "cell_type": "code",
   "execution_count": null,
   "metadata": {},
   "outputs": [],
   "source": [
    "not(True), not(False)"
   ]
  },
  {
   "cell_type": "code",
   "execution_count": null,
   "metadata": {},
   "outputs": [],
   "source": [
    "(1<2) or (10>13)"
   ]
  },
  {
   "cell_type": "code",
   "execution_count": null,
   "metadata": {},
   "outputs": [],
   "source": [
    "#or\n",
    "if (1<2) or (10>13):\n",
    "    print(\"Ok\")"
   ]
  },
  {
   "cell_type": "code",
   "execution_count": null,
   "metadata": {},
   "outputs": [],
   "source": [
    "#and\n",
    "year=1982\n",
    "if year>=1980 and year<=1990:\n",
    "    print(\"80-ties\")"
   ]
  },
  {
   "cell_type": "code",
   "execution_count": null,
   "metadata": {},
   "outputs": [],
   "source": [
    "#compare different Ascii values\n",
    "\"A\">\"B\"\n",
    "#\"a\">\"B\"\n",
    "#\"AB\"<\"BA\"  #= 'AB'<'BA'"
   ]
  },
  {
   "cell_type": "markdown",
   "metadata": {},
   "source": [
    "**<font color=Red> Loops </font>**"
   ]
  },
  {
   "cell_type": "code",
   "execution_count": null,
   "metadata": {},
   "outputs": [],
   "source": [
    "#function range(N)=[0, 1, ..., N-1]\n",
    "#in Python 3 the range function will not generate a list explicitly like in Python 2\n",
    "range(6)"
   ]
  },
  {
   "cell_type": "code",
   "execution_count": null,
   "metadata": {},
   "outputs": [],
   "source": [
    "#range(N1,N2)=[N1, ..., N2-1]\n",
    "range(8,11)"
   ]
  },
  {
   "cell_type": "code",
   "execution_count": null,
   "metadata": {},
   "outputs": [],
   "source": [
    "#for loop\n",
    "colors=[\"blue\", \"red\", \"green\", \"black\"]  #list\n",
    "for i in range(0,4):\n",
    "    colors[i]=\"pink\"\n",
    "colors"
   ]
  },
  {
   "cell_type": "code",
   "execution_count": null,
   "metadata": {},
   "outputs": [],
   "source": [
    "colors=[\"blue\", \"red\", \"green\", \"black\"]  #list\n",
    "for color in colors:\n",
    "    print(color)"
   ]
  },
  {
   "cell_type": "code",
   "execution_count": null,
   "metadata": {},
   "outputs": [],
   "source": [
    "colors=[\"blue\", \"red\", \"green\", \"black\"]  #list\n",
    "for i,color in enumerate(colors):    #iterate through a list to provide the index of each element\n",
    "    print(color)\n",
    "    print(i)"
   ]
  },
  {
   "cell_type": "code",
   "execution_count": null,
   "metadata": {},
   "outputs": [],
   "source": [
    "#enumerate(colors)"
   ]
  },
  {
   "cell_type": "code",
   "execution_count": null,
   "metadata": {},
   "outputs": [],
   "source": [
    "dates = [1982,1980,1973]\n",
    "N = len(dates)\n",
    "#for i in range(N):\n",
    "#    print(dates[i])   #or\n",
    "for year in dates:\n",
    "    print(year)"
   ]
  },
  {
   "cell_type": "code",
   "execution_count": null,
   "metadata": {},
   "outputs": [],
   "source": [
    "for i in range(0, 8):\n",
    "    print(i)"
   ]
  },
  {
   "cell_type": "code",
   "execution_count": null,
   "metadata": {},
   "outputs": [],
   "source": [
    "#while loop\n",
    "colors=[\"blue\", \"blue\", \"green\", \"black\"]  #list\n",
    "i=0\n",
    "bluelist=[]  #undetermined size now\n",
    "while (colors[i]==\"blue\"):\n",
    "    bluelist.append(colors[i])\n",
    "    i=i+1\n",
    "bluelist"
   ]
  },
  {
   "cell_type": "markdown",
   "metadata": {},
   "source": [
    "**<font color=Red> Functions </font>**"
   ]
  },
  {
   "cell_type": "code",
   "execution_count": null,
   "metadata": {},
   "outputs": [],
   "source": [
    "#buil-in functions\n",
    "lista=[1, 8.5, 2, 6, 3]\n",
    "S=sum(lista)\n",
    "S"
   ]
  },
  {
   "cell_type": "code",
   "execution_count": null,
   "metadata": {},
   "outputs": [],
   "source": [
    "#sorting\n",
    "#sorted()    #a new sorted list is created\n",
    "listaSortowana=sorted(lista)\n",
    "listaSortowana"
   ]
  },
  {
   "cell_type": "code",
   "execution_count": null,
   "metadata": {},
   "outputs": [],
   "source": [
    "#sort()     #the list is changed (sorted)\n",
    "print(lista)\n",
    "lista.sort()\n",
    "print(lista)"
   ]
  },
  {
   "cell_type": "code",
   "execution_count": null,
   "metadata": {},
   "outputs": [],
   "source": [
    "#own functions\n",
    "def add(a):    #a-formal parameter\n",
    "    \"\"\"\n",
    "    documentation in triple quotes\n",
    "    multi lines\n",
    "    \"\"\"\n",
    "    b=a+1\n",
    "    print(a, \" plus 1 is \", b)   #not necessary\n",
    "    return b\n",
    "help(add)     #documentation"
   ]
  },
  {
   "cell_type": "code",
   "execution_count": null,
   "metadata": {},
   "outputs": [],
   "source": [
    "add(13)"
   ]
  },
  {
   "cell_type": "code",
   "execution_count": null,
   "metadata": {},
   "outputs": [],
   "source": [
    "c=add(4)\n",
    "c"
   ]
  },
  {
   "cell_type": "code",
   "execution_count": null,
   "metadata": {},
   "outputs": [],
   "source": [
    "#more parameters\n",
    "def Product(a,b):\n",
    "    return a*b"
   ]
  },
  {
   "cell_type": "code",
   "execution_count": null,
   "metadata": {},
   "outputs": [],
   "source": [
    "Product(3,3.5)"
   ]
  },
  {
   "cell_type": "code",
   "execution_count": null,
   "metadata": {},
   "outputs": [],
   "source": [
    "Product(2, \"some string \")"
   ]
  },
  {
   "cell_type": "code",
   "execution_count": null,
   "metadata": {},
   "outputs": [],
   "source": [
    "Product(\"some string \",2)"
   ]
  },
  {
   "cell_type": "code",
   "execution_count": null,
   "metadata": {},
   "outputs": [],
   "source": [
    "#functions with no return statement\n",
    "def pr():\n",
    "    print('OK')"
   ]
  },
  {
   "cell_type": "code",
   "execution_count": null,
   "metadata": {},
   "outputs": [],
   "source": [
    "pr()"
   ]
  },
  {
   "cell_type": "code",
   "execution_count": null,
   "metadata": {},
   "outputs": [],
   "source": [
    "#function cannot have an empty body, but we can use keyword \"pass\"\n",
    "def nofun():\n",
    "    pass\n",
    "#    return None     #can be, can be skipped"
   ]
  },
  {
   "cell_type": "code",
   "execution_count": null,
   "metadata": {},
   "outputs": [],
   "source": [
    "nofun()"
   ]
  },
  {
   "cell_type": "code",
   "execution_count": null,
   "metadata": {},
   "outputs": [],
   "source": [
    "print(nofun())"
   ]
  },
  {
   "cell_type": "code",
   "execution_count": null,
   "metadata": {},
   "outputs": [],
   "source": [
    "#function with a loop\n",
    "def printAll(var):\n",
    "    for i,val in enumerate(var):\n",
    "        print(\"for position\", i, \"rating is \", val)"
   ]
  },
  {
   "cell_type": "code",
   "execution_count": null,
   "metadata": {},
   "outputs": [],
   "source": [
    "#l1=(1, 5.5, 89, 90, 90)\n",
    "l1=[1, 5.5, 89, 90, 90]\n",
    "#l1={1, 5.5, 89, 90, 90}    #different indexing of values for the set\n",
    "#l1={\"k1\":23, \"ala\":(3, 3)}   #different indexing of values for the dictionary\n",
    "printAll(l1)"
   ]
  },
  {
   "cell_type": "code",
   "execution_count": null,
   "metadata": {},
   "outputs": [],
   "source": [
    "#function with asterisk on the parameter names\n",
    "def printNames(*names):\n",
    "    for name in names:\n",
    "        print(name)"
   ]
  },
  {
   "cell_type": "code",
   "execution_count": null,
   "metadata": {},
   "outputs": [],
   "source": [
    "printNames(\"acdc\", 'mama', 'tata')"
   ]
  },
  {
   "cell_type": "code",
   "execution_count": null,
   "metadata": {},
   "outputs": [],
   "source": [
    "printNames(l1)"
   ]
  },
  {
   "cell_type": "code",
   "execution_count": null,
   "metadata": {},
   "outputs": [],
   "source": [
    "#global scope\n",
    "def addHash(x):\n",
    "    x=x+\"#\"\n",
    "    return(x)"
   ]
  },
  {
   "cell_type": "code",
   "execution_count": null,
   "metadata": {},
   "outputs": [],
   "source": [
    "x=\"country\"      #x is in global scope and is accessible anywhere after\n",
    "xx=addHash(x)    #xx assigned within a global scope and is accessible anywhere after\n",
    "xx"
   ]
  },
  {
   "cell_type": "code",
   "execution_count": null,
   "metadata": {},
   "outputs": [],
   "source": [
    "#local scope\n",
    "def Casino():\n",
    "    date=1995     #local variable\n",
    "    return date"
   ]
  },
  {
   "cell_type": "code",
   "execution_count": null,
   "metadata": {},
   "outputs": [],
   "source": [
    "Casino()"
   ]
  },
  {
   "cell_type": "code",
   "execution_count": null,
   "metadata": {},
   "outputs": [],
   "source": [
    "date=2000         #global scope\n",
    "print(Casino())   #here date from the local scope\n",
    "print(date)       #from the global scope\n",
    "#global and local variables with the same name have no conflict"
   ]
  },
  {
   "cell_type": "code",
   "execution_count": null,
   "metadata": {},
   "outputs": [],
   "source": [
    "#if a variable is not defined within a function, Python will check the global scope\n",
    "def f1(y):\n",
    "    print(rating)     #rating not defined in the local scope\n",
    "    return(rating+y)"
   ]
  },
  {
   "cell_type": "code",
   "execution_count": null,
   "metadata": {},
   "outputs": [],
   "source": [
    "rating=9\n",
    "f1(2)"
   ]
  },
  {
   "cell_type": "code",
   "execution_count": null,
   "metadata": {},
   "outputs": [],
   "source": [
    "#loal variable defined as global in a function\n",
    "def singing():\n",
    "    global var2    #assignment here is not allowed\n",
    "    var2=200\n",
    "    return var2"
   ]
  },
  {
   "cell_type": "code",
   "execution_count": null,
   "metadata": {},
   "outputs": [],
   "source": [
    "#var2\n",
    "singing()"
   ]
  },
  {
   "cell_type": "code",
   "execution_count": null,
   "metadata": {},
   "outputs": [],
   "source": [
    "var2"
   ]
  },
  {
   "cell_type": "code",
   "execution_count": null,
   "metadata": {},
   "outputs": [],
   "source": [
    "#default values of the arguments\n",
    "def ff(a=1,b=3):\n",
    "    return a+b"
   ]
  },
  {
   "cell_type": "code",
   "execution_count": null,
   "metadata": {},
   "outputs": [],
   "source": [
    "ff(5,7)"
   ]
  },
  {
   "cell_type": "code",
   "execution_count": null,
   "metadata": {},
   "outputs": [],
   "source": [
    "ff(5)"
   ]
  },
  {
   "cell_type": "code",
   "execution_count": null,
   "metadata": {},
   "outputs": [],
   "source": [
    "ff()"
   ]
  },
  {
   "cell_type": "markdown",
   "metadata": {},
   "source": [
    "**<font color=Red> Objects and classes</font>**<br>\n",
    "Every object has: a type, internal representation, a set of methods to interact with the data<br>\n",
    "An object is an instance of a particular type: int, float, list, ..."
   ]
  },
  {
   "cell_type": "code",
   "execution_count": null,
   "metadata": {},
   "outputs": [],
   "source": [
    "#type of object\n",
    "type({'1','a','b'})"
   ]
  },
  {
   "cell_type": "code",
   "execution_count": null,
   "metadata": {},
   "outputs": [],
   "source": [
    "#methods: functions that act on an object, syntax: object.method()\n",
    "list1=[1, 4, 7, 2, 9, 12, 4]\n",
    "list1.sort()\n",
    "list1"
   ]
  },
  {
   "cell_type": "code",
   "execution_count": null,
   "metadata": {},
   "outputs": [],
   "source": [
    "list1.reverse()\n",
    "list1"
   ]
  },
  {
   "cell_type": "code",
   "execution_count": null,
   "metadata": {},
   "outputs": [],
   "source": [
    "#class (type) has attributes and methods\n",
    "#after class name in the parentheses: parent of the class\n",
    "class Circle(object):\n",
    "    def __init__(self, radius, color):    #constructor, self parameter refers to the newly created instance\n",
    "        self.radius=radius;             #initialization of the attributes\n",
    "        self.color=color;"
   ]
  },
  {
   "cell_type": "code",
   "execution_count": null,
   "metadata": {},
   "outputs": [],
   "source": [
    "class Rectangle(object):\n",
    "    def __init__(self, width, height, color):\n",
    "        self.width=width\n",
    "        self.height=height\n",
    "        self.color=color"
   ]
  },
  {
   "cell_type": "code",
   "execution_count": null,
   "metadata": {},
   "outputs": [],
   "source": [
    "c1=Circle(5,\"Red\") #Circle() is object constructor\n",
    "c1.radius, c1.color, type(c1)"
   ]
  },
  {
   "cell_type": "code",
   "execution_count": null,
   "metadata": {},
   "outputs": [],
   "source": [
    "#changing color attributes\n",
    "c1.color=\"Blue\"\n",
    "c1.color"
   ]
  },
  {
   "cell_type": "code",
   "execution_count": null,
   "metadata": {},
   "outputs": [],
   "source": [
    "# Import the library\n",
    "#jeśli jest niezainstalowany pakiet, to trzeba wcześniej z cmd\n",
    "import matplotlib.pyplot as plt \n",
    "# %matplotlib inline  #<- czy potrzebne?\n",
    "\n",
    "#methods: change data attributes of objects\n",
    "class Circle(object):\n",
    "    def __init__(self, radius, color):    #constructor, self parameter refers to the newly created instance\n",
    "        self.radius=radius;             #initialization of the attributes\n",
    "        self.color=color\n",
    "    def add_radius(self, r):      #add r to the radius\n",
    "        self.radius=self.radius+r;\n",
    "        return(self.radius)\n",
    "    def draw_circle(self):\n",
    "        plt.gca().add_patch(plt.Circle((0, 0), radius=self.radius, fc=self.color))\n",
    "        plt.axis('scaled')\n",
    "        plt.show()"
   ]
  },
  {
   "cell_type": "code",
   "execution_count": null,
   "metadata": {},
   "outputs": [],
   "source": [
    "c1=Circle(5,\"Red\")\n",
    "c1.add_radius(7)\n",
    "c1.radius"
   ]
  },
  {
   "cell_type": "code",
   "execution_count": null,
   "metadata": {},
   "outputs": [],
   "source": [
    "c1.draw_circle()"
   ]
  },
  {
   "cell_type": "code",
   "execution_count": null,
   "metadata": {},
   "outputs": [],
   "source": [
    "#list of attributes and methods\n",
    "#attributes/methods with the underscores are for internal use\n",
    "dir(c1)"
   ]
  },
  {
   "cell_type": "code",
   "execution_count": null,
   "metadata": {},
   "outputs": [],
   "source": [
    "class Rectangle(object):\n",
    "    def __init__(self, width, height, color):\n",
    "        self.width=width\n",
    "        self.height=height\n",
    "        self.color=color\n",
    "    def drawRectangle(self):\n",
    "        plt.gca().add_patch(plt.Rectangle((0, 0), self.width, self.height ,fc=self.color))\n",
    "        plt.axis('scaled')\n",
    "        plt.show()"
   ]
  },
  {
   "cell_type": "code",
   "execution_count": null,
   "metadata": {},
   "outputs": [],
   "source": [
    "r1 = Rectangle(10, 2, 'blue')"
   ]
  },
  {
   "cell_type": "code",
   "execution_count": null,
   "metadata": {},
   "outputs": [],
   "source": [
    "r1.drawRectangle()"
   ]
  },
  {
   "cell_type": "code",
   "execution_count": null,
   "metadata": {},
   "outputs": [],
   "source": [
    "import matplotlib.pyplot as plt # %matplotlib inline  #<- czy potrzebne? \n",
    "                                #methods: change data attributes of objects\n",
    "class Circle(object):\n",
    "    def __init__(self, radius, color):    #constructor, self parameter refers to the newly created instance \n",
    "        self.radius=radius;             #initialization of the attributes\n",
    "        self.color=color \n",
    "    def add_radius(self, r):      #add r to the radius\n",
    "        self.radius=self.radius+r;\n",
    "        return(self.radius)\n",
    "    def draw_circle(self):        \n",
    "        plt.gca().add_patch(plt.Circle((0, 0), radius=self.radius, fc=self.color))        \n",
    "        plt.axis('scaled')\n",
    "        plt.show()"
   ]
  }
 ],
 "metadata": {
  "kernelspec": {
   "display_name": "Python 3",
   "language": "python",
   "name": "python3"
  },
  "language_info": {
   "codemirror_mode": {
    "name": "ipython",
    "version": 3
   },
   "file_extension": ".py",
   "mimetype": "text/x-python",
   "name": "python",
   "nbconvert_exporter": "python",
   "pygments_lexer": "ipython3",
   "version": "3.8.3"
  }
 },
 "nbformat": 4,
 "nbformat_minor": 4
}
