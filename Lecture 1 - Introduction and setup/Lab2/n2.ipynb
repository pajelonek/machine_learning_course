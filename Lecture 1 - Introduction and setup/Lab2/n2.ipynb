{
 "cells": [
  {
   "cell_type": "markdown",
   "metadata": {},
   "source": [
    "**<font color=Red> Conditions and branching </font>**"
   ]
  },
  {
   "cell_type": "code",
   "execution_count": 1,
   "metadata": {
    "pycharm": {
     "is_executing": false
    }
   },
   "outputs": [
    {
     "data": {
      "text/plain": "False"
     },
     "metadata": {},
     "output_type": "execute_result",
     "execution_count": 1
    }
   ],
   "source": [
    "#operands and comparison operations\n",
    "a=3\n",
    "a==2"
   ]
  },
  {
   "cell_type": "code",
   "execution_count": 2,
   "metadata": {
    "pycharm": {
     "is_executing": false
    }
   },
   "outputs": [
    {
     "data": {
      "text/plain": "True"
     },
     "metadata": {},
     "output_type": "execute_result",
     "execution_count": 2
    }
   ],
   "source": [
    "a==3"
   ]
  },
  {
   "cell_type": "code",
   "execution_count": 3,
   "metadata": {
    "pycharm": {
     "is_executing": false
    }
   },
   "outputs": [
    {
     "data": {
      "text/plain": "True"
     },
     "metadata": {},
     "output_type": "execute_result",
     "execution_count": 3
    }
   ],
   "source": [
    "a>2"
   ]
  },
  {
   "cell_type": "code",
   "execution_count": 4,
   "metadata": {
    "pycharm": {
     "is_executing": false
    }
   },
   "outputs": [
    {
     "data": {
      "text/plain": "True"
     },
     "metadata": {},
     "output_type": "execute_result",
     "execution_count": 4
    }
   ],
   "source": [
    "a<=3"
   ]
  },
  {
   "cell_type": "code",
   "execution_count": 5,
   "metadata": {
    "pycharm": {
     "is_executing": false
    }
   },
   "outputs": [
    {
     "data": {
      "text/plain": "False"
     },
     "metadata": {},
     "output_type": "execute_result",
     "execution_count": 5
    }
   ],
   "source": [
    "a!=3"
   ]
  },
  {
   "cell_type": "code",
   "execution_count": 6,
   "metadata": {
    "pycharm": {
     "is_executing": false
    }
   },
   "outputs": [
    {
     "data": {
      "text/plain": "False"
     },
     "metadata": {},
     "output_type": "execute_result",
     "execution_count": 6
    }
   ],
   "source": [
    "\"Ala\"==\"Bela\""
   ]
  },
  {
   "cell_type": "code",
   "execution_count": 7,
   "metadata": {
    "pycharm": {
     "is_executing": false
    }
   },
   "outputs": [
    {
     "data": {
      "text/plain": "True"
     },
     "metadata": {},
     "output_type": "execute_result",
     "execution_count": 7
    }
   ],
   "source": [
    "#also comparison of strings\n",
    "\"Ala\"==\"Ala\""
   ]
  },
  {
   "cell_type": "code",
   "execution_count": 8,
   "metadata": {
    "pycharm": {
     "is_executing": false
    }
   },
   "outputs": [
    {
     "name": "stdout",
     "text": [
      "too young\n",
      "after\n"
     ],
     "output_type": "stream"
    }
   ],
   "source": [
    "#branching = running different statements for different input\n",
    "#if-else\n",
    "age=17\n",
    "if age>=18:   #condition can be in parentheses (age>=18)\n",
    "    print(\"OK\")           #indentation is important\n",
    "else:\n",
    "    print(\"too young\")    #indentation is important\n",
    "print(\"after\")"
   ]
  },
  {
   "cell_type": "code",
   "execution_count": 9,
   "metadata": {
    "pycharm": {
     "is_executing": false
    }
   },
   "outputs": [
    {
     "name": "stdout",
     "text": [
      "almost OK\n",
      "after\n"
     ],
     "output_type": "stream"
    }
   ],
   "source": [
    "#if-elif-else\n",
    "age=17\n",
    "if age>=18:   #condition can be in parentheses (age>=18)\n",
    "    print(\"OK\")           #indentation is important\n",
    "elif(age==17):\n",
    "    print(\"almost OK\")\n",
    "else:\n",
    "    print(\"too young\")    #indentation is important\n",
    "print(\"after\")"
   ]
  },
  {
   "cell_type": "markdown",
   "metadata": {},
   "source": [
    "**<font color=Red> Logic operators </font>**"
   ]
  },
  {
   "cell_type": "code",
   "execution_count": 10,
   "metadata": {
    "pycharm": {
     "is_executing": false
    }
   },
   "outputs": [
    {
     "data": {
      "text/plain": "(False, True)"
     },
     "metadata": {},
     "output_type": "execute_result",
     "execution_count": 10
    }
   ],
   "source": [
    "not(True), not(False)"
   ]
  },
  {
   "cell_type": "code",
   "execution_count": 11,
   "metadata": {
    "pycharm": {
     "is_executing": false
    }
   },
   "outputs": [
    {
     "data": {
      "text/plain": "True"
     },
     "metadata": {},
     "output_type": "execute_result",
     "execution_count": 11
    }
   ],
   "source": [
    "(1<2) or (10>13)"
   ]
  },
  {
   "cell_type": "code",
   "execution_count": 12,
   "metadata": {
    "pycharm": {
     "is_executing": false
    }
   },
   "outputs": [
    {
     "name": "stdout",
     "text": [
      "Ok\n"
     ],
     "output_type": "stream"
    }
   ],
   "source": [
    "#or\n",
    "if (1<2) or (10>13):\n",
    "    print(\"Ok\")"
   ]
  },
  {
   "cell_type": "code",
   "execution_count": 13,
   "metadata": {
    "pycharm": {
     "is_executing": false
    }
   },
   "outputs": [
    {
     "name": "stdout",
     "text": [
      "80-ties\n"
     ],
     "output_type": "stream"
    }
   ],
   "source": [
    "#and\n",
    "year=1982\n",
    "if year>=1980 and year<=1990:\n",
    "    print(\"80-ties\")"
   ]
  },
  {
   "cell_type": "code",
   "execution_count": 14,
   "metadata": {
    "pycharm": {
     "is_executing": false
    }
   },
   "outputs": [
    {
     "data": {
      "text/plain": "False"
     },
     "metadata": {},
     "output_type": "execute_result",
     "execution_count": 14
    }
   ],
   "source": [
    "#compare different Ascii values\n",
    "\"A\">\"B\"\n",
    "#\"a\">\"B\"\n",
    "#\"AB\"<\"BA\"  #= 'AB'<'BA'"
   ]
  },
  {
   "cell_type": "markdown",
   "metadata": {},
   "source": [
    "**<font color=Red> Loops </font>**"
   ]
  },
  {
   "cell_type": "code",
   "execution_count": 15,
   "metadata": {
    "pycharm": {
     "is_executing": false
    }
   },
   "outputs": [
    {
     "data": {
      "text/plain": "range(0, 6)"
     },
     "metadata": {},
     "output_type": "execute_result",
     "execution_count": 15
    }
   ],
   "source": [
    "#function range(N)=[0, 1, ..., N-1]\n",
    "#in Python 3 the range function will not generate a list explicitly like in Python 2\n",
    "range(6)"
   ]
  },
  {
   "cell_type": "code",
   "execution_count": 16,
   "metadata": {
    "pycharm": {
     "is_executing": false
    }
   },
   "outputs": [
    {
     "data": {
      "text/plain": "range(8, 11)"
     },
     "metadata": {},
     "output_type": "execute_result",
     "execution_count": 16
    }
   ],
   "source": [
    "#range(N1,N2)=[N1, ..., N2-1]\n",
    "range(8,11)"
   ]
  },
  {
   "cell_type": "code",
   "execution_count": 17,
   "metadata": {
    "pycharm": {
     "is_executing": false
    }
   },
   "outputs": [
    {
     "data": {
      "text/plain": "['pink', 'pink', 'pink', 'pink']"
     },
     "metadata": {},
     "output_type": "execute_result",
     "execution_count": 17
    }
   ],
   "source": [
    "#for loop\n",
    "colors=[\"blue\", \"red\", \"green\", \"black\"]  #list\n",
    "for i in range(0,4):\n",
    "    colors[i]=\"pink\"\n",
    "colors"
   ]
  },
  {
   "cell_type": "code",
   "execution_count": 18,
   "metadata": {
    "pycharm": {
     "is_executing": false
    }
   },
   "outputs": [
    {
     "name": "stdout",
     "text": [
      "blue\n",
      "red\n",
      "green\n",
      "black\n"
     ],
     "output_type": "stream"
    }
   ],
   "source": [
    "colors=[\"blue\", \"red\", \"green\", \"black\"]  #list\n",
    "for color in colors:\n",
    "    print(color)"
   ]
  },
  {
   "cell_type": "code",
   "execution_count": 19,
   "metadata": {
    "pycharm": {
     "is_executing": false
    }
   },
   "outputs": [
    {
     "name": "stdout",
     "text": [
      "blue\n",
      "0\n",
      "red\n",
      "1\n",
      "green\n",
      "2\n",
      "black\n",
      "3\n"
     ],
     "output_type": "stream"
    }
   ],
   "source": [
    "colors=[\"blue\", \"red\", \"green\", \"black\"]  #list\n",
    "for i,color in enumerate(colors):    #iterate through a list to provide the index of each element\n",
    "    print(color)\n",
    "    print(i)"
   ]
  },
  {
   "cell_type": "code",
   "execution_count": 20,
   "metadata": {
    "pycharm": {
     "is_executing": false
    }
   },
   "outputs": [],
   "source": [
    "#enumerate(colors)"
   ]
  },
  {
   "cell_type": "code",
   "execution_count": 21,
   "metadata": {
    "pycharm": {
     "is_executing": false
    }
   },
   "outputs": [
    {
     "name": "stdout",
     "text": [
      "1982\n",
      "1980\n",
      "1973\n"
     ],
     "output_type": "stream"
    }
   ],
   "source": [
    "dates = [1982,1980,1973]\n",
    "N = len(dates)\n",
    "#for i in range(N):\n",
    "#    print(dates[i])   #or\n",
    "for year in dates:\n",
    "    print(year)"
   ]
  },
  {
   "cell_type": "code",
   "execution_count": 22,
   "metadata": {
    "pycharm": {
     "is_executing": false
    }
   },
   "outputs": [
    {
     "name": "stdout",
     "text": [
      "0\n",
      "1\n",
      "2\n",
      "3\n",
      "4\n",
      "5\n",
      "6\n",
      "7\n"
     ],
     "output_type": "stream"
    }
   ],
   "source": [
    "for i in range(0, 8):\n",
    "    print(i)"
   ]
  },
  {
   "cell_type": "code",
   "execution_count": 23,
   "metadata": {
    "pycharm": {
     "is_executing": false
    }
   },
   "outputs": [
    {
     "data": {
      "text/plain": "['blue', 'blue']"
     },
     "metadata": {},
     "output_type": "execute_result",
     "execution_count": 23
    }
   ],
   "source": [
    "#while loop\n",
    "colors=[\"blue\", \"blue\", \"green\", \"black\"]  #list\n",
    "i=0\n",
    "bluelist=[]  #undetermined size now\n",
    "while (colors[i]==\"blue\"):\n",
    "    bluelist.append(colors[i])\n",
    "    i=i+1\n",
    "bluelist"
   ]
  },
  {
   "cell_type": "markdown",
   "metadata": {},
   "source": [
    "**<font color=Red> Functions </font>**"
   ]
  },
  {
   "cell_type": "code",
   "execution_count": 24,
   "metadata": {
    "pycharm": {
     "is_executing": false
    }
   },
   "outputs": [
    {
     "data": {
      "text/plain": "20.5"
     },
     "metadata": {},
     "output_type": "execute_result",
     "execution_count": 24
    }
   ],
   "source": [
    "#buil-in functions\n",
    "lista=[1, 8.5, 2, 6, 3]\n",
    "S=sum(lista)\n",
    "S"
   ]
  },
  {
   "cell_type": "code",
   "execution_count": 25,
   "metadata": {
    "pycharm": {
     "is_executing": false
    }
   },
   "outputs": [
    {
     "data": {
      "text/plain": "[1, 2, 3, 6, 8.5]"
     },
     "metadata": {},
     "output_type": "execute_result",
     "execution_count": 25
    }
   ],
   "source": [
    "#sorting\n",
    "#sorted()    #a new sorted list is created\n",
    "listaSortowana=sorted(lista)\n",
    "listaSortowana"
   ]
  },
  {
   "cell_type": "code",
   "execution_count": 26,
   "metadata": {
    "pycharm": {
     "is_executing": false
    }
   },
   "outputs": [
    {
     "name": "stdout",
     "text": [
      "[1, 8.5, 2, 6, 3]\n",
      "[1, 2, 3, 6, 8.5]\n"
     ],
     "output_type": "stream"
    }
   ],
   "source": [
    "#sort()     #the list is changed (sorted)\n",
    "print(lista)\n",
    "lista.sort()\n",
    "print(lista)"
   ]
  },
  {
   "cell_type": "code",
   "execution_count": 27,
   "metadata": {
    "pycharm": {
     "is_executing": false
    }
   },
   "outputs": [
    {
     "name": "stdout",
     "text": [
      "Help on function add in module __main__:\n",
      "\n",
      "add(a)\n",
      "    documentation in triple quotes\n",
      "    multi lines\n",
      "\n"
     ],
     "output_type": "stream"
    }
   ],
   "source": [
    "#own functions\n",
    "def add(a):    #a-formal parameter\n",
    "    \"\"\"\n",
    "    documentation in triple quotes\n",
    "    multi lines\n",
    "    \"\"\"\n",
    "    b=a+1\n",
    "    print(a, \" plus 1 is \", b)   #not necessary\n",
    "    return b\n",
    "help(add)     #documentation"
   ]
  },
  {
   "cell_type": "code",
   "execution_count": 28,
   "metadata": {
    "pycharm": {
     "is_executing": false
    }
   },
   "outputs": [
    {
     "name": "stdout",
     "text": [
      "13  plus 1 is  14\n"
     ],
     "output_type": "stream"
    },
    {
     "data": {
      "text/plain": "14"
     },
     "metadata": {},
     "output_type": "execute_result",
     "execution_count": 28
    }
   ],
   "source": [
    "add(13)"
   ]
  },
  {
   "cell_type": "code",
   "execution_count": 29,
   "metadata": {
    "pycharm": {
     "is_executing": false
    }
   },
   "outputs": [
    {
     "name": "stdout",
     "text": [
      "4  plus 1 is  5\n"
     ],
     "output_type": "stream"
    },
    {
     "data": {
      "text/plain": "5"
     },
     "metadata": {},
     "output_type": "execute_result",
     "execution_count": 29
    }
   ],
   "source": [
    "c=add(4)\n",
    "c"
   ]
  },
  {
   "cell_type": "code",
   "execution_count": 30,
   "metadata": {
    "pycharm": {
     "is_executing": false
    }
   },
   "outputs": [],
   "source": [
    "#more parameters\n",
    "def Product(a,b):\n",
    "    return a*b"
   ]
  },
  {
   "cell_type": "code",
   "execution_count": 31,
   "metadata": {
    "pycharm": {
     "is_executing": false
    }
   },
   "outputs": [
    {
     "data": {
      "text/plain": "10.5"
     },
     "metadata": {},
     "output_type": "execute_result",
     "execution_count": 31
    }
   ],
   "source": [
    "Product(3,3.5)"
   ]
  },
  {
   "cell_type": "code",
   "execution_count": 32,
   "metadata": {
    "pycharm": {
     "is_executing": false
    }
   },
   "outputs": [
    {
     "data": {
      "text/plain": "'some string some string '"
     },
     "metadata": {},
     "output_type": "execute_result",
     "execution_count": 32
    }
   ],
   "source": [
    "Product(2, \"some string \")"
   ]
  },
  {
   "cell_type": "code",
   "execution_count": 33,
   "metadata": {
    "pycharm": {
     "is_executing": false
    }
   },
   "outputs": [
    {
     "data": {
      "text/plain": "'some string some string '"
     },
     "metadata": {},
     "output_type": "execute_result",
     "execution_count": 33
    }
   ],
   "source": [
    "Product(\"some string \",2)"
   ]
  },
  {
   "cell_type": "code",
   "execution_count": 34,
   "metadata": {
    "pycharm": {
     "is_executing": false
    }
   },
   "outputs": [],
   "source": [
    "#functions with no return statement\n",
    "def pr():\n",
    "    print('OK')"
   ]
  },
  {
   "cell_type": "code",
   "execution_count": 35,
   "metadata": {
    "pycharm": {
     "is_executing": false
    }
   },
   "outputs": [
    {
     "name": "stdout",
     "text": [
      "OK\n"
     ],
     "output_type": "stream"
    }
   ],
   "source": [
    "pr()"
   ]
  },
  {
   "cell_type": "code",
   "execution_count": 36,
   "metadata": {
    "pycharm": {
     "is_executing": false
    }
   },
   "outputs": [],
   "source": [
    "#function cannot have an empty body, but we can use keyword \"pass\"\n",
    "def nofun():\n",
    "    pass\n",
    "#    return None     #can be, can be skipped"
   ]
  },
  {
   "cell_type": "code",
   "execution_count": 37,
   "metadata": {
    "pycharm": {
     "is_executing": false
    }
   },
   "outputs": [],
   "source": [
    "nofun()"
   ]
  },
  {
   "cell_type": "code",
   "execution_count": 38,
   "metadata": {
    "pycharm": {
     "is_executing": false
    }
   },
   "outputs": [
    {
     "name": "stdout",
     "text": [
      "None\n"
     ],
     "output_type": "stream"
    }
   ],
   "source": [
    "print(nofun())"
   ]
  },
  {
   "cell_type": "code",
   "execution_count": 39,
   "metadata": {
    "pycharm": {
     "is_executing": false
    }
   },
   "outputs": [],
   "source": [
    "#function with a loop\n",
    "def printAll(var):\n",
    "    for i,val in enumerate(var):\n",
    "        print(\"for position\", i, \"rating is \", val)"
   ]
  },
  {
   "cell_type": "code",
   "execution_count": 40,
   "metadata": {
    "pycharm": {
     "is_executing": false
    }
   },
   "outputs": [
    {
     "name": "stdout",
     "text": [
      "for position 0 rating is  1\n",
      "for position 1 rating is  5.5\n",
      "for position 2 rating is  89\n",
      "for position 3 rating is  90\n",
      "for position 4 rating is  90\n"
     ],
     "output_type": "stream"
    }
   ],
   "source": [
    "#l1=(1, 5.5, 89, 90, 90)\n",
    "l1=[1, 5.5, 89, 90, 90]\n",
    "#l1={1, 5.5, 89, 90, 90}    #different indexing of values for the set\n",
    "#l1={\"k1\":23, \"ala\":(3, 3)}   #different indexing of values for the dictionary\n",
    "printAll(l1)"
   ]
  },
  {
   "cell_type": "code",
   "execution_count": 41,
   "metadata": {
    "pycharm": {
     "is_executing": false
    }
   },
   "outputs": [],
   "source": [
    "#function with asterisk on the parameter names\n",
    "def printNames(*names):\n",
    "    for name in names:\n",
    "        print(name)"
   ]
  },
  {
   "cell_type": "code",
   "execution_count": 42,
   "metadata": {
    "pycharm": {
     "is_executing": false
    }
   },
   "outputs": [
    {
     "name": "stdout",
     "text": [
      "acdc\n",
      "mama\n",
      "tata\n"
     ],
     "output_type": "stream"
    }
   ],
   "source": [
    "printNames(\"acdc\", 'mama', 'tata')"
   ]
  },
  {
   "cell_type": "code",
   "execution_count": 43,
   "metadata": {
    "pycharm": {
     "is_executing": false
    }
   },
   "outputs": [
    {
     "name": "stdout",
     "text": [
      "[1, 5.5, 89, 90, 90]\n"
     ],
     "output_type": "stream"
    }
   ],
   "source": [
    "printNames(l1)"
   ]
  },
  {
   "cell_type": "code",
   "execution_count": 44,
   "metadata": {
    "pycharm": {
     "is_executing": false
    }
   },
   "outputs": [],
   "source": [
    "#global scope\n",
    "def addHash(x):\n",
    "    x=x+\"#\"\n",
    "    return(x)"
   ]
  },
  {
   "cell_type": "code",
   "execution_count": 45,
   "metadata": {
    "pycharm": {
     "is_executing": false
    }
   },
   "outputs": [
    {
     "data": {
      "text/plain": "'country#'"
     },
     "metadata": {},
     "output_type": "execute_result",
     "execution_count": 45
    }
   ],
   "source": [
    "x=\"country\"      #x is in global scope and is accessible anywhere after\n",
    "xx=addHash(x)    #xx assigned within a global scope and is accessible anywhere after\n",
    "xx"
   ]
  },
  {
   "cell_type": "code",
   "execution_count": 46,
   "metadata": {
    "pycharm": {
     "is_executing": false
    }
   },
   "outputs": [],
   "source": [
    "#local scope\n",
    "def Casino():\n",
    "    date=1995     #local variable\n",
    "    return date"
   ]
  },
  {
   "cell_type": "code",
   "execution_count": 47,
   "metadata": {
    "pycharm": {
     "is_executing": false
    }
   },
   "outputs": [
    {
     "data": {
      "text/plain": "1995"
     },
     "metadata": {},
     "output_type": "execute_result",
     "execution_count": 47
    }
   ],
   "source": [
    "Casino()"
   ]
  },
  {
   "cell_type": "code",
   "execution_count": 48,
   "metadata": {
    "pycharm": {
     "is_executing": false
    }
   },
   "outputs": [
    {
     "name": "stdout",
     "text": [
      "1995\n",
      "2000\n"
     ],
     "output_type": "stream"
    }
   ],
   "source": [
    "date=2000         #global scope\n",
    "print(Casino())   #here date from the local scope\n",
    "print(date)       #from the global scope\n",
    "#global and local variables with the same name have no conflict"
   ]
  },
  {
   "cell_type": "code",
   "execution_count": 49,
   "metadata": {
    "pycharm": {
     "is_executing": false
    }
   },
   "outputs": [],
   "source": [
    "#if a variable is not defined within a function, Python will check the global scope\n",
    "def f1(y):\n",
    "    print(rating)     #rating not defined in the local scope\n",
    "    return(rating+y)"
   ]
  },
  {
   "cell_type": "code",
   "execution_count": 50,
   "metadata": {
    "pycharm": {
     "is_executing": false
    }
   },
   "outputs": [
    {
     "name": "stdout",
     "text": [
      "9\n"
     ],
     "output_type": "stream"
    },
    {
     "data": {
      "text/plain": "11"
     },
     "metadata": {},
     "output_type": "execute_result",
     "execution_count": 50
    }
   ],
   "source": [
    "rating=9\n",
    "f1(2)"
   ]
  },
  {
   "cell_type": "code",
   "execution_count": 51,
   "metadata": {
    "pycharm": {
     "is_executing": false
    }
   },
   "outputs": [],
   "source": [
    "#loal variable defined as global in a function\n",
    "def singing():\n",
    "    global var2    #assignment here is not allowed\n",
    "    var2=200\n",
    "    return var2"
   ]
  },
  {
   "cell_type": "code",
   "execution_count": 52,
   "metadata": {
    "pycharm": {
     "is_executing": false
    }
   },
   "outputs": [
    {
     "data": {
      "text/plain": "200"
     },
     "metadata": {},
     "output_type": "execute_result",
     "execution_count": 52
    }
   ],
   "source": [
    "#var2\n",
    "singing()"
   ]
  },
  {
   "cell_type": "code",
   "execution_count": 53,
   "metadata": {
    "pycharm": {
     "is_executing": false
    }
   },
   "outputs": [
    {
     "data": {
      "text/plain": "200"
     },
     "metadata": {},
     "output_type": "execute_result",
     "execution_count": 53
    }
   ],
   "source": [
    "var2"
   ]
  },
  {
   "cell_type": "code",
   "execution_count": 54,
   "metadata": {
    "pycharm": {
     "is_executing": false
    }
   },
   "outputs": [],
   "source": [
    "#default values of the arguments\n",
    "def ff(a=1,b=3):\n",
    "    return a+b"
   ]
  },
  {
   "cell_type": "code",
   "execution_count": 55,
   "metadata": {
    "pycharm": {
     "is_executing": false
    }
   },
   "outputs": [
    {
     "data": {
      "text/plain": "12"
     },
     "metadata": {},
     "output_type": "execute_result",
     "execution_count": 55
    }
   ],
   "source": [
    "ff(5,7)"
   ]
  },
  {
   "cell_type": "code",
   "execution_count": 56,
   "metadata": {
    "pycharm": {
     "is_executing": false
    }
   },
   "outputs": [
    {
     "data": {
      "text/plain": "8"
     },
     "metadata": {},
     "output_type": "execute_result",
     "execution_count": 56
    }
   ],
   "source": [
    "ff(5)"
   ]
  },
  {
   "cell_type": "code",
   "execution_count": 57,
   "metadata": {
    "pycharm": {
     "is_executing": false
    }
   },
   "outputs": [
    {
     "data": {
      "text/plain": "4"
     },
     "metadata": {},
     "output_type": "execute_result",
     "execution_count": 57
    }
   ],
   "source": [
    "ff()"
   ]
  },
  {
   "cell_type": "markdown",
   "metadata": {},
   "source": [
    "**<font color=Red> Objects and classes</font>**<br>\n",
    "Every object has: a type, internal representation, a set of methods to interact with the data<br>\n",
    "An object is an instance of a particular type: int, float, list, ..."
   ]
  },
  {
   "cell_type": "code",
   "execution_count": 58,
   "metadata": {
    "pycharm": {
     "is_executing": false
    }
   },
   "outputs": [
    {
     "data": {
      "text/plain": "set"
     },
     "metadata": {},
     "output_type": "execute_result",
     "execution_count": 58
    }
   ],
   "source": [
    "#type of object\n",
    "type({'1','a','b'})"
   ]
  },
  {
   "cell_type": "code",
   "execution_count": 59,
   "metadata": {
    "pycharm": {
     "is_executing": false
    }
   },
   "outputs": [
    {
     "data": {
      "text/plain": "[1, 2, 4, 4, 7, 9, 12]"
     },
     "metadata": {},
     "output_type": "execute_result",
     "execution_count": 59
    }
   ],
   "source": [
    "#methods: functions that act on an object, syntax: object.method()\n",
    "list1=[1, 4, 7, 2, 9, 12, 4]\n",
    "list1.sort()\n",
    "list1"
   ]
  },
  {
   "cell_type": "code",
   "execution_count": 60,
   "metadata": {
    "pycharm": {
     "is_executing": false
    }
   },
   "outputs": [
    {
     "data": {
      "text/plain": "[12, 9, 7, 4, 4, 2, 1]"
     },
     "metadata": {},
     "output_type": "execute_result",
     "execution_count": 60
    }
   ],
   "source": [
    "list1.reverse()\n",
    "list1"
   ]
  },
  {
   "cell_type": "code",
   "execution_count": 61,
   "metadata": {
    "pycharm": {
     "is_executing": false
    }
   },
   "outputs": [],
   "source": [
    "#class (type) has attributes and methods\n",
    "#after class name in the parentheses: parent of the class\n",
    "class Circle(object):\n",
    "    def __init__(self, radius, color):    #constructor, self parameter refers to the newly created instance\n",
    "        self.radius=radius;             #initialization of the attributes\n",
    "        self.color=color;"
   ]
  },
  {
   "cell_type": "code",
   "execution_count": 62,
   "metadata": {
    "pycharm": {
     "is_executing": false
    }
   },
   "outputs": [],
   "source": [
    "class Rectangle(object):\n",
    "    def __init__(self, width, height, color):\n",
    "        self.width=width\n",
    "        self.height=height\n",
    "        self.color=color"
   ]
  },
  {
   "cell_type": "code",
   "execution_count": 63,
   "metadata": {
    "pycharm": {
     "is_executing": false
    }
   },
   "outputs": [
    {
     "data": {
      "text/plain": "(5, 'Red', __main__.Circle)"
     },
     "metadata": {},
     "output_type": "execute_result",
     "execution_count": 63
    }
   ],
   "source": [
    "c1=Circle(5,\"Red\") #Circle() is object constructor\n",
    "c1.radius, c1.color, type(c1)"
   ]
  },
  {
   "cell_type": "code",
   "execution_count": 64,
   "metadata": {
    "pycharm": {
     "is_executing": false
    }
   },
   "outputs": [
    {
     "data": {
      "text/plain": "'Blue'"
     },
     "metadata": {},
     "output_type": "execute_result",
     "execution_count": 64
    }
   ],
   "source": [
    "#changing color attributes\n",
    "c1.color=\"Blue\"\n",
    "c1.color"
   ]
  },
  {
   "cell_type": "code",
   "execution_count": 65,
   "metadata": {
    "pycharm": {
     "is_executing": false
    }
   },
   "outputs": [],
   "source": [
    "# Import the library\n",
    "#jeśli jest niezainstalowany pakiet, to trzeba wcześniej z cmd\n",
    "import matplotlib.pyplot as plt \n",
    "# %matplotlib inline  #<- czy potrzebne?\n",
    "\n",
    "#methods: change data attributes of objects\n",
    "class Circle(object):\n",
    "    def __init__(self, radius, color):    #constructor, self parameter refers to the newly created instance\n",
    "        self.radius=radius;             #initialization of the attributes\n",
    "        self.color=color\n",
    "    def add_radius(self, r):      #add r to the radius\n",
    "        self.radius=self.radius+r;\n",
    "        return(self.radius)\n",
    "    def draw_circle(self):\n",
    "        plt.gca().add_patch(plt.Circle((0, 0), radius=self.radius, fc=self.color))\n",
    "        plt.axis('scaled')\n",
    "        plt.show()"
   ]
  },
  {
   "cell_type": "code",
   "execution_count": 66,
   "metadata": {
    "pycharm": {
     "is_executing": false
    }
   },
   "outputs": [
    {
     "data": {
      "text/plain": "12"
     },
     "metadata": {},
     "output_type": "execute_result",
     "execution_count": 66
    }
   ],
   "source": [
    "c1=Circle(5,\"Red\")\n",
    "c1.add_radius(7)\n",
    "c1.radius"
   ]
  },
  {
   "cell_type": "code",
   "execution_count": 67,
   "metadata": {
    "pycharm": {
     "is_executing": false
    }
   },
   "outputs": [
    {
     "data": {
      "text/plain": "<Figure size 432x288 with 1 Axes>",
      "image/png": "[encoded data removed]"
     },
     "metadata": {
      "needs_background": "light"
     },
     "output_type": "display_data"
    }
   ],
   "source": [
    "c1.draw_circle()"
   ]
  },
  {
   "cell_type": "code",
   "execution_count": 68,
   "metadata": {
    "pycharm": {
     "is_executing": false
    }
   },
   "outputs": [
    {
     "data": {
      "text/plain": "['__class__',\n '__delattr__',\n '__dict__',\n '__dir__',\n '__doc__',\n '__eq__',\n '__format__',\n '__ge__',\n '__getattribute__',\n '__gt__',\n '__hash__',\n '__init__',\n '__init_subclass__',\n '__le__',\n '__lt__',\n '__module__',\n '__ne__',\n '__new__',\n '__reduce__',\n '__reduce_ex__',\n '__repr__',\n '__setattr__',\n '__sizeof__',\n '__str__',\n '__subclasshook__',\n '__weakref__',\n 'add_radius',\n 'color',\n 'draw_circle',\n 'radius']"
     },
     "metadata": {},
     "output_type": "execute_result",
     "execution_count": 68
    }
   ],
   "source": [
    "#list of attributes and methods\n",
    "#attributes/methods with the underscores are for internal use\n",
    "dir(c1)"
   ]
  },
  {
   "cell_type": "code",
   "execution_count": 69,
   "metadata": {
    "pycharm": {
     "is_executing": false
    }
   },
   "outputs": [],
   "source": [
    "class Rectangle(object):\n",
    "    def __init__(self, width, height, color):\n",
    "        self.width=width\n",
    "        self.height=height\n",
    "        self.color=color\n",
    "    def drawRectangle(self):\n",
    "        plt.gca().add_patch(plt.Rectangle((0, 0), self.width, self.height ,fc=self.color))\n",
    "        plt.axis('scaled')\n",
    "        plt.show()"
   ]
  },
  {
   "cell_type": "code",
   "execution_count": 70,
   "metadata": {
    "pycharm": {
     "is_executing": false
    }
   },
   "outputs": [],
   "source": [
    "r1 = Rectangle(10, 2, 'blue')"
   ]
  },
  {
   "cell_type": "code",
   "execution_count": 73,
   "metadata": {
    "pycharm": {
     "is_executing": false
    }
   },
   "outputs": [
    {
     "data": {
      "text/plain": "<Figure size 432x288 with 1 Axes>",
      "image/png": "[encoded data removed]"
     },
     "metadata": {
      "needs_background": "light"
     },
     "output_type": "display_data"
    }
   ],
   "source": [
    "r1.drawRectangle()"
   ]
  },
  {
   "cell_type": "code",
   "execution_count": 76,
   "metadata": {
    "pycharm": {
     "is_executing": false
    }
   },
   "outputs": [],
   "source": [
    "import matplotlib.pyplot as plt # %matplotlib inline  #<- czy potrzebne? \n",
    "                                #methods: change data attributes of objects\n",
    "class Circle(object):\n",
    "    def __init__(self, radius, color):    #constructor, self parameter refers to the newly created instance \n",
    "        self.radius=radius;             #initialization of the attributes\n",
    "        self.color=color \n",
    "    def add_radius(self, r):      #add r to the radius\n",
    "        self.radius=self.radius+r;\n",
    "        return(self.radius)\n",
    "    def draw_circle(self):        \n",
    "        plt.gca().add_patch(plt.Circle((0, 0), radius=self.radius, fc=self.color))        \n",
    "        plt.axis('scaled')\n",
    "        plt.show()"
   ]
  }
 ],
 "metadata": {
  "kernelspec": {
   "display_name": "Python 3",
   "language": "python",
   "name": "python3"
  },
  "language_info": {
   "codemirror_mode": {
    "name": "ipython",
    "version": 3
   },
   "file_extension": ".py",
   "mimetype": "text/x-python",
   "name": "python",
   "nbconvert_exporter": "python",
   "pygments_lexer": "ipython3",
   "version": "3.8.3"
  }
 },
 "nbformat": 4,
 "nbformat_minor": 4
}