{
 "cells": [
  {
   "cell_type": "markdown",
   "metadata": {},
   "source": [
    "**<font color=Red>Files</font>**<br>\n",
    "**reading files**"
   ]
  },
  {
   "cell_type": "code",
   "execution_count": null,
   "metadata": {},
   "outputs": [],
   "source": [
    "#file object\n",
    "#path: with / not \\ (like in Windows)\n",
    "#w=writing, r=reading, a=appending\n",
    "File1=open(\"./dane.txt\",\"r\")"
   ]
  },
  {
   "cell_type": "code",
   "execution_count": null,
   "metadata": {},
   "outputs": [],
   "source": [
    "File1.name"
   ]
  },
  {
   "cell_type": "code",
   "execution_count": null,
   "metadata": {},
   "outputs": [],
   "source": [
    "File1.mode"
   ]
  },
  {
   "cell_type": "code",
   "execution_count": null,
   "metadata": {},
   "outputs": [],
   "source": [
    "#always close files after usage\n",
    "#explicit close\n",
    "File1.close()"
   ]
  },
  {
   "cell_type": "code",
   "execution_count": null,
   "metadata": {},
   "outputs": [],
   "source": [
    "#with statement that keep the file open only when it is used and automatically closes the file\n",
    "with open(\"dane.txt\",\"r\") as File1:\n",
    "#\n",
    "#wypróbować metody odkomentowując po jednej\n",
    "#\n",
    "    #f=File1.read()    #all lines\n",
    "    #print(f)\n",
    "    #\n",
    "    f=File1.readline() #first line\n",
    "    print(f)\n",
    "    f=File1.readline() #second line (and so on)\n",
    "    print(f)\n",
    "    #\n",
    "    #f=File1.readlines() #line-by-line with \\n as end-of-line\n",
    "    #print(f)\n",
    "print(File1.closed)\n",
    "print(f)"
   ]
  },
  {
   "cell_type": "code",
   "execution_count": null,
   "metadata": {},
   "outputs": [],
   "source": [
    "help(File1)"
   ]
  },
  {
   "cell_type": "code",
   "execution_count": null,
   "metadata": {},
   "outputs": [],
   "source": [
    "File1=open(\"dane.txt\",\"r\")\n",
    "for line in File1:\n",
    "    print(line)"
   ]
  },
  {
   "cell_type": "code",
   "execution_count": null,
   "metadata": {},
   "outputs": [],
   "source": [
    "File1=open(\"dane.txt\",\"r\")\n",
    "f=File1.read(3)    #argument: number of characters in a line\n",
    "print(f)\n",
    "f=File1.read(8)\n",
    "print(f)\n",
    "File1.close()"
   ]
  },
  {
   "cell_type": "code",
   "execution_count": null,
   "metadata": {},
   "outputs": [],
   "source": [
    "File1=open(\"dane.txt\",\"r\")\n",
    "f=File1.readline(3)    #argument: number of characters in a line\n",
    "print(f)\n",
    "f=File1.readline(2)\n",
    "print(f)\n",
    "File1.close()"
   ]
  },
  {
   "cell_type": "code",
   "execution_count": null,
   "metadata": {},
   "outputs": [],
   "source": [
    "File1=open(\"dane.txt\",\"r\")\n",
    "f=File1.readlines(5)\n",
    "print(f)\n",
    "f=File1.readlines(10)\n",
    "print(f)\n",
    "File1.close()"
   ]
  },
  {
   "cell_type": "markdown",
   "metadata": {},
   "source": [
    "**writing to files**"
   ]
  },
  {
   "cell_type": "code",
   "execution_count": null,
   "metadata": {},
   "outputs": [],
   "source": [
    "File2=open(\"myfile.txt\",'w')"
   ]
  },
  {
   "cell_type": "code",
   "execution_count": null,
   "metadata": {},
   "outputs": [],
   "source": [
    "File2.write(\"line A\")\n",
    "File2.write(\"line B\\n\")\n",
    "File2.write(\"line C\\n\")\n",
    "File2.close()"
   ]
  },
  {
   "cell_type": "code",
   "execution_count": null,
   "metadata": {},
   "outputs": [],
   "source": [
    "Lines=[\"line 1\\n\", \"line2\\n\", \"line3\\n\"]\n",
    "with open(\"File3.txt\", \"w\") as fi:\n",
    "    for line in Lines:\n",
    "        fi.write(line)"
   ]
  },
  {
   "cell_type": "code",
   "execution_count": null,
   "metadata": {},
   "outputs": [],
   "source": [
    "with open(\"File3.txt\", \"a\") as fi:\n",
    "    fi.write(\"ala ma kota\")"
   ]
  },
  {
   "cell_type": "code",
   "execution_count": null,
   "metadata": {},
   "outputs": [],
   "source": [
    "#copy a file to a new file\n",
    "with open(\"File3.txt\", \"r\") as rF:\n",
    "    with open(\"File4.txt\", \"w\") as wF:\n",
    "        for line in rF:\n",
    "            wF.write(line)"
   ]
  }
 ],
 "metadata": {
  "kernelspec": {
   "display_name": "Python 3",
   "language": "python",
   "name": "python3"
  },
  "language_info": {
   "codemirror_mode": {
    "name": "ipython",
    "version": 3
   },
   "file_extension": ".py",
   "mimetype": "text/x-python",
   "name": "python",
   "nbconvert_exporter": "python",
   "pygments_lexer": "ipython3",
   "version": "3.8.3"
  }
 },
 "nbformat": 4,
 "nbformat_minor": 4
}
