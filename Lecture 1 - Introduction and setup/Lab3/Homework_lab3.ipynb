{
 "cells": [
  {
   "cell_type": "markdown",
   "metadata": {
    "collapsed": true,
    "pycharm": {
     "name": "#%% md\n"
    }
   },
   "source": [
    "Utworzyć słownik zawierający pięć rekordów z książkami: \n",
    "- tytuł\n",
    "- wydawnictwo\n",
    "- rok wydania\n",
    "- liczba stron. \n",
    "\n",
    "Ze słownika utworzyć strukturę DataFrame pakietu pandas. \n",
    "Wylistować: \n",
    "- całe dane tabelarycznie, \n",
    "- nagłówek i dwa pierwsze rekordy, \n",
    "- dwie dowolne kolumny. \n",
    "\n",
    "Odczytać i zmienić dowolną komórkę tabeli danych i zapisać dane w nowym pliku csv lub xlsx (do obsługi plików Excela użyć biblioteki xlrd). "
   ]
  },
  {
   "cell_type": "code",
   "execution_count": 21,
   "outputs": [],
   "source": [
    "import pandas as pd\n",
    "\n",
    "book_dict = {\n",
    "    \"title\": pd.Series([\"Typowa Książka1\", \"Typowa Książka2\", \"Typowa Książka3\", \"Typowa Książka 4\", \"Typowa Książka 5\"]),\n",
    "    \"publisher\": pd.Series([\"Cool Publisher1\", \"Cool Publisher2\", \"Cool Publisher3\", \"Cool Publisher4\", \"Cool Publisher5\"]),\n",
    "    \"year\": pd.Series([1984, 1999, 1997, 1998, 1927]),\n",
    "    \"pages\": pd.Series([254, 115, 354, 111, 222]),\n",
    "}"
   ],
   "metadata": {
    "collapsed": false,
    "pycharm": {
     "name": "#%%\n",
     "is_executing": false
    }
   }
  },
  {
   "cell_type": "code",
   "execution_count": 22,
   "outputs": [],
   "source": [
    "books = pd.DataFrame(book_dict)"
   ],
   "metadata": {
    "collapsed": false,
    "pycharm": {
     "name": "#%%\n",
     "is_executing": false
    }
   }
  },
  {
   "cell_type": "code",
   "execution_count": 23,
   "outputs": [
    {
     "data": {
      "text/plain": "              title        publisher  year  pages\n0   Typowa Książka1  Cool Publisher1  1984    254\n1   Typowa Książka2  Cool Publisher2  1999    115\n2   Typowa Książka3  Cool Publisher3  1997    354\n3  Typowa Książka 4  Cool Publisher4  1998    111\n4  Typowa Książka 5  Cool Publisher5  1927    222",
      "text/html": "<div>\n<style scoped>\n    .dataframe tbody tr th:only-of-type {\n        vertical-align: middle;\n    }\n\n    .dataframe tbody tr th {\n        vertical-align: top;\n    }\n\n    .dataframe thead th {\n        text-align: right;\n    }\n</style>\n<table border=\"1\" class=\"dataframe\">\n  <thead>\n    <tr style=\"text-align: right;\">\n      <th></th>\n      <th>title</th>\n      <th>publisher</th>\n      <th>year</th>\n      <th>pages</th>\n    </tr>\n  </thead>\n  <tbody>\n    <tr>\n      <th>0</th>\n      <td>Typowa Książka1</td>\n      <td>Cool Publisher1</td>\n      <td>1984</td>\n      <td>254</td>\n    </tr>\n    <tr>\n      <th>1</th>\n      <td>Typowa Książka2</td>\n      <td>Cool Publisher2</td>\n      <td>1999</td>\n      <td>115</td>\n    </tr>\n    <tr>\n      <th>2</th>\n      <td>Typowa Książka3</td>\n      <td>Cool Publisher3</td>\n      <td>1997</td>\n      <td>354</td>\n    </tr>\n    <tr>\n      <th>3</th>\n      <td>Typowa Książka 4</td>\n      <td>Cool Publisher4</td>\n      <td>1998</td>\n      <td>111</td>\n    </tr>\n    <tr>\n      <th>4</th>\n      <td>Typowa Książka 5</td>\n      <td>Cool Publisher5</td>\n      <td>1927</td>\n      <td>222</td>\n    </tr>\n  </tbody>\n</table>\n</div>"
     },
     "metadata": {},
     "output_type": "execute_result",
     "execution_count": 23
    }
   ],
   "source": [
    "books"
   ],
   "metadata": {
    "collapsed": false,
    "pycharm": {
     "name": "#%%\n",
     "is_executing": false
    }
   }
  },
  {
   "cell_type": "code",
   "execution_count": 24,
   "outputs": [
    {
     "data": {
      "text/plain": "             title        publisher  year  pages\n0  Typowa Książka1  Cool Publisher1  1984    254\n1  Typowa Książka2  Cool Publisher2  1999    115",
      "text/html": "<div>\n<style scoped>\n    .dataframe tbody tr th:only-of-type {\n        vertical-align: middle;\n    }\n\n    .dataframe tbody tr th {\n        vertical-align: top;\n    }\n\n    .dataframe thead th {\n        text-align: right;\n    }\n</style>\n<table border=\"1\" class=\"dataframe\">\n  <thead>\n    <tr style=\"text-align: right;\">\n      <th></th>\n      <th>title</th>\n      <th>publisher</th>\n      <th>year</th>\n      <th>pages</th>\n    </tr>\n  </thead>\n  <tbody>\n    <tr>\n      <th>0</th>\n      <td>Typowa Książka1</td>\n      <td>Cool Publisher1</td>\n      <td>1984</td>\n      <td>254</td>\n    </tr>\n    <tr>\n      <th>1</th>\n      <td>Typowa Książka2</td>\n      <td>Cool Publisher2</td>\n      <td>1999</td>\n      <td>115</td>\n    </tr>\n  </tbody>\n</table>\n</div>"
     },
     "metadata": {},
     "output_type": "execute_result",
     "execution_count": 24
    }
   ],
   "source": [
    "books[:2]"
   ],
   "metadata": {
    "collapsed": false,
    "pycharm": {
     "name": "#%%\n",
     "is_executing": false
    }
   }
  },
  {
   "cell_type": "code",
   "execution_count": 25,
   "outputs": [
    {
     "data": {
      "text/plain": "              title        publisher\n0   Typowa Książka1  Cool Publisher1\n1   Typowa Książka2  Cool Publisher2\n2   Typowa Książka3  Cool Publisher3\n3  Typowa Książka 4  Cool Publisher4\n4  Typowa Książka 5  Cool Publisher5",
      "text/html": "<div>\n<style scoped>\n    .dataframe tbody tr th:only-of-type {\n        vertical-align: middle;\n    }\n\n    .dataframe tbody tr th {\n        vertical-align: top;\n    }\n\n    .dataframe thead th {\n        text-align: right;\n    }\n</style>\n<table border=\"1\" class=\"dataframe\">\n  <thead>\n    <tr style=\"text-align: right;\">\n      <th></th>\n      <th>title</th>\n      <th>publisher</th>\n    </tr>\n  </thead>\n  <tbody>\n    <tr>\n      <th>0</th>\n      <td>Typowa Książka1</td>\n      <td>Cool Publisher1</td>\n    </tr>\n    <tr>\n      <th>1</th>\n      <td>Typowa Książka2</td>\n      <td>Cool Publisher2</td>\n    </tr>\n    <tr>\n      <th>2</th>\n      <td>Typowa Książka3</td>\n      <td>Cool Publisher3</td>\n    </tr>\n    <tr>\n      <th>3</th>\n      <td>Typowa Książka 4</td>\n      <td>Cool Publisher4</td>\n    </tr>\n    <tr>\n      <th>4</th>\n      <td>Typowa Książka 5</td>\n      <td>Cool Publisher5</td>\n    </tr>\n  </tbody>\n</table>\n</div>"
     },
     "metadata": {},
     "output_type": "execute_result",
     "execution_count": 25
    }
   ],
   "source": [
    "books[books.columns[:2]]"
   ],
   "metadata": {
    "collapsed": false,
    "pycharm": {
     "name": "#%%\n",
     "is_executing": false
    }
   }
  },
  {
   "cell_type": "code",
   "execution_count": 29,
   "outputs": [
    {
     "data": {
      "text/plain": "              title        publisher  year  pages\n0   Typowa Książka1  Cool Publisher1  2000    254\n1   Typowa Książka2  Cool Publisher2  1999    115\n2   Typowa Książka3  Cool Publisher3  1997    354\n3  Typowa Książka 4  Cool Publisher4  1998    111\n4  Typowa Książka 5  Cool Publisher5  1927    222",
      "text/html": "<div>\n<style scoped>\n    .dataframe tbody tr th:only-of-type {\n        vertical-align: middle;\n    }\n\n    .dataframe tbody tr th {\n        vertical-align: top;\n    }\n\n    .dataframe thead th {\n        text-align: right;\n    }\n</style>\n<table border=\"1\" class=\"dataframe\">\n  <thead>\n    <tr style=\"text-align: right;\">\n      <th></th>\n      <th>title</th>\n      <th>publisher</th>\n      <th>year</th>\n      <th>pages</th>\n    </tr>\n  </thead>\n  <tbody>\n    <tr>\n      <th>0</th>\n      <td>Typowa Książka1</td>\n      <td>Cool Publisher1</td>\n      <td>2000</td>\n      <td>254</td>\n    </tr>\n    <tr>\n      <th>1</th>\n      <td>Typowa Książka2</td>\n      <td>Cool Publisher2</td>\n      <td>1999</td>\n      <td>115</td>\n    </tr>\n    <tr>\n      <th>2</th>\n      <td>Typowa Książka3</td>\n      <td>Cool Publisher3</td>\n      <td>1997</td>\n      <td>354</td>\n    </tr>\n    <tr>\n      <th>3</th>\n      <td>Typowa Książka 4</td>\n      <td>Cool Publisher4</td>\n      <td>1998</td>\n      <td>111</td>\n    </tr>\n    <tr>\n      <th>4</th>\n      <td>Typowa Książka 5</td>\n      <td>Cool Publisher5</td>\n      <td>1927</td>\n      <td>222</td>\n    </tr>\n  </tbody>\n</table>\n</div>"
     },
     "metadata": {},
     "output_type": "execute_result",
     "execution_count": 29
    }
   ],
   "source": [
    "books.at[0, 'year'] = 2000\n",
    "assert books[\"year\"][0] == 2000\n",
    "books"
   ],
   "metadata": {
    "collapsed": false,
    "pycharm": {
     "name": "#%%\n",
     "is_executing": false
    }
   }
  },
  {
   "cell_type": "code",
   "execution_count": 31,
   "outputs": [],
   "source": [
    "books.to_csv(\"books_to_file2.csv\")"
   ],
   "metadata": {
    "collapsed": false,
    "pycharm": {
     "name": "#%%\n",
     "is_executing": false
    }
   }
  }
 ],
 "metadata": {
  "kernelspec": {
   "display_name": "Python 3",
   "language": "python",
   "name": "python3"
  },
  "language_info": {
   "codemirror_mode": {
    "name": "ipython",
    "version": 2
   },
   "file_extension": ".py",
   "mimetype": "text/x-python",
   "name": "python",
   "nbconvert_exporter": "python",
   "pygments_lexer": "ipython2",
   "version": "2.7.6"
  },
  "pycharm": {
   "stem_cell": {
    "cell_type": "raw",
    "source": [],
    "metadata": {
     "collapsed": false
    }
   }
  }
 },
 "nbformat": 4,
 "nbformat_minor": 0
}