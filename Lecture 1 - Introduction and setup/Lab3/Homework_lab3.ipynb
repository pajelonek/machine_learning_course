{
 "cells": [
  {
   "cell_type": "markdown",
   "metadata": {
    "collapsed": true,
    "pycharm": {
     "name": "#%% md\n"
    }
   },
   "source": [
    "Utworzyć słownik zawierający pięć rekordów z książkami: \n",
    "- tytuł\n",
    "- wydawnictwo\n",
    "- rok wydania\n",
    "- liczba stron. \n",
    "\n",
    "Ze słownika utworzyć strukturę DataFrame pakietu pandas. \n",
    "Wylistować: \n",
    "- całe dane tabelarycznie, \n",
    "- nagłówek i dwa pierwsze rekordy, \n",
    "- dwie dowolne kolumny. \n",
    "\n",
    "Odczytać i zmienić dowolną komórkę tabeli danych i zapisać dane w nowym pliku csv lub xlsx (do obsługi plików Excela użyć biblioteki xlrd). "
   ]
  },
  {
   "cell_type": "code",
   "execution_count": 5,
   "outputs": [],
   "source": [
    "import pandas as pd\n",
    "\n",
    "book_dict = {\n",
    "    \"title\": pd.Series([\"Typowa Książka1\", \"Typowa Książka2\", \"Typowa Książka3\"]),\n",
    "    \"publisher\": pd.Series([\"Cool Publisher1\", \"Cool Publisher2\", \"Cool Publisher3\"]),\n",
    "    \"year\": pd.Series([1984, 1999, 1997]),\n",
    "    \"pages\": pd.Series([254, 115, 354]),\n",
    "}"
   ],
   "metadata": {
    "collapsed": false,
    "pycharm": {
     "name": "#%%\n",
     "is_executing": false
    }
   }
  },
  {
   "cell_type": "code",
   "execution_count": 13,
   "outputs": [],
   "source": [
    "books = pd.DataFrame(book_dict)"
   ],
   "metadata": {
    "collapsed": false,
    "pycharm": {
     "name": "#%%\n",
     "is_executing": false
    }
   }
  },
  {
   "cell_type": "code",
   "execution_count": 14,
   "outputs": [
    {
     "data": {
      "text/plain": "             title        publisher  year  pages\n0  Typowa Książka1  Cool Publisher1  1984    254\n1  Typowa Książka2  Cool Publisher2  1999    115\n2  Typowa Książka3  Cool Publisher3  1997    354",
      "text/html": "<div>\n<style scoped>\n    .dataframe tbody tr th:only-of-type {\n        vertical-align: middle;\n    }\n\n    .dataframe tbody tr th {\n        vertical-align: top;\n    }\n\n    .dataframe thead th {\n        text-align: right;\n    }\n</style>\n<table border=\"1\" class=\"dataframe\">\n  <thead>\n    <tr style=\"text-align: right;\">\n      <th></th>\n      <th>title</th>\n      <th>publisher</th>\n      <th>year</th>\n      <th>pages</th>\n    </tr>\n  </thead>\n  <tbody>\n    <tr>\n      <td>0</td>\n      <td>Typowa Książka1</td>\n      <td>Cool Publisher1</td>\n      <td>1984</td>\n      <td>254</td>\n    </tr>\n    <tr>\n      <td>1</td>\n      <td>Typowa Książka2</td>\n      <td>Cool Publisher2</td>\n      <td>1999</td>\n      <td>115</td>\n    </tr>\n    <tr>\n      <td>2</td>\n      <td>Typowa Książka3</td>\n      <td>Cool Publisher3</td>\n      <td>1997</td>\n      <td>354</td>\n    </tr>\n  </tbody>\n</table>\n</div>"
     },
     "metadata": {},
     "output_type": "execute_result",
     "execution_count": 14
    }
   ],
   "source": [
    "books"
   ],
   "metadata": {
    "collapsed": false,
    "pycharm": {
     "name": "#%%\n",
     "is_executing": false
    }
   }
  },
  {
   "cell_type": "code",
   "execution_count": 15,
   "outputs": [
    {
     "data": {
      "text/plain": "             title        publisher  year  pages\n0  Typowa Książka1  Cool Publisher1  1984    254\n1  Typowa Książka2  Cool Publisher2  1999    115",
      "text/html": "<div>\n<style scoped>\n    .dataframe tbody tr th:only-of-type {\n        vertical-align: middle;\n    }\n\n    .dataframe tbody tr th {\n        vertical-align: top;\n    }\n\n    .dataframe thead th {\n        text-align: right;\n    }\n</style>\n<table border=\"1\" class=\"dataframe\">\n  <thead>\n    <tr style=\"text-align: right;\">\n      <th></th>\n      <th>title</th>\n      <th>publisher</th>\n      <th>year</th>\n      <th>pages</th>\n    </tr>\n  </thead>\n  <tbody>\n    <tr>\n      <td>0</td>\n      <td>Typowa Książka1</td>\n      <td>Cool Publisher1</td>\n      <td>1984</td>\n      <td>254</td>\n    </tr>\n    <tr>\n      <td>1</td>\n      <td>Typowa Książka2</td>\n      <td>Cool Publisher2</td>\n      <td>1999</td>\n      <td>115</td>\n    </tr>\n  </tbody>\n</table>\n</div>"
     },
     "metadata": {},
     "output_type": "execute_result",
     "execution_count": 15
    }
   ],
   "source": [
    "books[:2]"
   ],
   "metadata": {
    "collapsed": false,
    "pycharm": {
     "name": "#%%\n",
     "is_executing": false
    }
   }
  },
  {
   "cell_type": "code",
   "execution_count": 17,
   "outputs": [
    {
     "data": {
      "text/plain": "             title        publisher\n0  Typowa Książka1  Cool Publisher1\n1  Typowa Książka2  Cool Publisher2\n2  Typowa Książka3  Cool Publisher3",
      "text/html": "<div>\n<style scoped>\n    .dataframe tbody tr th:only-of-type {\n        vertical-align: middle;\n    }\n\n    .dataframe tbody tr th {\n        vertical-align: top;\n    }\n\n    .dataframe thead th {\n        text-align: right;\n    }\n</style>\n<table border=\"1\" class=\"dataframe\">\n  <thead>\n    <tr style=\"text-align: right;\">\n      <th></th>\n      <th>title</th>\n      <th>publisher</th>\n    </tr>\n  </thead>\n  <tbody>\n    <tr>\n      <td>0</td>\n      <td>Typowa Książka1</td>\n      <td>Cool Publisher1</td>\n    </tr>\n    <tr>\n      <td>1</td>\n      <td>Typowa Książka2</td>\n      <td>Cool Publisher2</td>\n    </tr>\n    <tr>\n      <td>2</td>\n      <td>Typowa Książka3</td>\n      <td>Cool Publisher3</td>\n    </tr>\n  </tbody>\n</table>\n</div>"
     },
     "metadata": {},
     "output_type": "execute_result",
     "execution_count": 17
    }
   ],
   "source": [
    "books[books.columns[:2]]"
   ],
   "metadata": {
    "collapsed": false,
    "pycharm": {
     "name": "#%%\n",
     "is_executing": false
    }
   }
  },
  {
   "cell_type": "code",
   "execution_count": 20,
   "outputs": [
    {
     "name": "stderr",
     "text": [
      "C:\\Anaconda3\\lib\\site-packages\\ipykernel_launcher.py:1: SettingWithCopyWarning: \n",
      "A value is trying to be set on a copy of a slice from a DataFrame\n",
      "\n",
      "See the caveats in the documentation: http://pandas.pydata.org/pandas-docs/stable/user_guide/indexing.html#returning-a-view-versus-a-copy\n",
      "  \"\"\"Entry point for launching an IPython kernel.\n"
     ],
     "output_type": "stream"
    },
    {
     "data": {
      "text/plain": "             title        publisher  year  pages\n0  Typowa Książka1  Cool Publisher1  2000    254\n1  Typowa Książka2  Cool Publisher2  1999    115\n2  Typowa Książka3  Cool Publisher3  1997    354",
      "text/html": "<div>\n<style scoped>\n    .dataframe tbody tr th:only-of-type {\n        vertical-align: middle;\n    }\n\n    .dataframe tbody tr th {\n        vertical-align: top;\n    }\n\n    .dataframe thead th {\n        text-align: right;\n    }\n</style>\n<table border=\"1\" class=\"dataframe\">\n  <thead>\n    <tr style=\"text-align: right;\">\n      <th></th>\n      <th>title</th>\n      <th>publisher</th>\n      <th>year</th>\n      <th>pages</th>\n    </tr>\n  </thead>\n  <tbody>\n    <tr>\n      <td>0</td>\n      <td>Typowa Książka1</td>\n      <td>Cool Publisher1</td>\n      <td>2000</td>\n      <td>254</td>\n    </tr>\n    <tr>\n      <td>1</td>\n      <td>Typowa Książka2</td>\n      <td>Cool Publisher2</td>\n      <td>1999</td>\n      <td>115</td>\n    </tr>\n    <tr>\n      <td>2</td>\n      <td>Typowa Książka3</td>\n      <td>Cool Publisher3</td>\n      <td>1997</td>\n      <td>354</td>\n    </tr>\n  </tbody>\n</table>\n</div>"
     },
     "metadata": {},
     "output_type": "execute_result",
     "execution_count": 20
    }
   ],
   "source": [
    "books[\"year\"][0] = 2000\n",
    "assert books[\"year\"][0] == 2000\n",
    "books"
   ],
   "metadata": {
    "collapsed": false,
    "pycharm": {
     "name": "#%%\n",
     "is_executing": false
    }
   }
  },
  {
   "cell_type": "code",
   "execution_count": 22,
   "outputs": [],
   "source": [
    "try:\n",
    "    books.to_excel(\"books_to_file.xlsx\", sheet_name='Books')\n",
    "except ImportError as e:\n",
    "    print(e)"
   ],
   "metadata": {
    "collapsed": false,
    "pycharm": {
     "name": "#%%\n",
     "is_executing": false
    }
   }
  }
 ],
 "metadata": {
  "kernelspec": {
   "display_name": "Python 3",
   "language": "python",
   "name": "python3"
  },
  "language_info": {
   "codemirror_mode": {
    "name": "ipython",
    "version": 2
   },
   "file_extension": ".py",
   "mimetype": "text/x-python",
   "name": "python",
   "nbconvert_exporter": "python",
   "pygments_lexer": "ipython2",
   "version": "2.7.6"
  },
  "pycharm": {
   "stem_cell": {
    "cell_type": "raw",
    "source": [],
    "metadata": {
     "collapsed": false
    }
   }
  }
 },
 "nbformat": 4,
 "nbformat_minor": 0
}