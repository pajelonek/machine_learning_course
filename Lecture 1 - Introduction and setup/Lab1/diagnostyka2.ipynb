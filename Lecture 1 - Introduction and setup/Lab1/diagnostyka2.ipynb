{
  "nbformat": 4,
  "nbformat_minor": 0,
  "metadata": {
    "kernelspec": {
      "display_name": "Python 3",
      "language": "python",
      "name": "python3"
    },
    "language_info": {
      "codemirror_mode": {
        "name": "ipython",
        "version": 3
      },
      "file_extension": ".py",
      "mimetype": "text/x-python",
      "name": "python",
      "nbconvert_exporter": "python",
      "pygments_lexer": "ipython3",
      "version": "3.8.3"
    },
    "pycharm": {
      "stem_cell": {
        "cell_type": "raw",
        "source": [],
        "metadata": {
          "collapsed": false
        }
      }
    },
    "colab": {
      "name": "Kopia notatnika diagnostyka2.ipynb",
      "provenance": []
    },
    "accelerator": "GPU"
  },
  "cells": [
    {
      "cell_type": "markdown",
      "metadata": {
        "id": "VnFjokpD4W92"
      },
      "source": [
        "# Python"
      ]
    },
    {
      "cell_type": "code",
      "metadata": {
        "scrolled": true,
        "pycharm": {
          "is_executing": false
        },
        "colab": {
          "base_uri": "https://localhost:8080/"
        },
        "id": "lwSnyTCw4W98",
        "outputId": "a03a93c8-baa0-4d03-f83e-6903ee868001"
      },
      "source": [
        "import sys\n",
        "print(sys.version)"
      ],
      "execution_count": null,
      "outputs": [
        {
          "output_type": "stream",
          "text": [
            "3.7.10 (default, Feb 20 2021, 21:17:23) \n",
            "[GCC 7.5.0]\n"
          ],
          "name": "stdout"
        }
      ]
    },
    {
      "cell_type": "code",
      "metadata": {
        "pycharm": {
          "is_executing": false
        },
        "colab": {
          "base_uri": "https://localhost:8080/"
        },
        "id": "kewukqFt4W9-",
        "outputId": "6a751227-93c5-455c-ee8f-0d55d77775dc"
      },
      "source": [
        "sys.path"
      ],
      "execution_count": null,
      "outputs": [
        {
          "output_type": "execute_result",
          "data": {
            "text/plain": [
              "['',\n",
              " '/content',\n",
              " '/env/python',\n",
              " '/usr/lib/python37.zip',\n",
              " '/usr/lib/python3.7',\n",
              " '/usr/lib/python3.7/lib-dynload',\n",
              " '/usr/local/lib/python3.7/dist-packages',\n",
              " '/usr/lib/python3/dist-packages',\n",
              " '/usr/local/lib/python3.7/dist-packages/IPython/extensions',\n",
              " '/root/.ipython']"
            ]
          },
          "metadata": {
            "tags": []
          },
          "execution_count": 2
        }
      ]
    },
    {
      "cell_type": "code",
      "metadata": {
        "pycharm": {
          "is_executing": false
        },
        "colab": {
          "base_uri": "https://localhost:8080/"
        },
        "id": "VW_4IveE4W9-",
        "outputId": "7a7dd983-f746-4f6d-8a8a-a94f98d319e2"
      },
      "source": [
        "#ścieżki Pythona\n",
        "#PowerShell> $Env:PATH\n",
        "!py -m site\n",
        "print()\n",
        "!py -m site --user-site"
      ],
      "execution_count": null,
      "outputs": [
        {
          "output_type": "stream",
          "text": [
            "/bin/bash: py: command not found\n",
            "\n",
            "/bin/bash: py: command not found\n"
          ],
          "name": "stdout"
        }
      ]
    },
    {
      "cell_type": "code",
      "metadata": {
        "pycharm": {
          "is_executing": false
        },
        "colab": {
          "base_uri": "https://localhost:8080/"
        },
        "id": "IswGJPc14W9_",
        "outputId": "733d229a-0aa3-40d9-8ea1-18a50295ed1f"
      },
      "source": [
        "!python --version"
      ],
      "execution_count": null,
      "outputs": [
        {
          "output_type": "stream",
          "text": [
            "Python 3.7.10\n"
          ],
          "name": "stdout"
        }
      ]
    },
    {
      "cell_type": "code",
      "metadata": {
        "pycharm": {
          "is_executing": false
        },
        "colab": {
          "base_uri": "https://localhost:8080/"
        },
        "id": "exBrmDfd4W9_",
        "outputId": "e258266f-7a59-4ec5-8410-043257464a80"
      },
      "source": [
        "!python --help"
      ],
      "execution_count": null,
      "outputs": [
        {
          "output_type": "stream",
          "text": [
            "usage: python3 [option] ... [-c cmd | -m mod | file | -] [arg] ...\n",
            "Options and arguments (and corresponding environment variables):\n",
            "-b     : issue warnings about str(bytes_instance), str(bytearray_instance)\n",
            "         and comparing bytes/bytearray with str. (-bb: issue errors)\n",
            "-B     : don't write .pyc files on import; also PYTHONDONTWRITEBYTECODE=x\n",
            "-c cmd : program passed in as string (terminates option list)\n",
            "-d     : debug output from parser; also PYTHONDEBUG=x\n",
            "-E     : ignore PYTHON* environment variables (such as PYTHONPATH)\n",
            "-h     : print this help message and exit (also --help)\n",
            "-i     : inspect interactively after running script; forces a prompt even\n",
            "         if stdin does not appear to be a terminal; also PYTHONINSPECT=x\n",
            "-I     : isolate Python from the user's environment (implies -E and -s)\n",
            "-m mod : run library module as a script (terminates option list)\n",
            "-O     : remove assert and __debug__-dependent statements; add .opt-1 before\n",
            "         .pyc extension; also PYTHONOPTIMIZE=x\n",
            "-OO    : do -O changes and also discard docstrings; add .opt-2 before\n",
            "         .pyc extension\n",
            "-q     : don't print version and copyright messages on interactive startup\n",
            "-s     : don't add user site directory to sys.path; also PYTHONNOUSERSITE\n",
            "-S     : don't imply 'import site' on initialization\n",
            "-u     : force the stdout and stderr streams to be unbuffered;\n",
            "         this option has no effect on stdin; also PYTHONUNBUFFERED=x\n",
            "-v     : verbose (trace import statements); also PYTHONVERBOSE=x\n",
            "         can be supplied multiple times to increase verbosity\n",
            "-V     : print the Python version number and exit (also --version)\n",
            "         when given twice, print more information about the build\n",
            "-W arg : warning control; arg is action:message:category:module:lineno\n",
            "         also PYTHONWARNINGS=arg\n",
            "-x     : skip first line of source, allowing use of non-Unix forms of #!cmd\n",
            "-X opt : set implementation-specific option. The following options are available:\n",
            "\n",
            "         -X faulthandler: enable faulthandler\n",
            "         -X showrefcount: output the total reference count and number of used\n",
            "             memory blocks when the program finishes or after each statement in the\n",
            "             interactive interpreter. This only works on debug builds\n",
            "         -X tracemalloc: start tracing Python memory allocations using the\n",
            "             tracemalloc module. By default, only the most recent frame is stored in a\n",
            "             traceback of a trace. Use -X tracemalloc=NFRAME to start tracing with a\n",
            "             traceback limit of NFRAME frames\n",
            "         -X showalloccount: output the total count of allocated objects for each\n",
            "             type when the program finishes. This only works when Python was built with\n",
            "             COUNT_ALLOCS defined\n",
            "         -X importtime: show how long each import takes. It shows module name,\n",
            "             cumulative time (including nested imports) and self time (excluding\n",
            "             nested imports). Note that its output may be broken in multi-threaded\n",
            "             application. Typical usage is python3 -X importtime -c 'import asyncio'\n",
            "         -X dev: enable CPython’s “development mode”, introducing additional runtime\n",
            "             checks which are too expensive to be enabled by default. Effect of the\n",
            "             developer mode:\n",
            "                * Add default warning filter, as -W default\n",
            "                * Install debug hooks on memory allocators: see the PyMem_SetupDebugHooks() C function\n",
            "                * Enable the faulthandler module to dump the Python traceback on a crash\n",
            "                * Enable asyncio debug mode\n",
            "                * Set the dev_mode attribute of sys.flags to True\n",
            "         -X utf8: enable UTF-8 mode for operating system interfaces, overriding the default\n",
            "             locale-aware mode. -X utf8=0 explicitly disables UTF-8 mode (even when it would\n",
            "             otherwise activate automatically)\n",
            "\n",
            "--check-hash-based-pycs always|default|never:\n",
            "    control how Python invalidates hash-based .pyc files\n",
            "file   : program read from script file\n",
            "-      : program read from stdin (default; interactive mode if a tty)\n",
            "arg ...: arguments passed to program in sys.argv[1:]\n",
            "\n",
            "Other environment variables:\n",
            "PYTHONSTARTUP: file executed on interactive startup (no default)\n",
            "PYTHONPATH   : ':'-separated list of directories prefixed to the\n",
            "               default module search path.  The result is sys.path.\n",
            "PYTHONHOME   : alternate <prefix> directory (or <prefix>:<exec_prefix>).\n",
            "               The default module search path uses <prefix>/lib/pythonX.X.\n",
            "PYTHONCASEOK : ignore case in 'import' statements (Windows).\n",
            "PYTHONUTF8: if set to 1, enable the UTF-8 mode.\n",
            "PYTHONIOENCODING: Encoding[:errors] used for stdin/stdout/stderr.\n",
            "PYTHONFAULTHANDLER: dump the Python traceback on fatal errors.\n",
            "PYTHONHASHSEED: if this variable is set to 'random', a random value is used\n",
            "   to seed the hashes of str, bytes and datetime objects.  It can also be\n",
            "   set to an integer in the range [0,4294967295] to get hash values with a\n",
            "   predictable seed.\n",
            "PYTHONMALLOC: set the Python memory allocators and/or install debug hooks\n",
            "   on Python memory allocators. Use PYTHONMALLOC=debug to install debug\n",
            "   hooks.\n",
            "PYTHONCOERCECLOCALE: if this variable is set to 0, it disables the locale\n",
            "   coercion behavior. Use PYTHONCOERCECLOCALE=warn to request display of\n",
            "   locale coercion and locale compatibility warnings on stderr.\n",
            "PYTHONBREAKPOINT: if this variable is set to 0, it disables the default\n",
            "   debugger. It can be set to the callable of your debugger of choice.\n",
            "PYTHONDEVMODE: enable the development mode.\n"
          ],
          "name": "stdout"
        }
      ]
    },
    {
      "cell_type": "code",
      "metadata": {
        "pycharm": {
          "is_executing": false
        },
        "colab": {
          "base_uri": "https://localhost:8080/"
        },
        "id": "Frr_Cn3R4W-A",
        "outputId": "5d9f78a8-fe44-4164-c7de-a2642f767414"
      },
      "source": [
        "%%time\n",
        "\n",
        "\n",
        "i=0;\n",
        "for i in range(0,1000000):\n",
        "    i=i+i"
      ],
      "execution_count": null,
      "outputs": [
        {
          "output_type": "stream",
          "text": [
            "CPU times: user 124 ms, sys: 0 ns, total: 124 ms\n",
            "Wall time: 126 ms\n"
          ],
          "name": "stdout"
        }
      ]
    },
    {
      "cell_type": "code",
      "metadata": {
        "pycharm": {
          "name": "#%% \n",
          "is_executing": false
        },
        "colab": {
          "base_uri": "https://localhost:8080/"
        },
        "id": "9l32yksa4W-A",
        "outputId": "6f0dc1d2-5fbd-42fa-ebc5-39797c71274c"
      },
      "source": [
        "import os\n",
        "#zmiana katalogu\n",
        "\n",
        "os.listdir()\n",
        "#os.chdir(\"..\")\n",
        "#os.chdir(\"coś/innego\")\n",
        "#os.chdir(\"Kod PL\")"
      ],
      "execution_count": null,
      "outputs": [
        {
          "output_type": "execute_result",
          "data": {
            "text/plain": [
              "['.config', 'sample_data']"
            ]
          },
          "metadata": {
            "tags": []
          },
          "execution_count": 8
        }
      ]
    },
    {
      "cell_type": "markdown",
      "metadata": {
        "pycharm": {
          "is_executing": false,
          "name": "#%% md\n"
        },
        "id": "N0rP6EzU4W-B"
      },
      "source": [
        "pip install \"SomeProject\"\n",
        "pip install \"SomeProject==1.4\"\n",
        "pip install \"SomeProject>=1,<2\"\n",
        "pip install \"SomeProject~=1.4.2\"\t#any version \"==1.4.*\" version that’s also \">=1.4.2\"\n",
        "\n",
        "-upgrade\n",
        "pip install --upgrade SomeProject\n",
        "\n",
        "opcja --user\n",
        "-to install packages that are isolated to the current user\n",
        "-has no effect when inside a virtual environment\n",
        "-if SomeProject defines any command-line scripts or console entry points, it will cause them to be installed\n",
        " inside the user base’s binary directory, which may or may not already be present in your shell’s PATH.\n",
        " If the scripts are not available in your shell after installation, you’ll need to add the directory to your PATH\n",
        "pip install --user [--upgrade] SomeProject\n",
        "\n",
        "\n",
        "-requirements files: are files containing a list of items to be installed using pip install\n",
        "pip install -r requirements.txt\n",
        "\n",
        "-for repeatable installation\n",
        "pip freeze > requirements.txt\n",
        "pip install -r requirements.txt\n",
        "\n",
        "-installing from VCS\n",
        "pip install -e git+https://git.repo/some_pkg.git#egg=SomeProject          # from git\n",
        "pip install -e git+https://git.repo/some_pkg.git@feature#egg=SomeProject  # from a branch\n",
        "\n",
        "-install from an alternate index\n",
        "pip install --index-url http://my.package.repo/simple/ SomeProject\n",
        "-search an additional index during install, in addition to PyPI\n",
        "pip install --extra-index-url http://my.package.repo/simple SomeProject\n",
        "\n",
        "\n",
        "-installing from local src in Development Mode, i.e. in such a way that the project appears to be installed, \n",
        " but yet is still editable from the src tree:\n",
        "pip install -e <path>\n",
        "\n",
        "-you can also install normally from src\n",
        "pip install <path>\n",
        "\n",
        "-installing from local archives\n",
        "pip install ./downloads/SomeProject-1.0.4.tar.gz\n",
        "\n",
        "-install from a local directory containing archives (and don’t check PyPI)\n",
        "pip install --no-index --find-links=file:///local/dir/ SomeProject\n",
        "pip install --no-index --find-links=/local/dir/ SomeProject\n",
        "pip install --no-index --find-links=relative/dir/ SomeProject\n",
        "\n",
        "-installing Prereleases (by default, pip only finds stable versions)\n",
        "pip install --pre SomeProject\n",
        "\n",
        "-installing from wheel lokally\n",
        "pip install C:/some-dir/some-file.whl"
      ]
    },
    {
      "cell_type": "code",
      "metadata": {
        "pycharm": {
          "is_executing": false
        },
        "colab": {
          "base_uri": "https://localhost:8080/"
        },
        "id": "wElyX3eS4W-B",
        "outputId": "e78d5604-885e-4014-d2c5-ab765e068c49"
      },
      "source": [
        "#wywołania:\n",
        "# pip = pip3 = python -m pip = python -3.8 -m pip\n",
        "!pip --version"
      ],
      "execution_count": null,
      "outputs": [
        {
          "output_type": "stream",
          "text": [
            "pip 19.3.1 from /usr/local/lib/python3.7/dist-packages/pip (python 3.7)\n"
          ],
          "name": "stdout"
        }
      ]
    },
    {
      "cell_type": "code",
      "metadata": {
        "pycharm": {
          "is_executing": false
        },
        "colab": {
          "base_uri": "https://localhost:8080/"
        },
        "id": "fElaDTsP4W-C",
        "outputId": "b974d2c6-2491-41dc-f4f3-071f5a7ec42d"
      },
      "source": [
        "#wszystkie zainstalowane pakiety\n",
        "!pip list"
      ],
      "execution_count": null,
      "outputs": [
        {
          "output_type": "stream",
          "text": [
            "Package                       Version       \n",
            "----------------------------- --------------\n",
            "absl-py                       0.10.0        \n",
            "alabaster                     0.7.12        \n",
            "albumentations                0.1.12        \n",
            "altair                        4.1.0         \n",
            "appdirs                       1.4.4         \n",
            "argon2-cffi                   20.1.0        \n",
            "asgiref                       3.3.1         \n",
            "astor                         0.8.1         \n",
            "astropy                       4.2           \n",
            "astunparse                    1.6.3         \n",
            "async-generator               1.10          \n",
            "atari-py                      0.2.6         \n",
            "atomicwrites                  1.4.0         \n",
            "attrs                         20.3.0        \n",
            "audioread                     2.1.9         \n",
            "autograd                      1.3           \n",
            "Babel                         2.9.0         \n",
            "backcall                      0.2.0         \n",
            "beautifulsoup4                4.6.3         \n",
            "bleach                        3.3.0         \n",
            "blis                          0.4.1         \n",
            "bokeh                         2.1.1         \n",
            "Bottleneck                    1.3.2         \n",
            "branca                        0.4.2         \n",
            "bs4                           0.0.1         \n",
            "CacheControl                  0.12.6        \n",
            "cachetools                    4.2.1         \n",
            "catalogue                     1.0.0         \n",
            "certifi                       2020.12.5     \n",
            "cffi                          1.14.5        \n",
            "chainer                       7.4.0         \n",
            "chardet                       3.0.4         \n",
            "click                         7.1.2         \n",
            "cloudpickle                   1.3.0         \n",
            "cmake                         3.12.0        \n",
            "cmdstanpy                     0.9.5         \n",
            "colorlover                    0.3.0         \n",
            "community                     1.0.0b1       \n",
            "contextlib2                   0.5.5         \n",
            "convertdate                   2.3.1         \n",
            "coverage                      3.7.1         \n",
            "coveralls                     0.5           \n",
            "crcmod                        1.7           \n",
            "cufflinks                     0.17.3        \n",
            "cvxopt                        1.2.6         \n",
            "cvxpy                         1.0.31        \n",
            "cycler                        0.10.0        \n",
            "cymem                         2.0.5         \n",
            "Cython                        0.29.22       \n",
            "daft                          0.0.4         \n",
            "dask                          2.12.0        \n",
            "datascience                   0.10.6        \n",
            "debugpy                       1.0.0         \n",
            "decorator                     4.4.2         \n",
            "defusedxml                    0.7.1         \n",
            "descartes                     1.1.0         \n",
            "dill                          0.3.3         \n",
            "distributed                   1.25.3        \n",
            "Django                        3.1.7         \n",
            "dlib                          19.18.0       \n",
            "dm-tree                       0.1.5         \n",
            "docopt                        0.6.2         \n",
            "docutils                      0.16          \n",
            "dopamine-rl                   1.0.5         \n",
            "earthengine-api               0.1.255       \n",
            "easydict                      1.9           \n",
            "ecos                          2.0.7.post1   \n",
            "editdistance                  0.5.3         \n",
            "en-core-web-sm                2.2.5         \n",
            "entrypoints                   0.3           \n",
            "ephem                         3.7.7.1       \n",
            "et-xmlfile                    1.0.1         \n",
            "fa2                           0.3.5         \n",
            "fancyimpute                   0.4.3         \n",
            "fastai                        1.0.61        \n",
            "fastdtw                       0.3.4         \n",
            "fastprogress                  1.0.0         \n",
            "fastrlock                     0.5           \n",
            "fbprophet                     0.7.1         \n",
            "feather-format                0.4.1         \n",
            "filelock                      3.0.12        \n",
            "firebase-admin                4.4.0         \n",
            "fix-yahoo-finance             0.0.22        \n",
            "Flask                         1.1.2         \n",
            "flatbuffers                   1.12          \n",
            "folium                        0.8.3         \n",
            "future                        0.16.0        \n",
            "gast                          0.3.3         \n",
            "GDAL                          2.2.2         \n",
            "gdown                         3.6.4         \n",
            "gensim                        3.6.0         \n",
            "geographiclib                 1.50          \n",
            "geopy                         1.17.0        \n",
            "gin-config                    0.4.0         \n",
            "glob2                         0.7           \n",
            "google                        2.0.3         \n",
            "google-api-core               1.26.1        \n",
            "google-api-python-client      1.12.8        \n",
            "google-auth                   1.27.1        \n",
            "google-auth-httplib2          0.0.4         \n",
            "google-auth-oauthlib          0.4.3         \n",
            "google-cloud-bigquery         1.21.0        \n",
            "google-cloud-bigquery-storage 1.1.0         \n",
            "google-cloud-core             1.0.3         \n",
            "google-cloud-datastore        1.8.0         \n",
            "google-cloud-firestore        1.7.0         \n",
            "google-cloud-language         1.2.0         \n",
            "google-cloud-storage          1.18.1        \n",
            "google-cloud-translate        1.5.0         \n",
            "google-colab                  1.0.0         \n",
            "google-pasta                  0.2.0         \n",
            "google-resumable-media        0.4.1         \n",
            "googleapis-common-protos      1.53.0        \n",
            "googledrivedownloader         0.4           \n",
            "graphviz                      0.10.1        \n",
            "grpcio                        1.32.0        \n",
            "gspread                       3.0.1         \n",
            "gspread-dataframe             3.0.8         \n",
            "gym                           0.17.3        \n",
            "h5py                          2.10.0        \n",
            "HeapDict                      1.0.1         \n",
            "hijri-converter               2.1.1         \n",
            "holidays                      0.10.5.2      \n",
            "holoviews                     1.13.5        \n",
            "html5lib                      1.0.1         \n",
            "httpimport                    0.5.18        \n",
            "httplib2                      0.17.4        \n",
            "httplib2shim                  0.0.3         \n",
            "humanize                      0.5.1         \n",
            "hyperopt                      0.1.2         \n",
            "ideep4py                      2.0.0.post3   \n",
            "idna                          2.10          \n",
            "image                         1.5.33        \n",
            "imageio                       2.4.1         \n",
            "imagesize                     1.2.0         \n",
            "imbalanced-learn              0.4.3         \n",
            "imblearn                      0.0           \n",
            "imgaug                        0.2.9         \n",
            "importlib-metadata            3.7.2         \n",
            "importlib-resources           5.1.2         \n",
            "imutils                       0.5.4         \n",
            "inflect                       2.1.0         \n",
            "iniconfig                     1.1.1         \n",
            "intel-openmp                  2021.1.2      \n",
            "intervaltree                  2.1.0         \n",
            "ipykernel                     4.10.1        \n",
            "ipython                       5.5.0         \n",
            "ipython-genutils              0.2.0         \n",
            "ipython-sql                   0.3.9         \n",
            "ipywidgets                    7.6.3         \n",
            "itsdangerous                  1.1.0         \n",
            "jax                           0.2.10        \n",
            "jaxlib                        0.1.62+cuda110\n",
            "jdcal                         1.4.1         \n",
            "jedi                          0.18.0        \n",
            "jieba                         0.42.1        \n",
            "Jinja2                        2.11.3        \n",
            "joblib                        1.0.1         \n",
            "jpeg4py                       0.1.4         \n",
            "jsonschema                    2.6.0         \n",
            "jupyter                       1.0.0         \n",
            "jupyter-client                5.3.5         \n",
            "jupyter-console               5.2.0         \n",
            "jupyter-core                  4.7.1         \n",
            "jupyterlab-pygments           0.1.2         \n",
            "jupyterlab-widgets            1.0.0         \n",
            "kaggle                        1.5.10        \n",
            "kapre                         0.1.3.1       \n",
            "Keras                         2.4.3         \n",
            "Keras-Preprocessing           1.1.2         \n",
            "keras-vis                     0.4.1         \n",
            "kiwisolver                    1.3.1         \n",
            "knnimpute                     0.1.0         \n",
            "korean-lunar-calendar         0.2.1         \n",
            "librosa                       0.8.0         \n",
            "lightgbm                      2.2.3         \n",
            "llvmlite                      0.34.0        \n",
            "lmdb                          0.99          \n",
            "lucid                         0.3.8         \n",
            "LunarCalendar                 0.0.9         \n",
            "lxml                          4.2.6         \n",
            "Markdown                      3.3.4         \n",
            "MarkupSafe                    1.1.1         \n",
            "matplotlib                    3.2.2         \n",
            "matplotlib-venn               0.11.6        \n",
            "missingno                     0.4.2         \n",
            "mistune                       0.8.4         \n",
            "mizani                        0.6.0         \n",
            "mkl                           2019.0        \n",
            "mlxtend                       0.14.0        \n",
            "more-itertools                8.7.0         \n",
            "moviepy                       0.2.3.5       \n",
            "mpmath                        1.2.1         \n",
            "msgpack                       1.0.2         \n",
            "multiprocess                  0.70.11.1     \n",
            "multitasking                  0.0.9         \n",
            "murmurhash                    1.0.5         \n",
            "music21                       5.5.0         \n",
            "natsort                       5.5.0         \n",
            "nbclient                      0.5.3         \n",
            "nbconvert                     5.6.1         \n",
            "nbformat                      5.1.2         \n",
            "nest-asyncio                  1.5.1         \n",
            "networkx                      2.5           \n",
            "nibabel                       3.0.2         \n",
            "nltk                          3.2.5         \n",
            "notebook                      5.3.1         \n",
            "np-utils                      0.5.12.1      \n",
            "numba                         0.51.2        \n",
            "numexpr                       2.7.3         \n",
            "numpy                         1.19.5        \n",
            "nvidia-ml-py3                 7.352.0       \n",
            "oauth2client                  4.1.3         \n",
            "oauthlib                      3.1.0         \n",
            "okgrade                       0.4.3         \n",
            "opencv-contrib-python         4.1.2.30      \n",
            "opencv-python                 4.1.2.30      \n",
            "openpyxl                      2.5.9         \n",
            "opt-einsum                    3.3.0         \n",
            "osqp                          0.6.2.post0   \n",
            "packaging                     20.9          \n",
            "palettable                    3.3.0         \n",
            "pandas                        1.1.5         \n",
            "pandas-datareader             0.9.0         \n",
            "pandas-gbq                    0.13.3        \n",
            "pandas-profiling              1.4.1         \n",
            "pandocfilters                 1.4.3         \n",
            "panel                         0.9.7         \n",
            "param                         1.10.1        \n",
            "parso                         0.8.1         \n",
            "pathlib                       1.0.1         \n",
            "patsy                         0.5.1         \n",
            "pexpect                       4.8.0         \n",
            "pickleshare                   0.7.5         \n",
            "Pillow                        7.0.0         \n",
            "pip                           19.3.1        \n",
            "pip-tools                     4.5.1         \n",
            "plac                          1.1.3         \n",
            "plotly                        4.4.1         \n",
            "plotnine                      0.6.0         \n",
            "pluggy                        0.7.1         \n",
            "pooch                         1.3.0         \n",
            "portpicker                    1.3.1         \n",
            "prefetch-generator            1.0.1         \n",
            "preshed                       3.0.5         \n",
            "prettytable                   2.1.0         \n",
            "progressbar2                  3.38.0        \n",
            "prometheus-client             0.9.0         \n",
            "promise                       2.3           \n",
            "prompt-toolkit                1.0.18        \n",
            "protobuf                      3.12.4        \n",
            "psutil                        5.4.8         \n",
            "psycopg2                      2.7.6.1       \n",
            "ptyprocess                    0.7.0         \n",
            "py                            1.10.0        \n",
            "pyarrow                       3.0.0         \n",
            "pyasn1                        0.4.8         \n",
            "pyasn1-modules                0.2.8         \n",
            "pycocotools                   2.0.2         \n",
            "pycparser                     2.20          \n",
            "pyct                          0.4.8         \n",
            "pydata-google-auth            1.1.0         \n",
            "pydot                         1.3.0         \n",
            "pydot-ng                      2.0.0         \n",
            "pydotplus                     2.0.2         \n",
            "PyDrive                       1.3.1         \n",
            "pyemd                         0.5.1         \n",
            "pyerfa                        1.7.2         \n",
            "pyglet                        1.5.0         \n",
            "Pygments                      2.6.1         \n",
            "pygobject                     3.26.1        \n",
            "pymc3                         3.7           \n",
            "PyMeeus                       0.5.9         \n",
            "pymongo                       3.11.3        \n",
            "pymystem3                     0.2.0         \n",
            "pynndescent                   0.5.2         \n",
            "PyOpenGL                      3.1.5         \n",
            "pyparsing                     2.4.7         \n",
            "pyrsistent                    0.17.3        \n",
            "pysndfile                     1.3.8         \n",
            "PySocks                       1.7.1         \n",
            "pystan                        2.19.1.1      \n",
            "pytest                        3.6.4         \n",
            "python-apt                    0.0.0         \n",
            "python-chess                  0.23.11       \n",
            "python-dateutil               2.8.1         \n",
            "python-louvain                0.15          \n",
            "python-slugify                4.0.1         \n",
            "python-utils                  2.5.6         \n",
            "pytz                          2018.9        \n",
            "pyviz-comms                   2.0.1         \n",
            "PyWavelets                    1.1.1         \n",
            "PyYAML                        3.13          \n",
            "pyzmq                         22.0.3        \n",
            "qdldl                         0.1.5.post0   \n",
            "qtconsole                     5.0.3         \n",
            "QtPy                          1.9.0         \n",
            "regex                         2019.12.20    \n",
            "requests                      2.23.0        \n",
            "requests-oauthlib             1.3.0         \n",
            "resampy                       0.2.2         \n",
            "retrying                      1.3.3         \n",
            "rpy2                          3.4.2         \n",
            "rsa                           4.7.2         \n",
            "scikit-image                  0.16.2        \n",
            "scikit-learn                  0.22.2.post1  \n",
            "scipy                         1.4.1         \n",
            "screen-resolution-extra       0.0.0         \n",
            "scs                           2.1.2         \n",
            "seaborn                       0.11.1        \n",
            "Send2Trash                    1.5.0         \n",
            "setuptools                    54.1.2        \n",
            "setuptools-git                1.2           \n",
            "Shapely                       1.7.1         \n",
            "simplegeneric                 0.8.1         \n",
            "six                           1.15.0        \n",
            "sklearn                       0.0           \n",
            "sklearn-pandas                1.8.0         \n",
            "smart-open                    4.2.0         \n",
            "snowballstemmer               2.1.0         \n",
            "sortedcontainers              2.3.0         \n",
            "SoundFile                     0.10.3.post1  \n",
            "spacy                         2.2.4         \n",
            "Sphinx                        1.8.5         \n",
            "sphinxcontrib-serializinghtml 1.1.4         \n",
            "sphinxcontrib-websupport      1.2.4         \n",
            "SQLAlchemy                    1.3.23        \n",
            "sqlparse                      0.4.1         \n",
            "srsly                         1.0.5         \n",
            "statsmodels                   0.10.2        \n",
            "sympy                         1.7.1         \n",
            "tables                        3.4.4         \n",
            "tabulate                      0.8.9         \n",
            "tblib                         1.7.0         \n",
            "tensorboard                   2.4.1         \n",
            "tensorboard-plugin-wit        1.8.0         \n",
            "tensorflow                    2.4.1         \n",
            "tensorflow-datasets           4.0.1         \n",
            "tensorflow-estimator          2.4.0         \n",
            "tensorflow-gcs-config         2.4.0         \n",
            "tensorflow-hub                0.11.0        \n",
            "tensorflow-metadata           0.28.0        \n",
            "tensorflow-probability        0.12.1        \n",
            "termcolor                     1.1.0         \n",
            "terminado                     0.9.2         \n",
            "testpath                      0.4.4         \n",
            "text-unidecode                1.3           \n",
            "textblob                      0.15.3        \n",
            "textgenrnn                    1.4.1         \n",
            "Theano                        1.0.5         \n",
            "thinc                         7.4.0         \n",
            "tifffile                      2021.3.17     \n",
            "toml                          0.10.2        \n",
            "toolz                         0.11.1        \n",
            "torch                         1.8.0+cu101   \n",
            "torchsummary                  1.5.1         \n",
            "torchtext                     0.9.0         \n",
            "torchvision                   0.9.0+cu101   \n",
            "tornado                       5.1.1         \n",
            "tqdm                          4.41.1        \n",
            "traitlets                     5.0.5         \n",
            "tweepy                        3.10.0        \n",
            "typeguard                     2.7.1         \n",
            "typing-extensions             3.7.4.3       \n",
            "tzlocal                       1.5.1         \n",
            "umap-learn                    0.5.1         \n",
            "uritemplate                   3.0.1         \n",
            "urllib3                       1.24.3        \n",
            "vega-datasets                 0.9.0         \n",
            "wasabi                        0.8.2         \n",
            "wcwidth                       0.2.5         \n",
            "webencodings                  0.5.1         \n",
            "Werkzeug                      1.0.1         \n",
            "wheel                         0.36.2        \n",
            "widgetsnbextension            3.5.1         \n",
            "wordcloud                     1.5.0         \n",
            "wrapt                         1.12.1        \n",
            "xarray                        0.15.1        \n",
            "xgboost                       0.90          \n",
            "xkit                          0.0.0         \n",
            "xlrd                          1.1.0         \n",
            "xlwt                          1.3.0         \n",
            "yellowbrick                   0.9.1         \n",
            "zict                          2.0.0         \n",
            "zipp                          3.4.1         \n"
          ],
          "name": "stdout"
        }
      ]
    },
    {
      "cell_type": "markdown",
      "metadata": {
        "pycharm": {
          "name": "#%% md\n"
        },
        "id": "7AuljGpn4W-C"
      },
      "source": [
        "!pip3 show numpy"
      ]
    },
    {
      "cell_type": "code",
      "metadata": {
        "pycharm": {
          "is_executing": false
        },
        "colab": {
          "base_uri": "https://localhost:8080/"
        },
        "id": "N8_zIJ2v4W-C",
        "outputId": "9ba20416-2df9-4157-9289-9d4242d9ad36"
      },
      "source": [
        "#!pip install numpy\n",
        "#!pip install --upgrade numpy\n",
        "#!pip install --user --upgrade numpy  #jeśli nie admin\n",
        "!pip show numpy"
      ],
      "execution_count": null,
      "outputs": [
        {
          "output_type": "stream",
          "text": [
            "Name: numpy\n",
            "Version: 1.19.5\n",
            "Summary: NumPy is the fundamental package for array computing with Python.\n",
            "Home-page: https://www.numpy.org\n",
            "Author: Travis E. Oliphant et al.\n",
            "Author-email: None\n",
            "License: BSD\n",
            "Location: /usr/local/lib/python3.7/dist-packages\n",
            "Requires: \n",
            "Required-by: yellowbrick, xgboost, xarray, wordcloud, umap-learn, torchvision, torchtext, torch, tifffile, thinc, Theano, tensorflow, tensorflow-probability, tensorflow-hub, tensorflow-datasets, tensorboard, tables, statsmodels, spacy, sklearn-pandas, seaborn, scs, scipy, scikit-learn, resampy, qdldl, PyWavelets, python-louvain, pystan, pysndfile, pymc3, pyerfa, pyemd, pyarrow, plotnine, patsy, pandas, osqp, opt-einsum, opencv-python, opencv-contrib-python, numexpr, numba, np-utils, nibabel, moviepy, mlxtend, mizani, missingno, matplotlib, matplotlib-venn, lucid, lightgbm, librosa, knnimpute, Keras, Keras-Preprocessing, kapre, jpeg4py, jaxlib, jax, imgaug, imbalanced-learn, imageio, hyperopt, holoviews, h5py, gym, gensim, folium, fix-yahoo-finance, fbprophet, fastprogress, fastdtw, fastai, fancyimpute, fa2, ecos, daft, cvxpy, cufflinks, cmdstanpy, chainer, Bottleneck, bokeh, blis, autograd, atari-py, astropy, altair, albumentations\n"
          ],
          "name": "stdout"
        }
      ]
    },
    {
      "cell_type": "code",
      "metadata": {
        "pycharm": {
          "is_executing": false
        },
        "colab": {
          "base_uri": "https://localhost:8080/"
        },
        "id": "MWv_M1dP4W-D",
        "outputId": "f58d07ae-8d0c-4297-f44d-abc468bf1309"
      },
      "source": [
        "!pip3 show pandas"
      ],
      "execution_count": null,
      "outputs": [
        {
          "output_type": "stream",
          "text": [
            "Name: pandas\n",
            "Version: 1.1.5\n",
            "Summary: Powerful data structures for data analysis, time series, and statistics\n",
            "Home-page: https://pandas.pydata.org\n",
            "Author: None\n",
            "Author-email: None\n",
            "License: BSD\n",
            "Location: /usr/local/lib/python3.7/dist-packages\n",
            "Requires: pytz, python-dateutil, numpy\n",
            "Required-by: xarray, vega-datasets, statsmodels, sklearn-pandas, seaborn, pymc3, plotnine, pandas-profiling, pandas-gbq, pandas-datareader, mlxtend, mizani, holoviews, gspread-dataframe, google-colab, fix-yahoo-finance, fbprophet, fastai, cufflinks, cmdstanpy, altair\n"
          ],
          "name": "stdout"
        }
      ]
    },
    {
      "cell_type": "code",
      "metadata": {
        "scrolled": true,
        "pycharm": {
          "is_executing": false
        },
        "colab": {
          "base_uri": "https://localhost:8080/"
        },
        "id": "C-MnV_Ia4W-D",
        "outputId": "ccd208c9-6826-4958-d62f-45639eeaf5a4"
      },
      "source": [
        "!pip3 show scikit-image"
      ],
      "execution_count": null,
      "outputs": [
        {
          "output_type": "stream",
          "text": [
            "Name: scikit-image\n",
            "Version: 0.16.2\n",
            "Summary: Image processing routines for SciPy\n",
            "Home-page: https://scikit-image.org\n",
            "Author: None\n",
            "Author-email: None\n",
            "License: Modified BSD\n",
            "Location: /usr/local/lib/python3.7/dist-packages\n",
            "Requires: imageio, matplotlib, networkx, pillow, PyWavelets, scipy\n",
            "Required-by: keras-vis, imgaug\n"
          ],
          "name": "stdout"
        }
      ]
    },
    {
      "cell_type": "code",
      "metadata": {
        "pycharm": {
          "is_executing": false
        },
        "colab": {
          "base_uri": "https://localhost:8080/"
        },
        "id": "zXdnVOZ_4W-D",
        "outputId": "113e421a-2cef-4516-d598-848a69b901ae"
      },
      "source": [
        "!pip3 show SciPy"
      ],
      "execution_count": null,
      "outputs": [
        {
          "output_type": "stream",
          "text": [
            "Name: scipy\n",
            "Version: 1.4.1\n",
            "Summary: SciPy: Scientific Library for Python\n",
            "Home-page: https://www.scipy.org\n",
            "Author: None\n",
            "Author-email: None\n",
            "License: BSD\n",
            "Location: /usr/local/lib/python3.7/dist-packages\n",
            "Requires: numpy\n",
            "Required-by: yellowbrick, xgboost, umap-learn, Theano, statsmodels, sklearn-pandas, seaborn, scs, scikit-learn, scikit-image, resampy, qdldl, pynndescent, pymc3, plotnine, osqp, mlxtend, missingno, matplotlib-venn, lucid, lightgbm, librosa, Keras, jaxlib, imgaug, imbalanced-learn, hyperopt, gym, gensim, fastai, fancyimpute, fa2, ecos, cvxpy, albumentations\n"
          ],
          "name": "stdout"
        }
      ]
    },
    {
      "cell_type": "code",
      "metadata": {
        "pycharm": {
          "is_executing": false
        },
        "colab": {
          "base_uri": "https://localhost:8080/"
        },
        "id": "DTvYAcK_4W-D",
        "outputId": "b0c4ce56-bbd3-412d-f675-611f8ed46a3e"
      },
      "source": [
        "!pip show Pillow"
      ],
      "execution_count": null,
      "outputs": [
        {
          "output_type": "stream",
          "text": [
            "Name: Pillow\n",
            "Version: 7.0.0\n",
            "Summary: Python Imaging Library (Fork)\n",
            "Home-page: https://python-pillow.org\n",
            "Author: Alex Clark (PIL Fork Author)\n",
            "Author-email: aclark@python-pillow.org\n",
            "License: HPND\n",
            "Location: /usr/local/lib/python3.7/dist-packages\n",
            "Requires: \n",
            "Required-by: wordcloud, torchvision, scikit-image, lucid, imgaug, imageio, image, fastai, bokeh\n"
          ],
          "name": "stdout"
        }
      ]
    },
    {
      "cell_type": "markdown",
      "metadata": {
        "id": "d6blSNiB4W-D"
      },
      "source": [
        "# Jupyter"
      ]
    },
    {
      "cell_type": "markdown",
      "metadata": {
        "id": "RaJkIca-4W-E"
      },
      "source": [
        "Jupyter notebook:\n",
        "-can contain both code and rich text elements, such as figures, links, equations\n",
        "-supports many languages\n",
        "-Jupyter Notebook App allows you to edit and run your notebooks via a web browser\n",
        "-two main components: the kernels and a dashboard\n",
        "-a kernel is a program that runs and introspects the user’s code\n",
        " The Jupyter Notebook App has a kernel for Python code, but there are also kernels available for other programming languages\n",
        "-the dashboard of the application: shows you the notebook documents, manage the kernels\n",
        "-IPython is now the name of the Python backend, which is also known as the kernel"
      ]
    },
    {
      "cell_type": "code",
      "metadata": {
        "pycharm": {
          "is_executing": false
        },
        "id": "lykDLMyQ4W-E"
      },
      "source": [
        "#instalacja:\n",
        "#!pip install jupyter"
      ],
      "execution_count": null,
      "outputs": []
    },
    {
      "cell_type": "code",
      "metadata": {
        "pycharm": {
          "is_executing": false
        },
        "colab": {
          "base_uri": "https://localhost:8080/"
        },
        "id": "ZgNfMsaX4W-E",
        "outputId": "e7926a7c-17af-4ffc-99b5-0ba7efa99fcd"
      },
      "source": [
        "!jupyter --version"
      ],
      "execution_count": null,
      "outputs": [
        {
          "output_type": "stream",
          "text": [
            "jupyter core     : 4.5.0\n",
            "jupyter-notebook : 5.2.2\n",
            "qtconsole        : 4.5.2\n",
            "ipython          : 5.5.0\n",
            "ipykernel        : 4.10.1\n",
            "jupyter client   : 5.3.1\n",
            "jupyter lab      : not installed\n",
            "nbconvert        : 5.5.0\n",
            "ipywidgets       : 7.5.0\n",
            "nbformat         : 4.4.0\n",
            "traitlets        : 4.3.2\n"
          ],
          "name": "stdout"
        }
      ]
    },
    {
      "cell_type": "code",
      "metadata": {
        "pycharm": {
          "is_executing": false
        },
        "id": "G9bWh_LY4W-E"
      },
      "source": [
        "#diagnostyka\n",
        "\n",
        "#w konsoli, skąd opalamy notebooka\n",
        "#jupyter notebook --debug > log.file 2>&1\n",
        "#lub tak:\n",
        "#!ipykernel kernel --debug > log.file 2>&1"
      ],
      "execution_count": null,
      "outputs": []
    },
    {
      "cell_type": "code",
      "metadata": {
        "pycharm": {
          "is_executing": false
        },
        "id": "_sGCK-iF4W-F"
      },
      "source": [
        "#odpalenie w jupyterze struktury katalogów\n",
        "#w przeglądarce:\n",
        "#http://localhost:8888/tree"
      ],
      "execution_count": null,
      "outputs": []
    },
    {
      "cell_type": "markdown",
      "metadata": {
        "id": "t8DJ8vqr4W-F"
      },
      "source": [
        "# virtualenv"
      ]
    },
    {
      "cell_type": "code",
      "metadata": {
        "pycharm": {
          "is_executing": false
        },
        "id": "Rv78lpEu4W-F"
      },
      "source": [
        "#!py -3.8 -m pip install -U pip virtualenv"
      ],
      "execution_count": null,
      "outputs": []
    },
    {
      "cell_type": "code",
      "metadata": {
        "pycharm": {
          "is_executing": false
        },
        "colab": {
          "base_uri": "https://localhost:8080/"
        },
        "id": "boUZDwAX4W-F",
        "outputId": "5e0f5a99-6f3b-46be-8d14-091d0bf764b3"
      },
      "source": [
        "!virtualenv --version"
      ],
      "execution_count": null,
      "outputs": [
        {
          "output_type": "stream",
          "text": [
            "/bin/bash: virtualenv: command not found\n"
          ],
          "name": "stdout"
        }
      ]
    },
    {
      "cell_type": "code",
      "metadata": {
        "pycharm": {
          "is_executing": false
        },
        "colab": {
          "base_uri": "https://localhost:8080/"
        },
        "id": "DJV4xkK74W-F",
        "outputId": "794890a8-94d7-4956-aeec-9608095666e3"
      },
      "source": [
        "!virtualenv -h"
      ],
      "execution_count": null,
      "outputs": [
        {
          "output_type": "stream",
          "text": [
            "/bin/bash: virtualenv: command not found\n"
          ],
          "name": "stdout"
        }
      ]
    },
    {
      "cell_type": "markdown",
      "metadata": {
        "id": "vxu1AfCY4W-G"
      },
      "source": [
        "#INSTALACJA PHYTONA W ŚRODOWISKU WIRTUALNYM (np. aby zainstalować osobno kilka wersji)\n",
        "#parametry instalacji: interpreter, katalog\n",
        "\n",
        "#!virtualenv --python=\"C:\\Program Files\\Python36\\python.exe\" \"C:\\Users\\user\\virtualenv\\virtA\"\n",
        "\n",
        "użycie: (tylko w cmd ponieważ w PowerShell mimo manipulacji polisami bezpieczeństwa nie działa)\n",
        "\n",
        "cd \"C:\\Users\\user\\virtualenv\\virtA\"\n",
        "cd Scripts\n",
        "activate.bat\n",
        "\n",
        "(virtA) pip --version\n",
        "(virtA) ...              #inne polecenia jak w konsoli pythona\n",
        "\n",
        "(virtA) .\\Scripts\\deactivate.bat"
      ]
    },
    {
      "cell_type": "markdown",
      "metadata": {
        "id": "N4ZuI6DB4W-G"
      },
      "source": [
        "# CUDA & CUDNN"
      ]
    },
    {
      "cell_type": "markdown",
      "metadata": {
        "id": "sUEvdX2k4W-G"
      },
      "source": [
        "CUDA\n",
        "zinstalować CUDA 10.1: zasadniczo jest potrzebne tylko bin, include, lib\n",
        "\n",
        "CUDANN\n",
        "rozpakować zip i skopiować zawartość do katalogu CUDA\n",
        "\n",
        "kompatybilność (https://docs.nvidia.com/cuda/cuda-installation-guide-microsoft-windows/)\n",
        "                                                                   cudnn CUDA\n",
        "tensorflow_gpu-2.2.0   3.5-3.8   MSVC 2019   Bazel 2.0.0           7.4   10.1\n",
        "tensorflow_gpu-2.1.0   3.5-3.7   MSVC 2019   Bazel 0.27.1-0.29.1   7.4   10.1\n",
        "tensorflow_gpu-2.0.0   3.5-3.7   MSVC 2017   Bazel 0.26.1          7.4   10"
      ]
    },
    {
      "cell_type": "code",
      "metadata": {
        "pycharm": {
          "is_executing": false
        },
        "colab": {
          "base_uri": "https://localhost:8080/"
        },
        "id": "9yUabkQZ4W-G",
        "outputId": "79b7b85e-9774-4967-c403-5967c985ad8e"
      },
      "source": [
        "!nvcc --version"
      ],
      "execution_count": null,
      "outputs": [
        {
          "output_type": "stream",
          "text": [
            "nvcc: NVIDIA (R) Cuda compiler driver\n",
            "Copyright (c) 2005-2020 NVIDIA Corporation\n",
            "Built on Wed_Jul_22_19:09:09_PDT_2020\n",
            "Cuda compilation tools, release 11.0, V11.0.221\n",
            "Build cuda_11.0_bu.TC445_37.28845127_0\n"
          ],
          "name": "stdout"
        }
      ]
    },
    {
      "cell_type": "code",
      "metadata": {
        "pycharm": {
          "is_executing": false
        },
        "colab": {
          "base_uri": "https://localhost:8080/"
        },
        "id": "Q7dn_pa_4W-G",
        "outputId": "79653013-6d5a-43d7-90cf-4971f9895c31"
      },
      "source": [
        "!nvidia-smi"
      ],
      "execution_count": null,
      "outputs": [
        {
          "output_type": "stream",
          "text": [
            "Fri Mar 26 00:18:23 2021       \n",
            "+-----------------------------------------------------------------------------+\n",
            "| NVIDIA-SMI 460.56       Driver Version: 460.32.03    CUDA Version: 11.2     |\n",
            "|-------------------------------+----------------------+----------------------+\n",
            "| GPU  Name        Persistence-M| Bus-Id        Disp.A | Volatile Uncorr. ECC |\n",
            "| Fan  Temp  Perf  Pwr:Usage/Cap|         Memory-Usage | GPU-Util  Compute M. |\n",
            "|                               |                      |               MIG M. |\n",
            "|===============================+======================+======================|\n",
            "|   0  Tesla T4            Off  | 00000000:00:04.0 Off |                    0 |\n",
            "| N/A   43C    P8    10W /  70W |      0MiB / 15109MiB |      0%      Default |\n",
            "|                               |                      |                  N/A |\n",
            "+-------------------------------+----------------------+----------------------+\n",
            "                                                                               \n",
            "+-----------------------------------------------------------------------------+\n",
            "| Processes:                                                                  |\n",
            "|  GPU   GI   CI        PID   Type   Process name                  GPU Memory |\n",
            "|        ID   ID                                                   Usage      |\n",
            "|=============================================================================|\n",
            "|  No running processes found                                                 |\n",
            "+-----------------------------------------------------------------------------+\n"
          ],
          "name": "stdout"
        }
      ]
    },
    {
      "cell_type": "code",
      "metadata": {
        "pycharm": {
          "is_executing": false
        },
        "id": "-JgarJ2B4W-H"
      },
      "source": [
        "#WIN 10: W przypadku błędów dotyczących bibliotek CUDA lub BLAS, a także tensorFlow_gpu i numpy, \n",
        "#    a związanych z niekompatybilnością z modułem bezpieczeństwa Windows 10 (kompilacja 2004, 20H2)\n",
        "#    można spróbować następujących środków:\n",
        "#!pip3 uninstall numpy\n",
        "#!pip3 install numpy==1.19.3"
      ],
      "execution_count": null,
      "outputs": []
    },
    {
      "cell_type": "markdown",
      "metadata": {
        "id": "4l-MzV-14W-H"
      },
      "source": [
        "# Tensorflow"
      ]
    },
    {
      "cell_type": "markdown",
      "metadata": {
        "id": "D1qk6jy74W-H"
      },
      "source": [
        "Keras jest teraz częścią TensorFlow\n",
        "\n",
        "1.   Element listy\n",
        "2.   Element listy\n",
        "\n"
      ]
    },
    {
      "cell_type": "code",
      "metadata": {
        "pycharm": {
          "is_executing": false
        },
        "id": "M746DIxI4W-H"
      },
      "source": [
        "#!pip install tensorflow_gpu==2.2\n",
        "#!pip3 install --upgrade tensorflow-gpu\n",
        "\n",
        "#overwrite the cache of the previous version and install the new version\n",
        "#!pip3 install --no-cache-dir -I tensorflow==2.2"
      ],
      "execution_count": null,
      "outputs": []
    },
    {
      "cell_type": "code",
      "metadata": {
        "pycharm": {
          "is_executing": false
        },
        "colab": {
          "base_uri": "https://localhost:8080/"
        },
        "id": "qxHarWZp4W-H",
        "outputId": "e2cbed06-9c11-46be-b800-45e2e04d4da1"
      },
      "source": [
        "#!pip show tensorflow-gpu\n",
        "#!pip show tensorflow_gpu  #tak też chodzi\n",
        "import tensorflow as tf\n",
        "gpus = tf.config.list_physical_devices('GPU')\n",
        "if gpus:\n",
        "  try:\n",
        "    # Currently, memory growth needs to be the same across GPUs\n",
        "    for gpu in gpus:\n",
        "      tf.config.experimental.set_memory_growth(gpu, True)\n",
        "    logical_gpus = tf.config.experimental.list_logical_devices('GPU')\n",
        "    print(len(gpus), \"Physical GPUs,\", len(logical_gpus), \"Logical GPUs\")\n",
        "  except RuntimeError as e:\n",
        "    # Memory growth must be set before GPUs have been initialized\n",
        "    print(e)"
      ],
      "execution_count": null,
      "outputs": [
        {
          "output_type": "stream",
          "text": [
            "1 Physical GPUs, 1 Logical GPUs\n"
          ],
          "name": "stdout"
        }
      ]
    },
    {
      "cell_type": "code",
      "metadata": {
        "pycharm": {
          "is_executing": false
        },
        "colab": {
          "base_uri": "https://localhost:8080/"
        },
        "id": "THN2xesI4W-I",
        "outputId": "10aa7f5a-1556-44d3-a7f3-12bc66ac79be"
      },
      "source": [
        "!pip show tensorflow-cpu\n",
        "#!pip show tensorflow_cpu"
      ],
      "execution_count": null,
      "outputs": [
        {
          "output_type": "stream",
          "text": [
            "\u001b[33mWARNING: Package(s) not found: tensorflow-cpu\u001b[0m\n"
          ],
          "name": "stdout"
        }
      ]
    },
    {
      "cell_type": "code",
      "metadata": {
        "pycharm": {
          "is_executing": false
        },
        "colab": {
          "base_uri": "https://localhost:8080/"
        },
        "id": "7Yrf0FkV4W-I",
        "outputId": "662a0e2c-8719-47de-8c0b-f041082991f3"
      },
      "source": [
        "!pip3 show tensorflow"
      ],
      "execution_count": null,
      "outputs": [
        {
          "output_type": "stream",
          "text": [
            "Name: tensorflow\n",
            "Version: 2.4.1\n",
            "Summary: TensorFlow is an open source machine learning framework for everyone.\n",
            "Home-page: https://www.tensorflow.org/\n",
            "Author: Google Inc.\n",
            "Author-email: packages@tensorflow.org\n",
            "License: Apache 2.0\n",
            "Location: /usr/local/lib/python3.7/dist-packages\n",
            "Requires: astunparse, wrapt, grpcio, termcolor, gast, typing-extensions, tensorboard, absl-py, numpy, google-pasta, flatbuffers, opt-einsum, tensorflow-estimator, h5py, protobuf, keras-preprocessing, six, wheel\n",
            "Required-by: fancyimpute\n"
          ],
          "name": "stdout"
        }
      ]
    },
    {
      "cell_type": "code",
      "metadata": {
        "pycharm": {
          "is_executing": false
        },
        "colab": {
          "base_uri": "https://localhost:8080/"
        },
        "id": "0WmhP6Fs4W-I",
        "outputId": "70d04af0-50bd-4d38-ecfb-fbd9dcfe86f4"
      },
      "source": [
        "import tensorflow as tf\n",
        "print(tf.__version__)"
      ],
      "execution_count": null,
      "outputs": [
        {
          "output_type": "stream",
          "text": [
            "2.4.1\n"
          ],
          "name": "stdout"
        }
      ]
    },
    {
      "cell_type": "code",
      "metadata": {
        "pycharm": {
          "is_executing": false
        },
        "colab": {
          "base_uri": "https://localhost:8080/"
        },
        "id": "hiRbe4W-4W-I",
        "outputId": "89967be4-dcc7-4e20-871b-eb6a95fc94a9"
      },
      "source": [
        "!py -m tensorflow --version"
      ],
      "execution_count": null,
      "outputs": [
        {
          "output_type": "stream",
          "text": [
            "/bin/bash: py: command not found\n"
          ],
          "name": "stdout"
        }
      ]
    },
    {
      "cell_type": "code",
      "metadata": {
        "pycharm": {
          "is_executing": false
        },
        "colab": {
          "base_uri": "https://localhost:8080/"
        },
        "id": "1ycWt-v54W-I",
        "outputId": "09c21c55-be7e-4162-afb0-10f143b8da05"
      },
      "source": [
        "import tensorflow as tf\n",
        "tf.executing_eagerly()"
      ],
      "execution_count": null,
      "outputs": [
        {
          "output_type": "execute_result",
          "data": {
            "text/plain": [
              "True"
            ]
          },
          "metadata": {
            "tags": []
          },
          "execution_count": 20
        }
      ]
    },
    {
      "cell_type": "code",
      "metadata": {
        "pycharm": {
          "is_executing": false
        },
        "colab": {
          "base_uri": "https://localhost:8080/"
        },
        "id": "6rTYSZac4W-I",
        "outputId": "2ab39ff1-0956-4a27-c7e5-d6f97e59e57a"
      },
      "source": [
        "import tensorflow as tf\n",
        "tf.test.is_gpu_available()"
      ],
      "execution_count": null,
      "outputs": [
        {
          "output_type": "stream",
          "text": [
            "WARNING:tensorflow:From <ipython-input-21-4a3f57d5652e>:2: is_gpu_available (from tensorflow.python.framework.test_util) is deprecated and will be removed in a future version.\n",
            "Instructions for updating:\n",
            "Use `tf.config.list_physical_devices('GPU')` instead.\n"
          ],
          "name": "stdout"
        },
        {
          "output_type": "execute_result",
          "data": {
            "text/plain": [
              "True"
            ]
          },
          "metadata": {
            "tags": []
          },
          "execution_count": 21
        }
      ]
    },
    {
      "cell_type": "code",
      "metadata": {
        "pycharm": {
          "is_executing": false
        },
        "colab": {
          "base_uri": "https://localhost:8080/"
        },
        "id": "jCqeDq-94W-J",
        "outputId": "bbe88093-02dd-4f64-bd34-2fc329db7a5c"
      },
      "source": [
        "import tensorflow as tf\n",
        "print(tf.test.gpu_device_name())"
      ],
      "execution_count": null,
      "outputs": [
        {
          "output_type": "stream",
          "text": [
            "/device:GPU:0\n"
          ],
          "name": "stdout"
        }
      ]
    },
    {
      "cell_type": "code",
      "metadata": {
        "pycharm": {
          "is_executing": false
        },
        "colab": {
          "base_uri": "https://localhost:8080/"
        },
        "id": "UdUb8aMx4W-J",
        "outputId": "ee07dfaf-1bad-424b-91f7-fde5c8d3d59c"
      },
      "source": [
        "import tensorflow as tf\n",
        "tf.config.list_physical_devices()"
      ],
      "execution_count": null,
      "outputs": [
        {
          "output_type": "execute_result",
          "data": {
            "text/plain": [
              "[PhysicalDevice(name='/physical_device:CPU:0', device_type='CPU'),\n",
              " PhysicalDevice(name='/physical_device:GPU:0', device_type='GPU')]"
            ]
          },
          "metadata": {
            "tags": []
          },
          "execution_count": 23
        }
      ]
    },
    {
      "cell_type": "code",
      "metadata": {
        "pycharm": {
          "is_executing": false
        },
        "colab": {
          "base_uri": "https://localhost:8080/"
        },
        "id": "fHe_-9ZF4W-J",
        "outputId": "68f72d8d-3dfb-4e18-8bdd-ed9200250e7f"
      },
      "source": [
        "import tensorflow as tf\n",
        "tf.config.experimental.list_physical_devices()"
      ],
      "execution_count": null,
      "outputs": [
        {
          "output_type": "execute_result",
          "data": {
            "text/plain": [
              "[PhysicalDevice(name='/physical_device:CPU:0', device_type='CPU'),\n",
              " PhysicalDevice(name='/physical_device:GPU:0', device_type='GPU')]"
            ]
          },
          "metadata": {
            "tags": []
          },
          "execution_count": 24
        }
      ]
    },
    {
      "cell_type": "code",
      "metadata": {
        "pycharm": {
          "is_executing": false
        },
        "colab": {
          "base_uri": "https://localhost:8080/"
        },
        "id": "qmF62t4w4W-J",
        "outputId": "2edbf854-420e-4413-93a8-d03032bd79b1"
      },
      "source": [
        "from tensorflow.python.client import device_lib\n",
        "print(device_lib.list_local_devices())"
      ],
      "execution_count": null,
      "outputs": [
        {
          "output_type": "stream",
          "text": [
            "[name: \"/device:CPU:0\"\n",
            "device_type: \"CPU\"\n",
            "memory_limit: 268435456\n",
            "locality {\n",
            "}\n",
            "incarnation: 9593106697092194697\n",
            ", name: \"/device:GPU:0\"\n",
            "device_type: \"GPU\"\n",
            "memory_limit: 14674281152\n",
            "locality {\n",
            "  bus_id: 1\n",
            "  links {\n",
            "  }\n",
            "}\n",
            "incarnation: 11865028486512308093\n",
            "physical_device_desc: \"device: 0, name: Tesla T4, pci bus id: 0000:00:04.0, compute capability: 7.5\"\n",
            "]\n"
          ],
          "name": "stdout"
        }
      ]
    },
    {
      "cell_type": "code",
      "metadata": {
        "pycharm": {
          "is_executing": false
        },
        "colab": {
          "base_uri": "https://localhost:8080/"
        },
        "id": "xFfhWD2H4W-J",
        "outputId": "c8dd468b-a32f-49c1-ff09-164f308ec7c2"
      },
      "source": [
        "#A second method for getting devices:\n",
        "from tensorflow.python.client import device_lib\n",
        "print([device.name for device in device_lib.list_local_devices() if device.name != None])"
      ],
      "execution_count": null,
      "outputs": [
        {
          "output_type": "stream",
          "text": [
            "['/device:CPU:0', '/device:GPU:0']\n"
          ],
          "name": "stdout"
        }
      ]
    },
    {
      "cell_type": "code",
      "metadata": {
        "pycharm": {
          "is_executing": false
        },
        "colab": {
          "base_uri": "https://localhost:8080/"
        },
        "id": "bBZNL62M4W-J",
        "outputId": "3b9a5fb4-c960-47bd-a7e0-5b820bd7072a"
      },
      "source": [
        "#test GPU vs. CPU\n",
        "import tensorflow as tf\n",
        "import timeit\n",
        "\n",
        "device_name = tf.test.gpu_device_name()\n",
        "if device_name != '/device:GPU:0':\n",
        "    print('\\n\\nThis error most likely means that this notebook is not '\n",
        "          'configured to use a GPU.  Change this in Notebook Settings via the '\n",
        "          'command palette (cmd/ctrl-shift-P) or the Edit menu.\\n\\n')\n",
        "    raise SystemError('GPU device not found')\n",
        "\n",
        "def cpu():\n",
        "    with tf.device('/cpu:0'):\n",
        "        random_image_cpu = tf.random.normal((100, 100, 100, 3))\n",
        "        net_cpu = tf.keras.layers.Conv2D(32, 7)(random_image_cpu)\n",
        "    return tf.math.reduce_sum(net_cpu)\n",
        "\n",
        "def gpu():\n",
        "    with tf.device('/device:GPU:0'):\n",
        "        random_image_gpu = tf.random.normal((100, 100, 100, 3))\n",
        "        net_gpu = tf.keras.layers.Conv2D(32, 7)(random_image_gpu)\n",
        "    return tf.math.reduce_sum(net_gpu)\n",
        "  \n",
        "# warm up\n",
        "cpu()\n",
        "gpu()\n",
        "\n",
        "# Run the op several times.\n",
        "print('Time (s) to convolve 32x7x7x3 filter over random 100x100x100x3 images '\n",
        "      '(batch x height x width x channel). Sum of ten runs.')\n",
        "print('CPU (s):')\n",
        "cpu_time = timeit.timeit('cpu()', number=10, setup=\"from __main__ import cpu\")\n",
        "print(cpu_time)\n",
        "print('GPU (s):')\n",
        "gpu_time = timeit.timeit('gpu()', number=10, setup=\"from __main__ import gpu\")\n",
        "print(gpu_time)\n",
        "print('GPU speedup over CPU: {}x'.format(int(cpu_time/gpu_time)))"
      ],
      "execution_count": null,
      "outputs": [
        {
          "output_type": "stream",
          "text": [
            "Time (s) to convolve 32x7x7x3 filter over random 100x100x100x3 images (batch x height x width x channel). Sum of ten runs.\n",
            "CPU (s):\n",
            "3.002002411000035\n",
            "GPU (s):\n",
            "0.040773897999997644\n",
            "GPU speedup over CPU: 73x\n"
          ],
          "name": "stdout"
        }
      ]
    },
    {
      "cell_type": "code",
      "metadata": {
        "pycharm": {
          "is_executing": false
        },
        "colab": {
          "base_uri": "https://localhost:8080/"
        },
        "id": "6rctTSJM4W-K",
        "outputId": "415a7296-2b4c-4826-f1a4-c0d7422cdee0"
      },
      "source": [
        "!pip show tensorboard"
      ],
      "execution_count": null,
      "outputs": [
        {
          "output_type": "stream",
          "text": [
            "Name: tensorboard\n",
            "Version: 2.4.1\n",
            "Summary: TensorBoard lets you watch Tensors Flow\n",
            "Home-page: https://github.com/tensorflow/tensorboard\n",
            "Author: Google Inc.\n",
            "Author-email: packages@tensorflow.org\n",
            "License: Apache 2.0\n",
            "Location: /usr/local/lib/python3.7/dist-packages\n",
            "Requires: wheel, setuptools, numpy, google-auth, grpcio, six, absl-py, tensorboard-plugin-wit, google-auth-oauthlib, protobuf, requests, werkzeug, markdown\n",
            "Required-by: tensorflow\n"
          ],
          "name": "stdout"
        }
      ]
    },
    {
      "cell_type": "markdown",
      "metadata": {
        "id": "k9MQXadY4W-L"
      },
      "source": [
        "# PyTorch"
      ]
    },
    {
      "cell_type": "code",
      "metadata": {
        "scrolled": true,
        "pycharm": {
          "is_executing": false
        },
        "id": "nIIfuveh4W-L"
      },
      "source": [
        "#konfigurator wersji: https://pytorch.org/get-started/locally/\n",
        "#powstałą komendę instalacyjną skopiować do cmd i uruchomić\n",
        "\n",
        "#przykłady:\n",
        "#!pip install https://download.pytorch.org/whl/cpu/torch-1.1.0-cp36-cp36m-win_amd64.whl\n",
        "\n",
        "#Instalacja Torch (1.4 nie chodzi z CUDA 10.1):\n",
        "#pip install torch===1.5.0+cu101 torchvision===0.6.0+cu101 -f https://download.pytorch.org/whl/torch_stable.html"
      ],
      "execution_count": null,
      "outputs": []
    },
    {
      "cell_type": "code",
      "metadata": {
        "pycharm": {
          "is_executing": false
        },
        "colab": {
          "base_uri": "https://localhost:8080/"
        },
        "id": "DXSS2xXx4W-L",
        "outputId": "3820b088-5a8c-43f5-ab44-37246051901c"
      },
      "source": [
        "!pip show torch"
      ],
      "execution_count": null,
      "outputs": [
        {
          "output_type": "stream",
          "text": [
            "Name: torch\n",
            "Version: 1.8.0+cu101\n",
            "Summary: Tensors and Dynamic neural networks in Python with strong GPU acceleration\n",
            "Home-page: https://pytorch.org/\n",
            "Author: PyTorch Team\n",
            "Author-email: packages@pytorch.org\n",
            "License: BSD-3\n",
            "Location: /usr/local/lib/python3.7/dist-packages\n",
            "Requires: numpy, typing-extensions\n",
            "Required-by: torchvision, torchtext, fastai\n"
          ],
          "name": "stdout"
        }
      ]
    },
    {
      "cell_type": "code",
      "metadata": {
        "scrolled": false,
        "pycharm": {
          "is_executing": false
        },
        "colab": {
          "base_uri": "https://localhost:8080/"
        },
        "id": "Wpx7zG2I4W-M",
        "outputId": "92ff8301-0131-408c-b664-2f5e96083881"
      },
      "source": [
        "#!pip install torchvision\n",
        "!pip show torchvision"
      ],
      "execution_count": null,
      "outputs": [
        {
          "output_type": "stream",
          "text": [
            "Name: torchvision\n",
            "Version: 0.9.0+cu101\n",
            "Summary: image and video datasets and models for torch deep learning\n",
            "Home-page: https://github.com/pytorch/vision\n",
            "Author: PyTorch Core Team\n",
            "Author-email: soumith@pytorch.org\n",
            "License: BSD\n",
            "Location: /usr/local/lib/python3.7/dist-packages\n",
            "Requires: numpy, pillow, torch\n",
            "Required-by: fastai\n"
          ],
          "name": "stdout"
        }
      ]
    },
    {
      "cell_type": "code",
      "metadata": {
        "pycharm": {
          "is_executing": false
        },
        "colab": {
          "base_uri": "https://localhost:8080/"
        },
        "id": "4FKnXQ8Q4W-M",
        "outputId": "3afa3cc3-bf22-4691-a659-8c936ca35337"
      },
      "source": [
        "import torch\n",
        "torch.backends.cudnn.enabled"
      ],
      "execution_count": null,
      "outputs": [
        {
          "output_type": "execute_result",
          "data": {
            "text/plain": [
              "True"
            ]
          },
          "metadata": {
            "tags": []
          },
          "execution_count": 31
        }
      ]
    },
    {
      "cell_type": "code",
      "metadata": {
        "pycharm": {
          "is_executing": false
        },
        "colab": {
          "base_uri": "https://localhost:8080/"
        },
        "id": "w7kuBIKX4W-M",
        "outputId": "bd71cead-b835-4553-8daf-48717c9edcce"
      },
      "source": [
        "import torch\n",
        "torch.cuda.is_available()"
      ],
      "execution_count": null,
      "outputs": [
        {
          "output_type": "execute_result",
          "data": {
            "text/plain": [
              "True"
            ]
          },
          "metadata": {
            "tags": []
          },
          "execution_count": 32
        }
      ]
    },
    {
      "cell_type": "code",
      "metadata": {
        "pycharm": {
          "is_executing": false
        },
        "colab": {
          "base_uri": "https://localhost:8080/"
        },
        "id": "JeVR1RXd4W-N",
        "outputId": "379f415a-12d0-4040-a2f5-8e9424331625"
      },
      "source": [
        "import torch\n",
        "print(torch.version.cuda)"
      ],
      "execution_count": null,
      "outputs": [
        {
          "output_type": "stream",
          "text": [
            "10.1\n"
          ],
          "name": "stdout"
        }
      ]
    },
    {
      "cell_type": "markdown",
      "metadata": {
        "id": "6GU5Zbkq4W-N"
      },
      "source": [
        "# konwersja typów"
      ]
    },
    {
      "cell_type": "markdown",
      "metadata": {
        "id": "gm-Vnqfo4W-N"
      },
      "source": [
        "╔══════════════════════════╦═══════════════════════════════╦════════════════════╦═════════════════════════╗\n",
        "║        Data type         ║             dtype             ║     CPU tensor     ║       GPU tensor        ║\n",
        "╠══════════════════════════╬═══════════════════════════════╬════════════════════╬═════════════════════════╣\n",
        "║ 32-bit floating point    ║ torch.float32 or torch.float  ║ torch.FloatTensor  ║ torch.cuda.FloatTensor  ║\n",
        "║ 64-bit floating point    ║ torch.float64 or torch.double ║ torch.DoubleTensor ║ torch.cuda.DoubleTensor ║\n",
        "║ 16-bit floating point    ║ torch.float16 or torch.half   ║ torch.HalfTensor   ║ torch.cuda.HalfTensor   ║\n",
        "║ 8-bit integer (unsigned) ║ torch.uint8                   ║ torch.ByteTensor   ║ torch.cuda.ByteTensor   ║\n",
        "║ 8-bit integer (signed)   ║ torch.int8                    ║ torch.CharTensor   ║ torch.cuda.CharTensor   ║\n",
        "║ 16-bit integer (signed)  ║ torch.int16 or torch.short    ║ torch.ShortTensor  ║ torch.cuda.ShortTensor  ║\n",
        "║ 32-bit integer (signed)  ║ torch.int32 or torch.int      ║ torch.IntTensor    ║ torch.cuda.IntTensor    ║\n",
        "║ 64-bit integer (signed)  ║ torch.int64 or torch.long     ║ torch.LongTensor   ║ torch.cuda.LongTensor   ║\n",
        "║ Boolean                  ║ torch.bool                    ║ torch.BoolTensor   ║ torch.cuda.BoolTensor   ║\n",
        "╚══════════════════════════╩═══════════════════════════════╩════════════════════╩═════════════════════════╝"
      ]
    }
  ]
}