{
 "cells": [
  {
   "cell_type": "markdown",
   "source": [
    "## Author: Paweł Jelonek <br> Date: 20.05.2021\n",
    "### Machine learning course:<br> Lecture 3 - Learning scheme + metrics"
   ],
   "metadata": {
    "collapsed": false
   }
  },
  {
   "cell_type": "code",
   "execution_count": null,
   "outputs": [],
   "source": [
    "import pandas as pd\n",
    "import numpy as np\n",
    "from matplotlib import pyplot as plt\n",
    "\n",
    "plt.rcParams[\"figure.figsize\"]=(20, 10)"
   ],
   "metadata": {
    "collapsed": false,
    "pycharm": {
     "name": "#%%\n"
    }
   }
  },
  {
   "cell_type": "markdown",
   "source": [
    "###\t1. Zakodować schemat uczenia\n",
    "<ol type=\"a\">\n",
    "  <li>Hold-out: (b/duże zbiory danych) jednokrotny podział na część treningową i testową. Wyliczane są\n",
    "  jednokrotnie metryki na zbiorze testowym.</li>\n",
    "  <li>k-fold CV (Cross-Validation): (średnie zbiory danych) k-krotna walidacja krzyżowa czyli k-krotny podział\n",
    "  zbioru (domyślnie k=10) i uczenie/testowanie wg. schematu: (k-1)-części do uczenia, jedna wyłączona część do\n",
    "  testowania. Obliczane metryki są uśredniane po wszystkich iteracjach.</li>\n",
    "  <li>LOO (Leave-One-Out): (b/małe zbiory danych) walidacja krzyżowa, w której k=(liczba danych). Oznacza to\n",
    "  wyłączenie w każdej iteracji jednego przykładu do testowania i uczenie na pozostałych. Metryki obliczone w każdej\n",
    "   iteracji są uśredniane.</li>\n",
    "</ol>"
   ],
   "metadata": {
    "collapsed": false,
    "pycharm": {
     "name": "#%% md\n"
    }
   }
  },
  {
   "cell_type": "code",
   "execution_count": null,
   "outputs": [],
   "source": [],
   "metadata": {
    "collapsed": false,
    "pycharm": {
     "name": "#%%\n"
    }
   }
  },
  {
   "cell_type": "markdown",
   "source": [
    "### 2.\tW metodzie Hold-out i k-fold CV powinna być możliwość sparametryzowania:\n",
    "<ol type=\"a\">\n",
    "    <li>metody przydziału do zbioru testowego: losowo lub wg. naturalnej kolejności danych</li>\n",
    "    <li>klas objętych schematem: wszystkie lub wybrane (np. wg. nazwy/indeksu)</li>\n",
    "</ol>\n",
    "\n",
    "### 3.\tW metodzie LOO powinna być możliwość sparametryzowania klas objętych schematem: wszystkie lub wybrane (np. wg. nazwy/indeksu).\n",
    "\n",
    "### 4.\tZademonstrować działanie przygotowanego schematu (podział, liczność zbiorów) na dowolnym zbiorze danych przeznaczonym do klasyfikacji np. Iris (https://archive.ics.uci.edu/ml/machine-learning-databases/iris/). Sama metoda uczenia/testowania może być pusta."
   ],
   "metadata": {
    "collapsed": false,
    "pycharm": {
     "name": "#%% md\n"
    }
   }
  }
 ],
 "metadata": {
  "kernelspec": {
   "display_name": "Python 3",
   "language": "python",
   "name": "python3"
  },
  "language_info": {
   "codemirror_mode": {
    "name": "ipython",
    "version": 3
   },
   "file_extension": ".py",
   "mimetype": "text/x-python",
   "name": "python",
   "nbconvert_exporter": "python",
   "pygments_lexer": "ipython3",
   "version": "3.8.8"
  }
 },
 "nbformat": 4,
 "nbformat_minor": 1
}